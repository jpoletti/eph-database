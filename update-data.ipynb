{
 "cells": [
  {
   "cell_type": "code",
   "execution_count": 1,
   "metadata": {},
   "outputs": [],
   "source": [
    "from update_data_functions import *\n",
    "from common_functions import save_dataframe_as_zip"
   ]
  },
  {
   "cell_type": "code",
   "execution_count": 2,
   "metadata": {},
   "outputs": [
    {
     "data": {
      "text/plain": [
       "'24-1T'"
      ]
     },
     "execution_count": 2,
     "metadata": {},
     "output_type": "execute_result"
    }
   ],
   "source": [
    "with open('last_known_quarter.txt') as f:\n",
    "    last_known_quarter = f.read()\n",
    "\n",
    "last_known_quarter"
   ]
  },
  {
   "cell_type": "code",
   "execution_count": 3,
   "metadata": {},
   "outputs": [
    {
     "data": {
      "text/plain": [
       "{'24-2T': 'https://www.indec.gob.ar/ftp/cuadros/menusuperior/eph/EPH_usu_2_Trim_2024_txt.zip',\n",
       " '24-3T': 'https://www.indec.gob.ar/ftp/cuadros/menusuperior/eph/EPH_usu_3_Trim_2024_txt.zip',\n",
       " '24-4T': 'https://www.indec.gob.ar/ftp/cuadros/menusuperior/eph/EPH_usu_4_Trim_2024_txt.zip',\n",
       " '25-1T': 'https://www.indec.gob.ar/ftp/cuadros/menusuperior/eph/EPH_usu_1_Trim_2025_txt.zip'}"
      ]
     },
     "execution_count": 3,
     "metadata": {},
     "output_type": "execute_result"
    }
   ],
   "source": [
    "url_dict = create_unknown_urls(4, last_known_quarter)\n",
    "url_dict"
   ]
  },
  {
   "cell_type": "code",
   "execution_count": 4,
   "metadata": {},
   "outputs": [
    {
     "data": {
      "text/plain": [
       "{'24-2T': 'https://www.indec.gob.ar/ftp/cuadros/menusuperior/eph/EPH_usu_2_Trim_2024_txt.zip'}"
      ]
     },
     "execution_count": 4,
     "metadata": {},
     "output_type": "execute_result"
    }
   ],
   "source": [
    "valid_urls = test_urls(url_dict)\n",
    "valid_urls"
   ]
  },
  {
   "cell_type": "code",
   "execution_count": 5,
   "metadata": {},
   "outputs": [],
   "source": [
    "new_zip_files = download_new_zips_to_memory(valid_urls)"
   ]
  },
  {
   "cell_type": "code",
   "execution_count": 6,
   "metadata": {},
   "outputs": [],
   "source": [
    "hogar_txt_files, ind_txt_files = extract_new_zips_to_memory(new_zip_files)\n",
    "del(new_zip_files)"
   ]
  },
  {
   "cell_type": "code",
   "execution_count": 7,
   "metadata": {},
   "outputs": [],
   "source": [
    "old_hogar_csv = extract_old_zips_to_memory('hogar')"
   ]
  },
  {
   "cell_type": "code",
   "execution_count": 8,
   "metadata": {},
   "outputs": [
    {
     "data": {
      "text/html": [
       "<div><style>\n",
       ".dataframe > thead > tr,\n",
       ".dataframe > tbody > tr {\n",
       "  text-align: right;\n",
       "  white-space: pre-wrap;\n",
       "}\n",
       "</style>\n",
       "<small>shape: (569_841, 88)</small><table border=\"1\" class=\"dataframe\"><thead><tr><th>CODUSU</th><th>ANO4</th><th>TRIMESTRE</th><th>NRO_HOGAR</th><th>REALIZADA</th><th>REGION</th><th>MAS_500</th><th>AGLOMERADO</th><th>PONDERA</th><th>IV1</th><th>IV1_ESP</th><th>IV2</th><th>IV3</th><th>IV3_ESP</th><th>IV4</th><th>IV5</th><th>IV6</th><th>IV7</th><th>IV7_ESP</th><th>IV8</th><th>IV9</th><th>IV10</th><th>IV11</th><th>IV12_1</th><th>IV12_2</th><th>IV12_3</th><th>II1</th><th>II2</th><th>II3</th><th>II3_1</th><th>II4_1</th><th>II4_2</th><th>II4_3</th><th>II5</th><th>II5_1</th><th>II6</th><th>II6_1</th><th>&hellip;</th><th>V8</th><th>V9</th><th>V10</th><th>V11</th><th>V12</th><th>V13</th><th>V14</th><th>V15</th><th>V16</th><th>V17</th><th>V18</th><th>V19_A</th><th>V19_B</th><th>IX_TOT</th><th>IX_MEN10</th><th>IX_MAYEQ10</th><th>ITF</th><th>DECIFR</th><th>IDECIFR</th><th>RDECIFR</th><th>GDECIFR</th><th>PDECIFR</th><th>ADECIFR</th><th>IPCF</th><th>DECCFR</th><th>IDECCFR</th><th>RDECCFR</th><th>GDECCFR</th><th>PDECCFR</th><th>ADECCFR</th><th>PONDIH</th><th>VII1_1</th><th>VII1_2</th><th>VII2_1</th><th>VII2_2</th><th>VII2_3</th><th>VII2_4</th></tr><tr><td>str</td><td>i64</td><td>i64</td><td>i64</td><td>i64</td><td>i64</td><td>str</td><td>i64</td><td>i64</td><td>i64</td><td>str</td><td>i64</td><td>i64</td><td>str</td><td>i64</td><td>i64</td><td>i64</td><td>i64</td><td>str</td><td>i64</td><td>i64</td><td>i64</td><td>i64</td><td>i64</td><td>i64</td><td>i64</td><td>i64</td><td>i64</td><td>i64</td><td>i64</td><td>i64</td><td>i64</td><td>i64</td><td>i64</td><td>i64</td><td>i64</td><td>i64</td><td>&hellip;</td><td>i64</td><td>i64</td><td>i64</td><td>i64</td><td>i64</td><td>i64</td><td>i64</td><td>i64</td><td>i64</td><td>i64</td><td>i64</td><td>i64</td><td>i64</td><td>i64</td><td>i64</td><td>i64</td><td>i64</td><td>i64</td><td>i64</td><td>i64</td><td>str</td><td>str</td><td>i64</td><td>f64</td><td>i64</td><td>i64</td><td>i64</td><td>str</td><td>str</td><td>i64</td><td>i64</td><td>i64</td><td>i64</td><td>i64</td><td>i64</td><td>i64</td><td>i64</td></tr></thead><tbody><tr><td>&quot;TQRMNOQUXHKOKMCDEGKDB00475140&quot;</td><td>2016</td><td>2</td><td>1</td><td>1</td><td>43</td><td>&quot;N&quot;</td><td>14</td><td>77</td><td>1</td><td>null</td><td>3</td><td>1</td><td>null</td><td>4</td><td>1</td><td>1</td><td>1</td><td>null</td><td>1</td><td>1</td><td>1</td><td>1</td><td>2</td><td>2</td><td>2</td><td>3</td><td>2</td><td>1</td><td>1</td><td>1</td><td>1</td><td>1</td><td>2</td><td>0</td><td>2</td><td>0</td><td>&hellip;</td><td>2</td><td>2</td><td>2</td><td>2</td><td>2</td><td>2</td><td>2</td><td>2</td><td>1</td><td>2</td><td>2</td><td>2</td><td>2</td><td>4</td><td>0</td><td>4</td><td>0</td><td>12</td><td>12</td><td>12</td><td>&quot;&nbsp;&nbsp;&quot;</td><td>&quot;12&quot;</td><td>12</td><td>0.0</td><td>12</td><td>12</td><td>12</td><td>&quot;&nbsp;&nbsp;&quot;</td><td>&quot;12&quot;</td><td>12</td><td>0</td><td>2</td><td>0</td><td>98</td><td>0</td><td>0</td><td>0</td></tr><tr><td>&quot;TQRMNOQQYHMMKTCDEGKDB00475009&quot;</td><td>2016</td><td>2</td><td>1</td><td>1</td><td>43</td><td>&quot;N&quot;</td><td>14</td><td>66</td><td>1</td><td>null</td><td>3</td><td>1</td><td>null</td><td>4</td><td>1</td><td>1</td><td>1</td><td>null</td><td>1</td><td>1</td><td>1</td><td>1</td><td>2</td><td>2</td><td>2</td><td>3</td><td>2</td><td>2</td><td>0</td><td>1</td><td>2</td><td>1</td><td>2</td><td>0</td><td>2</td><td>0</td><td>&hellip;</td><td>2</td><td>2</td><td>2</td><td>2</td><td>2</td><td>1</td><td>2</td><td>2</td><td>1</td><td>2</td><td>2</td><td>2</td><td>2</td><td>3</td><td>0</td><td>3</td><td>19000</td><td>7</td><td>7</td><td>7</td><td>&quot;&nbsp;&nbsp;&quot;</td><td>&quot;07&quot;</td><td>8</td><td>6333.33</td><td>6</td><td>7</td><td>6</td><td>&quot;&nbsp;&nbsp;&quot;</td><td>&quot;07&quot;</td><td>7</td><td>79</td><td>2</td><td>0</td><td>98</td><td>0</td><td>0</td><td>0</td></tr><tr><td>&quot;TQRMNORVUHJMKSCDEGKDB00475326&quot;</td><td>2016</td><td>2</td><td>1</td><td>1</td><td>43</td><td>&quot;N&quot;</td><td>14</td><td>59</td><td>1</td><td>null</td><td>2</td><td>1</td><td>null</td><td>4</td><td>1</td><td>1</td><td>1</td><td>null</td><td>1</td><td>1</td><td>1</td><td>1</td><td>2</td><td>2</td><td>2</td><td>2</td><td>1</td><td>2</td><td>0</td><td>1</td><td>1</td><td>2</td><td>2</td><td>0</td><td>2</td><td>0</td><td>&hellip;</td><td>2</td><td>2</td><td>2</td><td>2</td><td>1</td><td>2</td><td>2</td><td>2</td><td>2</td><td>2</td><td>2</td><td>2</td><td>2</td><td>2</td><td>0</td><td>2</td><td>13800</td><td>5</td><td>6</td><td>6</td><td>&quot;&nbsp;&nbsp;&quot;</td><td>&quot;06&quot;</td><td>6</td><td>6900.0</td><td>7</td><td>7</td><td>7</td><td>&quot;&nbsp;&nbsp;&quot;</td><td>&quot;07&quot;</td><td>8</td><td>66</td><td>1</td><td>0</td><td>2</td><td>0</td><td>0</td><td>0</td></tr><tr><td>&quot;TQRMNOPQUHMMKTCDEGKDB00475005&quot;</td><td>2016</td><td>2</td><td>1</td><td>1</td><td>43</td><td>&quot;N&quot;</td><td>14</td><td>66</td><td>1</td><td>null</td><td>4</td><td>1</td><td>null</td><td>4</td><td>1</td><td>1</td><td>1</td><td>null</td><td>1</td><td>1</td><td>1</td><td>1</td><td>2</td><td>2</td><td>2</td><td>4</td><td>1</td><td>2</td><td>0</td><td>1</td><td>1</td><td>1</td><td>2</td><td>0</td><td>2</td><td>0</td><td>&hellip;</td><td>2</td><td>2</td><td>2</td><td>2</td><td>2</td><td>2</td><td>2</td><td>2</td><td>1</td><td>2</td><td>2</td><td>2</td><td>2</td><td>2</td><td>0</td><td>2</td><td>25000</td><td>8</td><td>9</td><td>9</td><td>&quot;&nbsp;&nbsp;&quot;</td><td>&quot;09&quot;</td><td>9</td><td>12500.0</td><td>9</td><td>9</td><td>9</td><td>&quot;&nbsp;&nbsp;&quot;</td><td>&quot;09&quot;</td><td>10</td><td>81</td><td>2</td><td>0</td><td>98</td><td>0</td><td>0</td><td>0</td></tr><tr><td>&quot;TQRMNORVRHJMKSCDEGKDB00475324&quot;</td><td>2016</td><td>2</td><td>1</td><td>1</td><td>43</td><td>&quot;N&quot;</td><td>14</td><td>59</td><td>1</td><td>null</td><td>3</td><td>1</td><td>null</td><td>4</td><td>1</td><td>1</td><td>1</td><td>null</td><td>1</td><td>1</td><td>1</td><td>1</td><td>2</td><td>2</td><td>2</td><td>3</td><td>1</td><td>2</td><td>0</td><td>1</td><td>1</td><td>1</td><td>2</td><td>0</td><td>1</td><td>1</td><td>&hellip;</td><td>2</td><td>2</td><td>2</td><td>2</td><td>2</td><td>2</td><td>2</td><td>2</td><td>2</td><td>2</td><td>2</td><td>2</td><td>2</td><td>2</td><td>0</td><td>2</td><td>6000</td><td>2</td><td>2</td><td>2</td><td>&quot;&nbsp;&nbsp;&quot;</td><td>&quot;02&quot;</td><td>2</td><td>3000.0</td><td>3</td><td>3</td><td>3</td><td>&quot;&nbsp;&nbsp;&quot;</td><td>&quot;03&quot;</td><td>4</td><td>65</td><td>2</td><td>0</td><td>1</td><td>0</td><td>0</td><td>0</td></tr><tr><td>&hellip;</td><td>&hellip;</td><td>&hellip;</td><td>&hellip;</td><td>&hellip;</td><td>&hellip;</td><td>&hellip;</td><td>&hellip;</td><td>&hellip;</td><td>&hellip;</td><td>&hellip;</td><td>&hellip;</td><td>&hellip;</td><td>&hellip;</td><td>&hellip;</td><td>&hellip;</td><td>&hellip;</td><td>&hellip;</td><td>&hellip;</td><td>&hellip;</td><td>&hellip;</td><td>&hellip;</td><td>&hellip;</td><td>&hellip;</td><td>&hellip;</td><td>&hellip;</td><td>&hellip;</td><td>&hellip;</td><td>&hellip;</td><td>&hellip;</td><td>&hellip;</td><td>&hellip;</td><td>&hellip;</td><td>&hellip;</td><td>&hellip;</td><td>&hellip;</td><td>&hellip;</td><td>&hellip;</td><td>&hellip;</td><td>&hellip;</td><td>&hellip;</td><td>&hellip;</td><td>&hellip;</td><td>&hellip;</td><td>&hellip;</td><td>&hellip;</td><td>&hellip;</td><td>&hellip;</td><td>&hellip;</td><td>&hellip;</td><td>&hellip;</td><td>&hellip;</td><td>&hellip;</td><td>&hellip;</td><td>&hellip;</td><td>&hellip;</td><td>&hellip;</td><td>&hellip;</td><td>&hellip;</td><td>&hellip;</td><td>&hellip;</td><td>&hellip;</td><td>&hellip;</td><td>&hellip;</td><td>&hellip;</td><td>&hellip;</td><td>&hellip;</td><td>&hellip;</td><td>&hellip;</td><td>&hellip;</td><td>&hellip;</td><td>&hellip;</td><td>&hellip;</td><td>&hellip;</td><td>&hellip;</td></tr><tr><td>&quot;TQRMNOQQRHJMKUCDEHLEH00866763&quot;</td><td>2024</td><td>2</td><td>1</td><td>1</td><td>40</td><td>&quot;N&quot;</td><td>25</td><td>155</td><td>1</td><td>&quot;&quot;</td><td>3</td><td>1</td><td>&quot;&quot;</td><td>1</td><td>1</td><td>1</td><td>1</td><td>&quot;&quot;</td><td>1</td><td>1</td><td>1</td><td>1</td><td>2</td><td>2</td><td>2</td><td>3</td><td>2</td><td>2</td><td>0</td><td>1</td><td>1</td><td>1</td><td>2</td><td>0</td><td>2</td><td>0</td><td>&hellip;</td><td>2</td><td>2</td><td>2</td><td>2</td><td>2</td><td>1</td><td>1</td><td>2</td><td>1</td><td>1</td><td>2</td><td>2</td><td>2</td><td>3</td><td>0</td><td>3</td><td>710000</td><td>6</td><td>7</td><td>7</td><td>&quot;&quot;</td><td>&quot;7&quot;</td><td>8</td><td>236666.67</td><td>5</td><td>5</td><td>7</td><td>&quot;&quot;</td><td>&quot;6&quot;</td><td>8</td><td>220</td><td>2</td><td>3</td><td>1</td><td>0</td><td>0</td><td>0</td></tr><tr><td>&quot;TQRMNORTQHJKKUCDEGGFB00866764&quot;</td><td>2024</td><td>2</td><td>1</td><td>1</td><td>42</td><td>&quot;S&quot;</td><td>10</td><td>621</td><td>2</td><td>&quot;&quot;</td><td>4</td><td>1</td><td>&quot;&quot;</td><td>1</td><td>1</td><td>1</td><td>1</td><td>&quot;&quot;</td><td>1</td><td>1</td><td>1</td><td>1</td><td>2</td><td>2</td><td>2</td><td>4</td><td>2</td><td>2</td><td>0</td><td>1</td><td>1</td><td>1</td><td>2</td><td>0</td><td>2</td><td>0</td><td>&hellip;</td><td>2</td><td>2</td><td>2</td><td>2</td><td>2</td><td>1</td><td>2</td><td>2</td><td>1</td><td>2</td><td>2</td><td>2</td><td>2</td><td>3</td><td>0</td><td>3</td><td>0</td><td>12</td><td>12</td><td>12</td><td>&quot;12&quot;</td><td>&quot;&quot;</td><td>12</td><td>0.0</td><td>12</td><td>12</td><td>12</td><td>&quot;12&quot;</td><td>&quot;&quot;</td><td>12</td><td>0</td><td>2</td><td>0</td><td>96</td><td>0</td><td>0</td><td>0</td></tr><tr><td>&quot;TQRMNORTUHJKKUCDEGGFB00866765&quot;</td><td>2024</td><td>2</td><td>1</td><td>1</td><td>42</td><td>&quot;S&quot;</td><td>10</td><td>668</td><td>1</td><td>&quot;&quot;</td><td>4</td><td>1</td><td>&quot;&quot;</td><td>1</td><td>1</td><td>1</td><td>1</td><td>&quot;&quot;</td><td>1</td><td>1</td><td>1</td><td>1</td><td>2</td><td>2</td><td>2</td><td>4</td><td>1</td><td>2</td><td>0</td><td>1</td><td>2</td><td>1</td><td>2</td><td>0</td><td>2</td><td>0</td><td>&hellip;</td><td>2</td><td>2</td><td>2</td><td>2</td><td>2</td><td>1</td><td>2</td><td>2</td><td>2</td><td>2</td><td>2</td><td>2</td><td>2</td><td>2</td><td>0</td><td>2</td><td>1550000</td><td>9</td><td>10</td><td>10</td><td>&quot;9&quot;</td><td>&quot;&quot;</td><td>10</td><td>775000.0</td><td>10</td><td>10</td><td>10</td><td>&quot;10&quot;</td><td>&quot;&quot;</td><td>10</td><td>1066</td><td>1</td><td>0</td><td>2</td><td>0</td><td>0</td><td>0</td></tr><tr><td>&quot;TQRMNORVUHLLKUCDEGGFB00804557&quot;</td><td>2024</td><td>2</td><td>1</td><td>1</td><td>42</td><td>&quot;S&quot;</td><td>10</td><td>1002</td><td>1</td><td>&quot;&quot;</td><td>4</td><td>1</td><td>&quot;&quot;</td><td>1</td><td>1</td><td>1</td><td>1</td><td>&quot;&quot;</td><td>1</td><td>1</td><td>1</td><td>1</td><td>2</td><td>2</td><td>2</td><td>4</td><td>3</td><td>2</td><td>0</td><td>1</td><td>1</td><td>1</td><td>2</td><td>0</td><td>2</td><td>0</td><td>&hellip;</td><td>2</td><td>2</td><td>2</td><td>2</td><td>2</td><td>1</td><td>2</td><td>1</td><td>1</td><td>2</td><td>2</td><td>2</td><td>2</td><td>4</td><td>0</td><td>4</td><td>0</td><td>12</td><td>12</td><td>12</td><td>&quot;12&quot;</td><td>&quot;&quot;</td><td>12</td><td>0.0</td><td>12</td><td>12</td><td>12</td><td>&quot;12&quot;</td><td>&quot;&quot;</td><td>12</td><td>0</td><td>1</td><td>2</td><td>96</td><td>0</td><td>0</td><td>0</td></tr><tr><td>&quot;TQRMNOPPVHLMLLCDEGGFB00804518&quot;</td><td>2024</td><td>2</td><td>1</td><td>1</td><td>42</td><td>&quot;S&quot;</td><td>10</td><td>497</td><td>1</td><td>&quot;&quot;</td><td>2</td><td>1</td><td>&quot;&quot;</td><td>1</td><td>1</td><td>1</td><td>1</td><td>&quot;&quot;</td><td>1</td><td>1</td><td>1</td><td>1</td><td>2</td><td>2</td><td>2</td><td>2</td><td>1</td><td>2</td><td>0</td><td>1</td><td>1</td><td>2</td><td>2</td><td>0</td><td>2</td><td>0</td><td>&hellip;</td><td>2</td><td>2</td><td>2</td><td>2</td><td>2</td><td>2</td><td>1</td><td>2</td><td>2</td><td>2</td><td>2</td><td>2</td><td>2</td><td>2</td><td>0</td><td>2</td><td>0</td><td>12</td><td>12</td><td>12</td><td>&quot;12&quot;</td><td>&quot;&quot;</td><td>12</td><td>0.0</td><td>12</td><td>12</td><td>12</td><td>&quot;12&quot;</td><td>&quot;&quot;</td><td>12</td><td>0</td><td>1</td><td>0</td><td>2</td><td>0</td><td>0</td><td>0</td></tr></tbody></table></div>"
      ],
      "text/plain": [
       "shape: (569_841, 88)\n",
       "┌───────────────────────────┬──────┬───────────┬───────────┬───┬────────┬────────┬────────┬────────┐\n",
       "│ CODUSU                    ┆ ANO4 ┆ TRIMESTRE ┆ NRO_HOGAR ┆ … ┆ VII2_1 ┆ VII2_2 ┆ VII2_3 ┆ VII2_4 │\n",
       "│ ---                       ┆ ---  ┆ ---       ┆ ---       ┆   ┆ ---    ┆ ---    ┆ ---    ┆ ---    │\n",
       "│ str                       ┆ i64  ┆ i64       ┆ i64       ┆   ┆ i64    ┆ i64    ┆ i64    ┆ i64    │\n",
       "╞═══════════════════════════╪══════╪═══════════╪═══════════╪═══╪════════╪════════╪════════╪════════╡\n",
       "│ TQRMNOQUXHKOKMCDEGKDB0047 ┆ 2016 ┆ 2         ┆ 1         ┆ … ┆ 98     ┆ 0      ┆ 0      ┆ 0      │\n",
       "│ 5140                      ┆      ┆           ┆           ┆   ┆        ┆        ┆        ┆        │\n",
       "│ TQRMNOQQYHMMKTCDEGKDB0047 ┆ 2016 ┆ 2         ┆ 1         ┆ … ┆ 98     ┆ 0      ┆ 0      ┆ 0      │\n",
       "│ 5009                      ┆      ┆           ┆           ┆   ┆        ┆        ┆        ┆        │\n",
       "│ TQRMNORVUHJMKSCDEGKDB0047 ┆ 2016 ┆ 2         ┆ 1         ┆ … ┆ 2      ┆ 0      ┆ 0      ┆ 0      │\n",
       "│ 5326                      ┆      ┆           ┆           ┆   ┆        ┆        ┆        ┆        │\n",
       "│ TQRMNOPQUHMMKTCDEGKDB0047 ┆ 2016 ┆ 2         ┆ 1         ┆ … ┆ 98     ┆ 0      ┆ 0      ┆ 0      │\n",
       "│ 5005                      ┆      ┆           ┆           ┆   ┆        ┆        ┆        ┆        │\n",
       "│ TQRMNORVRHJMKSCDEGKDB0047 ┆ 2016 ┆ 2         ┆ 1         ┆ … ┆ 1      ┆ 0      ┆ 0      ┆ 0      │\n",
       "│ 5324                      ┆      ┆           ┆           ┆   ┆        ┆        ┆        ┆        │\n",
       "│ …                         ┆ …    ┆ …         ┆ …         ┆ … ┆ …      ┆ …      ┆ …      ┆ …      │\n",
       "│ TQRMNOQQRHJMKUCDEHLEH0086 ┆ 2024 ┆ 2         ┆ 1         ┆ … ┆ 1      ┆ 0      ┆ 0      ┆ 0      │\n",
       "│ 6763                      ┆      ┆           ┆           ┆   ┆        ┆        ┆        ┆        │\n",
       "│ TQRMNORTQHJKKUCDEGGFB0086 ┆ 2024 ┆ 2         ┆ 1         ┆ … ┆ 96     ┆ 0      ┆ 0      ┆ 0      │\n",
       "│ 6764                      ┆      ┆           ┆           ┆   ┆        ┆        ┆        ┆        │\n",
       "│ TQRMNORTUHJKKUCDEGGFB0086 ┆ 2024 ┆ 2         ┆ 1         ┆ … ┆ 2      ┆ 0      ┆ 0      ┆ 0      │\n",
       "│ 6765                      ┆      ┆           ┆           ┆   ┆        ┆        ┆        ┆        │\n",
       "│ TQRMNORVUHLLKUCDEGGFB0080 ┆ 2024 ┆ 2         ┆ 1         ┆ … ┆ 96     ┆ 0      ┆ 0      ┆ 0      │\n",
       "│ 4557                      ┆      ┆           ┆           ┆   ┆        ┆        ┆        ┆        │\n",
       "│ TQRMNOPPVHLMLLCDEGGFB0080 ┆ 2024 ┆ 2         ┆ 1         ┆ … ┆ 2      ┆ 0      ┆ 0      ┆ 0      │\n",
       "│ 4518                      ┆      ┆           ┆           ┆   ┆        ┆        ┆        ┆        │\n",
       "└───────────────────────────┴──────┴───────────┴───────────┴───┴────────┴────────┴────────┴────────┘"
      ]
     },
     "execution_count": 8,
     "metadata": {},
     "output_type": "execute_result"
    }
   ],
   "source": [
    "hogar = read_text_and_merge(old_hogar_csv, hogar_txt_files)\n",
    "hogar"
   ]
  },
  {
   "cell_type": "code",
   "execution_count": 9,
   "metadata": {},
   "outputs": [
    {
     "name": "stdout",
     "output_type": "stream",
     "text": [
      "DataFrame saved and compressed as data/hogar_data.zip\n"
     ]
    }
   ],
   "source": [
    "zip_file_path = \"data/hogar_data.zip\"\n",
    "csv_file_name = \"hogar_data.csv\"\n",
    "\n",
    "save_dataframe_as_zip(hogar, zip_file_path, csv_file_name)\n",
    "\n",
    "del(hogar)\n",
    "del(old_hogar_csv)\n",
    "del(hogar_txt_files)"
   ]
  },
  {
   "cell_type": "code",
   "execution_count": 10,
   "metadata": {},
   "outputs": [],
   "source": [
    "old_ind_csv = extract_old_zips_to_memory('ind')"
   ]
  },
  {
   "cell_type": "code",
   "execution_count": 11,
   "metadata": {},
   "outputs": [
    {
     "data": {
      "text/html": [
       "<div><style>\n",
       ".dataframe > thead > tr,\n",
       ".dataframe > tbody > tr {\n",
       "  text-align: right;\n",
       "  white-space: pre-wrap;\n",
       "}\n",
       "</style>\n",
       "<small>shape: (1_728_812, 177)</small><table border=\"1\" class=\"dataframe\"><thead><tr><th>CODUSU</th><th>ANO4</th><th>TRIMESTRE</th><th>NRO_HOGAR</th><th>COMPONENTE</th><th>H15</th><th>REGION</th><th>MAS_500</th><th>AGLOMERADO</th><th>PONDERA</th><th>CH03</th><th>CH04</th><th>CH05</th><th>CH06</th><th>CH07</th><th>CH08</th><th>CH09</th><th>CH10</th><th>CH11</th><th>CH12</th><th>CH13</th><th>CH14</th><th>CH15</th><th>CH15_COD</th><th>CH16</th><th>CH16_COD</th><th>NIVEL_ED</th><th>ESTADO</th><th>CAT_OCUP</th><th>CAT_INAC</th><th>IMPUTA</th><th>PP02C1</th><th>PP02C2</th><th>PP02C3</th><th>PP02C4</th><th>PP02C5</th><th>PP02C6</th><th>&hellip;</th><th>TOT_P12</th><th>P47T</th><th>DECINDR</th><th>IDECINDR</th><th>RDECINDR</th><th>GDECINDR</th><th>PDECINDR</th><th>ADECINDR</th><th>PONDII</th><th>V2_M</th><th>V3_M</th><th>V4_M</th><th>V5_M</th><th>V8_M</th><th>V9_M</th><th>V10_M</th><th>V11_M</th><th>V12_M</th><th>V18_M</th><th>V19_AM</th><th>V21_M</th><th>T_VI</th><th>ITF</th><th>DECIFR</th><th>IDECIFR</th><th>RDECIFR</th><th>GDECIFR</th><th>PDECIFR</th><th>ADECIFR</th><th>IPCF</th><th>DECCFR</th><th>IDECCFR</th><th>RDECCFR</th><th>GDECCFR</th><th>PDECCFR</th><th>ADECCFR</th><th>PONDIH</th></tr><tr><td>str</td><td>i64</td><td>i64</td><td>i64</td><td>i64</td><td>i64</td><td>i64</td><td>str</td><td>i64</td><td>i64</td><td>i64</td><td>i64</td><td>str</td><td>i64</td><td>i64</td><td>i64</td><td>i64</td><td>i64</td><td>i64</td><td>i64</td><td>i64</td><td>i64</td><td>i64</td><td>str</td><td>i64</td><td>str</td><td>i64</td><td>i64</td><td>i64</td><td>i64</td><td>i64</td><td>i64</td><td>i64</td><td>i64</td><td>i64</td><td>i64</td><td>i64</td><td>&hellip;</td><td>i64</td><td>i64</td><td>i64</td><td>str</td><td>i64</td><td>i64</td><td>str</td><td>i64</td><td>i64</td><td>i64</td><td>i64</td><td>i64</td><td>i64</td><td>i64</td><td>f64</td><td>f64</td><td>i64</td><td>i64</td><td>i64</td><td>i64</td><td>i64</td><td>i64</td><td>i64</td><td>str</td><td>str</td><td>str</td><td>str</td><td>str</td><td>str</td><td>f64</td><td>str</td><td>str</td><td>str</td><td>str</td><td>str</td><td>str</td><td>i64</td></tr></thead><tbody><tr><td>&quot;TQRMNOQTUHMMTQCDEIJAH00483381&quot;</td><td>2016</td><td>2</td><td>1</td><td>1</td><td>1</td><td>1</td><td>&quot;S&quot;</td><td>33</td><td>892</td><td>1</td><td>1</td><td>&quot;02/06/1984&quot;</td><td>32</td><td>1</td><td>1</td><td>1</td><td>2</td><td>0</td><td>6</td><td>1</td><td>null</td><td>1</td><td>null</td><td>1</td><td>null</td><td>6</td><td>1</td><td>3</td><td>0</td><td>0</td><td>0</td><td>0</td><td>0</td><td>0</td><td>0</td><td>0</td><td>&hellip;</td><td>0</td><td>20000</td><td>10</td><td>&quot;&nbsp;&nbsp;&quot;</td><td>9</td><td>9</td><td>&quot;&nbsp;&nbsp;&quot;</td><td>10</td><td>1163</td><td>0</td><td>0</td><td>0</td><td>0</td><td>0</td><td>0.0</td><td>0.0</td><td>0</td><td>0</td><td>0</td><td>0</td><td>0</td><td>0</td><td>35600</td><td>&quot;10&quot;</td><td>&quot;&nbsp;&nbsp;&quot;</td><td>&quot;09&quot;</td><td>&quot;09&quot;</td><td>&quot;&nbsp;&nbsp;&quot;</td><td>&quot;10&quot;</td><td>11866.67</td><td>&quot;09&quot;</td><td>&quot;&nbsp;&nbsp;&quot;</td><td>&quot;09&quot;</td><td>&quot;09&quot;</td><td>&quot;&nbsp;&nbsp;&quot;</td><td>&quot;09&quot;</td><td>1299</td></tr><tr><td>&quot;TQRMNOQTUHMMTQCDEIJAH00483381&quot;</td><td>2016</td><td>2</td><td>1</td><td>2</td><td>1</td><td>1</td><td>&quot;S&quot;</td><td>33</td><td>892</td><td>2</td><td>2</td><td>&quot;06/10/1981&quot;</td><td>34</td><td>1</td><td>1</td><td>1</td><td>2</td><td>0</td><td>7</td><td>2</td><td>4</td><td>3</td><td>&quot;tuc&quot;</td><td>1</td><td>null</td><td>5</td><td>1</td><td>3</td><td>0</td><td>0</td><td>0</td><td>0</td><td>0</td><td>0</td><td>0</td><td>0</td><td>&hellip;</td><td>0</td><td>15600</td><td>9</td><td>&quot;&nbsp;&nbsp;&quot;</td><td>9</td><td>9</td><td>&quot;&nbsp;&nbsp;&quot;</td><td>9</td><td>1164</td><td>0</td><td>0</td><td>0</td><td>0</td><td>0</td><td>0.0</td><td>0.0</td><td>0</td><td>0</td><td>0</td><td>0</td><td>0</td><td>0</td><td>35600</td><td>&quot;10&quot;</td><td>&quot;&nbsp;&nbsp;&quot;</td><td>&quot;09&quot;</td><td>&quot;09&quot;</td><td>&quot;&nbsp;&nbsp;&quot;</td><td>&quot;10&quot;</td><td>11866.67</td><td>&quot;09&quot;</td><td>&quot;&nbsp;&nbsp;&quot;</td><td>&quot;09&quot;</td><td>&quot;09&quot;</td><td>&quot;&nbsp;&nbsp;&quot;</td><td>&quot;09&quot;</td><td>1299</td></tr><tr><td>&quot;TQRMNOQTUHMMTQCDEIJAH00483381&quot;</td><td>2016</td><td>2</td><td>1</td><td>3</td><td>1</td><td>1</td><td>&quot;S&quot;</td><td>33</td><td>892</td><td>3</td><td>1</td><td>&quot;22/05/1999&quot;</td><td>17</td><td>5</td><td>1</td><td>1</td><td>1</td><td>2</td><td>4</td><td>2</td><td>3</td><td>1</td><td>null</td><td>1</td><td>null</td><td>3</td><td>3</td><td>0</td><td>3</td><td>0</td><td>0</td><td>0</td><td>0</td><td>0</td><td>0</td><td>0</td><td>&hellip;</td><td>0</td><td>0</td><td>0</td><td>&quot;&nbsp;&nbsp;&quot;</td><td>0</td><td>0</td><td>&quot;&nbsp;&nbsp;&quot;</td><td>0</td><td>892</td><td>0</td><td>0</td><td>0</td><td>0</td><td>0</td><td>0.0</td><td>0.0</td><td>0</td><td>0</td><td>0</td><td>0</td><td>0</td><td>0</td><td>35600</td><td>&quot;10&quot;</td><td>&quot;&nbsp;&nbsp;&quot;</td><td>&quot;09&quot;</td><td>&quot;09&quot;</td><td>&quot;&nbsp;&nbsp;&quot;</td><td>&quot;10&quot;</td><td>11866.67</td><td>&quot;09&quot;</td><td>&quot;&nbsp;&nbsp;&quot;</td><td>&quot;09&quot;</td><td>&quot;09&quot;</td><td>&quot;&nbsp;&nbsp;&quot;</td><td>&quot;09&quot;</td><td>1299</td></tr><tr><td>&quot;TQRMNOPSRHLOLRCDEIJAH00483068&quot;</td><td>2016</td><td>2</td><td>1</td><td>1</td><td>1</td><td>1</td><td>&quot;S&quot;</td><td>33</td><td>986</td><td>1</td><td>1</td><td>&quot;12/06/1975&quot;</td><td>41</td><td>2</td><td>1</td><td>1</td><td>1</td><td>1</td><td>7</td><td>2</td><td>2</td><td>1</td><td>null</td><td>1</td><td>null</td><td>5</td><td>1</td><td>3</td><td>0</td><td>0</td><td>0</td><td>0</td><td>0</td><td>0</td><td>0</td><td>0</td><td>&hellip;</td><td>0</td><td>30000</td><td>10</td><td>&quot;&nbsp;&nbsp;&quot;</td><td>10</td><td>10</td><td>&quot;&nbsp;&nbsp;&quot;</td><td>10</td><td>1253</td><td>0</td><td>0</td><td>0</td><td>0</td><td>0</td><td>0.0</td><td>0.0</td><td>0</td><td>0</td><td>0</td><td>0</td><td>0</td><td>0</td><td>49000</td><td>&quot;10&quot;</td><td>&quot;&nbsp;&nbsp;&quot;</td><td>&quot;10&quot;</td><td>&quot;10&quot;</td><td>&quot;&nbsp;&nbsp;&quot;</td><td>&quot;10&quot;</td><td>16333.33</td><td>&quot;10&quot;</td><td>&quot;&nbsp;&nbsp;&quot;</td><td>&quot;10&quot;</td><td>&quot;10&quot;</td><td>&quot;&nbsp;&nbsp;&quot;</td><td>&quot;10&quot;</td><td>1507</td></tr><tr><td>&quot;TQRMNORUVHLNMNCDEIJAH00484887&quot;</td><td>2016</td><td>2</td><td>1</td><td>4</td><td>1</td><td>1</td><td>&quot;S&quot;</td><td>33</td><td>1318</td><td>3</td><td>2</td><td>&quot;04/03/2005&quot;</td><td>11</td><td>5</td><td>1</td><td>1</td><td>1</td><td>2</td><td>2</td><td>2</td><td>5</td><td>1</td><td>null</td><td>1</td><td>null</td><td>1</td><td>3</td><td>0</td><td>3</td><td>0</td><td>0</td><td>0</td><td>0</td><td>0</td><td>0</td><td>0</td><td>&hellip;</td><td>0</td><td>0</td><td>0</td><td>&quot;&nbsp;&nbsp;&quot;</td><td>0</td><td>0</td><td>&quot;&nbsp;&nbsp;&quot;</td><td>0</td><td>1318</td><td>0</td><td>0</td><td>0</td><td>0</td><td>0</td><td>0.0</td><td>0.0</td><td>0</td><td>0</td><td>0</td><td>0</td><td>0</td><td>0</td><td>27000</td><td>&quot;09&quot;</td><td>&quot;&nbsp;&nbsp;&quot;</td><td>&quot;08&quot;</td><td>&quot;09&quot;</td><td>&quot;&nbsp;&nbsp;&quot;</td><td>&quot;09&quot;</td><td>6750.0</td><td>&quot;07&quot;</td><td>&quot;&nbsp;&nbsp;&quot;</td><td>&quot;06&quot;</td><td>&quot;07&quot;</td><td>&quot;&nbsp;&nbsp;&quot;</td><td>&quot;07&quot;</td><td>2013</td></tr><tr><td>&hellip;</td><td>&hellip;</td><td>&hellip;</td><td>&hellip;</td><td>&hellip;</td><td>&hellip;</td><td>&hellip;</td><td>&hellip;</td><td>&hellip;</td><td>&hellip;</td><td>&hellip;</td><td>&hellip;</td><td>&hellip;</td><td>&hellip;</td><td>&hellip;</td><td>&hellip;</td><td>&hellip;</td><td>&hellip;</td><td>&hellip;</td><td>&hellip;</td><td>&hellip;</td><td>&hellip;</td><td>&hellip;</td><td>&hellip;</td><td>&hellip;</td><td>&hellip;</td><td>&hellip;</td><td>&hellip;</td><td>&hellip;</td><td>&hellip;</td><td>&hellip;</td><td>&hellip;</td><td>&hellip;</td><td>&hellip;</td><td>&hellip;</td><td>&hellip;</td><td>&hellip;</td><td>&hellip;</td><td>&hellip;</td><td>&hellip;</td><td>&hellip;</td><td>&hellip;</td><td>&hellip;</td><td>&hellip;</td><td>&hellip;</td><td>&hellip;</td><td>&hellip;</td><td>&hellip;</td><td>&hellip;</td><td>&hellip;</td><td>&hellip;</td><td>&hellip;</td><td>&hellip;</td><td>&hellip;</td><td>&hellip;</td><td>&hellip;</td><td>&hellip;</td><td>&hellip;</td><td>&hellip;</td><td>&hellip;</td><td>&hellip;</td><td>&hellip;</td><td>&hellip;</td><td>&hellip;</td><td>&hellip;</td><td>&hellip;</td><td>&hellip;</td><td>&hellip;</td><td>&hellip;</td><td>&hellip;</td><td>&hellip;</td><td>&hellip;</td><td>&hellip;</td><td>&hellip;</td><td>&hellip;</td></tr><tr><td>&quot;TQRMNORQQHJLLMCDEGKDB00866867&quot;</td><td>2024</td><td>2</td><td>1</td><td>3</td><td>0</td><td>43</td><td>&quot;N&quot;</td><td>14</td><td>152</td><td>3</td><td>1</td><td>&quot;22/05/2020&quot;</td><td>3</td><td>5</td><td>1</td><td>2</td><td>3</td><td>0</td><td>0</td><td>0</td><td>null</td><td>1</td><td>&quot;&quot;</td><td>6</td><td>&quot;&quot;</td><td>7</td><td>4</td><td>0</td><td>5</td><td>null</td><td>0</td><td>0</td><td>0</td><td>0</td><td>0</td><td>0</td><td>&hellip;</td><td>0</td><td>0</td><td>0</td><td>&quot;0&quot;</td><td>0</td><td>null</td><td>&quot;0&quot;</td><td>0</td><td>152</td><td>0</td><td>0</td><td>0</td><td>0</td><td>0</td><td>0.0</td><td>0.0</td><td>0</td><td>0</td><td>0</td><td>0</td><td>0</td><td>0</td><td>1100000</td><td>&quot;8&quot;</td><td>&quot;9&quot;</td><td>&quot;8&quot;</td><td>&quot;&quot;</td><td>&quot;9&quot;</td><td>&quot;9&quot;</td><td>275000.0</td><td>&quot;6&quot;</td><td>&quot;6&quot;</td><td>&quot;5&quot;</td><td>&quot;&quot;</td><td>&quot;7&quot;</td><td>&quot;7&quot;</td><td>489</td></tr><tr><td>&quot;TQRMNORQQHJLLMCDEGKDB00866867&quot;</td><td>2024</td><td>2</td><td>1</td><td>4</td><td>0</td><td>43</td><td>&quot;N&quot;</td><td>14</td><td>152</td><td>3</td><td>2</td><td>&quot;20/10/2016&quot;</td><td>7</td><td>5</td><td>1</td><td>1</td><td>1</td><td>2</td><td>2</td><td>2</td><td>1</td><td>1</td><td>&quot;&quot;</td><td>1</td><td>&quot;&quot;</td><td>1</td><td>4</td><td>0</td><td>3</td><td>null</td><td>0</td><td>0</td><td>0</td><td>0</td><td>0</td><td>0</td><td>&hellip;</td><td>0</td><td>0</td><td>0</td><td>&quot;0&quot;</td><td>0</td><td>null</td><td>&quot;0&quot;</td><td>0</td><td>152</td><td>0</td><td>0</td><td>0</td><td>0</td><td>0</td><td>0.0</td><td>0.0</td><td>0</td><td>0</td><td>0</td><td>0</td><td>0</td><td>0</td><td>1100000</td><td>&quot;8&quot;</td><td>&quot;9&quot;</td><td>&quot;8&quot;</td><td>&quot;&quot;</td><td>&quot;9&quot;</td><td>&quot;9&quot;</td><td>275000.0</td><td>&quot;6&quot;</td><td>&quot;6&quot;</td><td>&quot;5&quot;</td><td>&quot;&quot;</td><td>&quot;7&quot;</td><td>&quot;7&quot;</td><td>489</td></tr><tr><td>&quot;TQRMNORRTHJKLNCDEGKDB00866868&quot;</td><td>2024</td><td>2</td><td>1</td><td>1</td><td>1</td><td>43</td><td>&quot;N&quot;</td><td>14</td><td>174</td><td>1</td><td>2</td><td>&quot;01/01/1900&quot;</td><td>85</td><td>4</td><td>1</td><td>1</td><td>2</td><td>0</td><td>2</td><td>1</td><td>null</td><td>1</td><td>&quot;&quot;</td><td>1</td><td>&quot;&quot;</td><td>2</td><td>3</td><td>0</td><td>4</td><td>null</td><td>0</td><td>0</td><td>0</td><td>0</td><td>0</td><td>0</td><td>&hellip;</td><td>0</td><td>375000</td><td>6</td><td>&quot;6&quot;</td><td>6</td><td>null</td><td>&quot;7&quot;</td><td>7</td><td>279</td><td>375000</td><td>0</td><td>0</td><td>0</td><td>0</td><td>0.0</td><td>0.0</td><td>0</td><td>0</td><td>0</td><td>0</td><td>0</td><td>375000</td><td>375000</td><td>&quot;3&quot;</td><td>&quot;3&quot;</td><td>&quot;3&quot;</td><td>&quot;&quot;</td><td>&quot;3&quot;</td><td>&quot;3&quot;</td><td>375000.0</td><td>&quot;7&quot;</td><td>&quot;8&quot;</td><td>&quot;7&quot;</td><td>&quot;&quot;</td><td>&quot;8&quot;</td><td>&quot;9&quot;</td><td>283</td></tr><tr><td>&quot;TQSMNOPYSHMOKMCDEFMDB00866869&quot;</td><td>2024</td><td>2</td><td>1</td><td>1</td><td>1</td><td>43</td><td>&quot;N&quot;</td><td>6</td><td>183</td><td>1</td><td>2</td><td>&quot;08/07/1975&quot;</td><td>48</td><td>4</td><td>4</td><td>1</td><td>2</td><td>0</td><td>4</td><td>2</td><td>0</td><td>1</td><td>&quot;&quot;</td><td>1</td><td>&quot;&quot;</td><td>3</td><td>1</td><td>3</td><td>0</td><td>null</td><td>0</td><td>0</td><td>0</td><td>0</td><td>0</td><td>0</td><td>&hellip;</td><td>0</td><td>405000</td><td>7</td><td>&quot;7&quot;</td><td>6</td><td>null</td><td>&quot;7&quot;</td><td>6</td><td>216</td><td>300000</td><td>0</td><td>0</td><td>0</td><td>0</td><td>0.0</td><td>0.0</td><td>0</td><td>0</td><td>0</td><td>0</td><td>0</td><td>300000</td><td>405000</td><td>&quot;3&quot;</td><td>&quot;3&quot;</td><td>&quot;3&quot;</td><td>&quot;&quot;</td><td>&quot;4&quot;</td><td>&quot;2&quot;</td><td>135000.0</td><td>&quot;3&quot;</td><td>&quot;3&quot;</td><td>&quot;2&quot;</td><td>&quot;&quot;</td><td>&quot;3&quot;</td><td>&quot;2&quot;</td><td>272</td></tr><tr><td>&quot;TQSMNOPYSHMOKMCDEFMDB00866869&quot;</td><td>2024</td><td>2</td><td>1</td><td>2</td><td>1</td><td>43</td><td>&quot;N&quot;</td><td>6</td><td>183</td><td>3</td><td>1</td><td>&quot;15/08/1998&quot;</td><td>25</td><td>3</td><td>4</td><td>1</td><td>2</td><td>0</td><td>2</td><td>1</td><td>null</td><td>1</td><td>&quot;&quot;</td><td>1</td><td>&quot;&quot;</td><td>2</td><td>3</td><td>0</td><td>7</td><td>null</td><td>0</td><td>0</td><td>0</td><td>0</td><td>0</td><td>0</td><td>&hellip;</td><td>0</td><td>0</td><td>0</td><td>&quot;0&quot;</td><td>0</td><td>null</td><td>&quot;0&quot;</td><td>0</td><td>183</td><td>0</td><td>0</td><td>0</td><td>0</td><td>0</td><td>0.0</td><td>0.0</td><td>0</td><td>0</td><td>0</td><td>0</td><td>0</td><td>0</td><td>405000</td><td>&quot;3&quot;</td><td>&quot;3&quot;</td><td>&quot;3&quot;</td><td>&quot;&quot;</td><td>&quot;4&quot;</td><td>&quot;2&quot;</td><td>135000.0</td><td>&quot;3&quot;</td><td>&quot;3&quot;</td><td>&quot;2&quot;</td><td>&quot;&quot;</td><td>&quot;3&quot;</td><td>&quot;2&quot;</td><td>272</td></tr></tbody></table></div>"
      ],
      "text/plain": [
       "shape: (1_728_812, 177)\n",
       "┌────────────────────────┬──────┬───────────┬───────────┬───┬─────────┬─────────┬─────────┬────────┐\n",
       "│ CODUSU                 ┆ ANO4 ┆ TRIMESTRE ┆ NRO_HOGAR ┆ … ┆ GDECCFR ┆ PDECCFR ┆ ADECCFR ┆ PONDIH │\n",
       "│ ---                    ┆ ---  ┆ ---       ┆ ---       ┆   ┆ ---     ┆ ---     ┆ ---     ┆ ---    │\n",
       "│ str                    ┆ i64  ┆ i64       ┆ i64       ┆   ┆ str     ┆ str     ┆ str     ┆ i64    │\n",
       "╞════════════════════════╪══════╪═══════════╪═══════════╪═══╪═════════╪═════════╪═════════╪════════╡\n",
       "│ TQRMNOQTUHMMTQCDEIJAH0 ┆ 2016 ┆ 2         ┆ 1         ┆ … ┆ 09      ┆         ┆ 09      ┆ 1299   │\n",
       "│ 0483381                ┆      ┆           ┆           ┆   ┆         ┆         ┆         ┆        │\n",
       "│ TQRMNOQTUHMMTQCDEIJAH0 ┆ 2016 ┆ 2         ┆ 1         ┆ … ┆ 09      ┆         ┆ 09      ┆ 1299   │\n",
       "│ 0483381                ┆      ┆           ┆           ┆   ┆         ┆         ┆         ┆        │\n",
       "│ TQRMNOQTUHMMTQCDEIJAH0 ┆ 2016 ┆ 2         ┆ 1         ┆ … ┆ 09      ┆         ┆ 09      ┆ 1299   │\n",
       "│ 0483381                ┆      ┆           ┆           ┆   ┆         ┆         ┆         ┆        │\n",
       "│ TQRMNOPSRHLOLRCDEIJAH0 ┆ 2016 ┆ 2         ┆ 1         ┆ … ┆ 10      ┆         ┆ 10      ┆ 1507   │\n",
       "│ 0483068                ┆      ┆           ┆           ┆   ┆         ┆         ┆         ┆        │\n",
       "│ TQRMNORUVHLNMNCDEIJAH0 ┆ 2016 ┆ 2         ┆ 1         ┆ … ┆ 07      ┆         ┆ 07      ┆ 2013   │\n",
       "│ 0484887                ┆      ┆           ┆           ┆   ┆         ┆         ┆         ┆        │\n",
       "│ …                      ┆ …    ┆ …         ┆ …         ┆ … ┆ …       ┆ …       ┆ …       ┆ …      │\n",
       "│ TQRMNORQQHJLLMCDEGKDB0 ┆ 2024 ┆ 2         ┆ 1         ┆ … ┆         ┆ 7       ┆ 7       ┆ 489    │\n",
       "│ 0866867                ┆      ┆           ┆           ┆   ┆         ┆         ┆         ┆        │\n",
       "│ TQRMNORQQHJLLMCDEGKDB0 ┆ 2024 ┆ 2         ┆ 1         ┆ … ┆         ┆ 7       ┆ 7       ┆ 489    │\n",
       "│ 0866867                ┆      ┆           ┆           ┆   ┆         ┆         ┆         ┆        │\n",
       "│ TQRMNORRTHJKLNCDEGKDB0 ┆ 2024 ┆ 2         ┆ 1         ┆ … ┆         ┆ 8       ┆ 9       ┆ 283    │\n",
       "│ 0866868                ┆      ┆           ┆           ┆   ┆         ┆         ┆         ┆        │\n",
       "│ TQSMNOPYSHMOKMCDEFMDB0 ┆ 2024 ┆ 2         ┆ 1         ┆ … ┆         ┆ 3       ┆ 2       ┆ 272    │\n",
       "│ 0866869                ┆      ┆           ┆           ┆   ┆         ┆         ┆         ┆        │\n",
       "│ TQSMNOPYSHMOKMCDEFMDB0 ┆ 2024 ┆ 2         ┆ 1         ┆ … ┆         ┆ 3       ┆ 2       ┆ 272    │\n",
       "│ 0866869                ┆      ┆           ┆           ┆   ┆         ┆         ┆         ┆        │\n",
       "└────────────────────────┴──────┴───────────┴───────────┴───┴─────────┴─────────┴─────────┴────────┘"
      ]
     },
     "execution_count": 11,
     "metadata": {},
     "output_type": "execute_result"
    }
   ],
   "source": [
    "ind = read_text_and_merge(old_ind_csv, ind_txt_files)\n",
    "ind"
   ]
  },
  {
   "cell_type": "code",
   "execution_count": 12,
   "metadata": {},
   "outputs": [
    {
     "name": "stdout",
     "output_type": "stream",
     "text": [
      "DataFrame saved and compressed as data/individual_data.zip\n"
     ]
    }
   ],
   "source": [
    "zip_file_path = \"data/individual_data.zip\"\n",
    "csv_file_name = \"individual_data.csv\"\n",
    "\n",
    "save_dataframe_as_zip(ind, zip_file_path, csv_file_name)"
   ]
  },
  {
   "cell_type": "code",
   "execution_count": null,
   "metadata": {},
   "outputs": [],
   "source": [
    "# Save the the new last known quarter\n",
    "valid_keys = []\n",
    "for key, url in valid_urls.items():\n",
    "    valid_keys.append(key)\n",
    "with open('last_known_quarter.txt', 'w') as f:\n",
    "    f.write(valid_keys[-1])\n",
    "    f.close()"
   ]
  }
 ],
 "metadata": {
  "kernelspec": {
   "display_name": "eph",
   "language": "python",
   "name": "python3"
  },
  "language_info": {
   "codemirror_mode": {
    "name": "ipython",
    "version": 3
   },
   "file_extension": ".py",
   "mimetype": "text/x-python",
   "name": "python",
   "nbconvert_exporter": "python",
   "pygments_lexer": "ipython3",
   "version": "3.13.0"
  }
 },
 "nbformat": 4,
 "nbformat_minor": 2
}
