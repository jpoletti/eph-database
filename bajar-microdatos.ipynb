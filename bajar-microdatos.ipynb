{
 "cells": [
  {
   "cell_type": "markdown",
   "id": "572a89ea",
   "metadata": {},
   "source": [
    "# Bajar-Microdatos.ipynb\n",
    "El objetivo de esta notebook es presentar código que permite sistematizar la descarga de datos de todos los trimestres de 2016 en adelante de la Encuesta Permanente de Hogares, dando o cómo resultado un archivo en formato .csv para los datos correspondientes a los hogares y otro igual para los datos correspondientes a individuos. Por último, se presenta un breve análisis como un pequeño ejemplo de un análisis posible con estos datos.\n",
    "La fuente de los datos se puede encontrar en [este](https://www.indec.gob.ar/indec/web/Institucional-Indec-BasesDeDatos) sitio web."
   ]
  },
  {
   "cell_type": "code",
   "execution_count": 1,
   "id": "fb5c04ba-de47-4eba-9e09-7081d3bd2387",
   "metadata": {
    "tags": []
   },
   "outputs": [],
   "source": [
    "import os\n",
    "import time\n",
    "import zipfile\n",
    "import shutil\n",
    "import re\n",
    "import io\n",
    "from tqdm import tqdm\n",
    "import polars as pl\n",
    "import numpy as np\n",
    "# import matplotlib.pyplot as plt\n",
    "\n",
    "from create_urls import *"
   ]
  },
  {
   "cell_type": "code",
   "execution_count": 2,
   "id": "4f17771e",
   "metadata": {},
   "outputs": [
    {
     "data": {
      "text/plain": [
       "'24-1T'"
      ]
     },
     "execution_count": 2,
     "metadata": {},
     "output_type": "execute_result"
    }
   ],
   "source": [
    "with open('last_known_quarter.txt') as f:\n",
    "    last_known_quarter = f.read()\n",
    "\n",
    "last_known_quarter"
   ]
  },
  {
   "cell_type": "code",
   "execution_count": 3,
   "id": "74f1d57e",
   "metadata": {},
   "outputs": [
    {
     "data": {
      "text/plain": [
       "['16-2T',\n",
       " '16-3T',\n",
       " '16-4T',\n",
       " '17-1T',\n",
       " '17-2T',\n",
       " '17-3T',\n",
       " '17-4T',\n",
       " '18-1T',\n",
       " '18-2T',\n",
       " '18-3T',\n",
       " '18-4T',\n",
       " '19-1T',\n",
       " '19-2T',\n",
       " '19-3T',\n",
       " '19-4T',\n",
       " '20-1T',\n",
       " '20-2T',\n",
       " '20-3T',\n",
       " '20-4T',\n",
       " '21-1T',\n",
       " '21-2T',\n",
       " '21-3T',\n",
       " '21-4T',\n",
       " '22-1T',\n",
       " '22-2T',\n",
       " '22-3T',\n",
       " '22-4T',\n",
       " '23-1T',\n",
       " '23-2T',\n",
       " '23-3T',\n",
       " '23-4T',\n",
       " '24-1T']"
      ]
     },
     "execution_count": 3,
     "metadata": {},
     "output_type": "execute_result"
    }
   ],
   "source": [
    "known_key_list = create_key_list(last_quarter=last_known_quarter)\n",
    "known_key_list"
   ]
  },
  {
   "cell_type": "code",
   "execution_count": 4,
   "id": "302d9ea7",
   "metadata": {},
   "outputs": [
    {
     "data": {
      "text/plain": [
       "['https://www.indec.gob.ar/ftp/cuadros/menusuperior/eph/EPH_usu_2doTrim_2016_txt.zip',\n",
       " 'https://www.indec.gob.ar/ftp/cuadros/menusuperior/eph/EPH_usu_3erTrim_2016_txt.zip',\n",
       " 'https://www.indec.gob.ar/ftp/cuadros/menusuperior/eph/EPH_usu_4toTrim_2016_txt.zip',\n",
       " 'https://www.indec.gob.ar/ftp/cuadros/menusuperior/eph/EPH_usu_1er_Trim_2017_txt.zip',\n",
       " 'https://www.indec.gob.ar/ftp/cuadros/menusuperior/eph/EPH_usu_2_Trim_2017_txt.zip',\n",
       " 'https://www.indec.gob.ar/ftp/cuadros/menusuperior/eph/EPH_usu_3_Trim_2017_txt.zip',\n",
       " 'https://www.indec.gob.ar/ftp/cuadros/menusuperior/eph/EPH_usu_4_Trim_2017_txt.zip',\n",
       " 'https://www.indec.gob.ar/ftp/cuadros/menusuperior/eph/EPH_usu_1_Trim_2018_txt.zip',\n",
       " 'https://www.indec.gob.ar/ftp/cuadros/menusuperior/eph/EPH_usu_2_Trim_2018_txt.zip',\n",
       " 'https://www.indec.gob.ar/ftp/cuadros/menusuperior/eph/EPH_usu_3_Trim_2018_txt.zip',\n",
       " 'https://www.indec.gob.ar/ftp/cuadros/menusuperior/eph/EPH_usu_4_Trim_2018_txt.zip',\n",
       " 'https://www.indec.gob.ar/ftp/cuadros/menusuperior/eph/EPH_usu_1_Trim_2019_txt.zip',\n",
       " 'https://www.indec.gob.ar/ftp/cuadros/menusuperior/eph/EPH_usu_2_Trim_2019_txt.zip',\n",
       " 'https://www.indec.gob.ar/ftp/cuadros/menusuperior/eph/EPH_usu_3_Trim_2019_txt.zip',\n",
       " 'https://www.indec.gob.ar/ftp/cuadros/menusuperior/eph/EPH_usu_4_Trim_2019_txt.zip',\n",
       " 'https://www.indec.gob.ar/ftp/cuadros/menusuperior/eph/EPH_usu_1_Trim_2020_txt.zip',\n",
       " 'https://www.indec.gob.ar/ftp/cuadros/menusuperior/eph/EPH_usu_2_Trim_2020_txt.zip',\n",
       " 'https://www.indec.gob.ar/ftp/cuadros/menusuperior/eph/EPH_usu_3_Trim_2020_txt.zip',\n",
       " 'https://www.indec.gob.ar/ftp/cuadros/menusuperior/eph/EPH_usu_4_Trim_2020_txt.zip',\n",
       " 'https://www.indec.gob.ar/ftp/cuadros/menusuperior/eph/EPH_usu_1_Trim_2021_txt.zip',\n",
       " 'https://www.indec.gob.ar/ftp/cuadros/menusuperior/eph/EPH_usu_2_Trim_2021_txt.zip',\n",
       " 'https://www.indec.gob.ar/ftp/cuadros/menusuperior/eph/EPH_usu_3_Trim_2021_txt.zip',\n",
       " 'https://www.indec.gob.ar/ftp/cuadros/menusuperior/eph/EPH_usu_4_Trim_2021_txt.zip',\n",
       " 'https://www.indec.gob.ar/ftp/cuadros/menusuperior/eph/EPH_usu_1_Trim_2022_txt.zip',\n",
       " 'https://www.indec.gob.ar/ftp/cuadros/menusuperior/eph/EPH_usu_2_Trim_2022_txt.zip',\n",
       " 'https://www.indec.gob.ar/ftp/cuadros/menusuperior/eph/EPH_usu_3_Trim_2022_txt.zip',\n",
       " 'https://www.indec.gob.ar/ftp/cuadros/menusuperior/eph/EPH_usu_4_Trim_2022_txt.zip',\n",
       " 'https://www.indec.gob.ar/ftp/cuadros/menusuperior/eph/EPH_usu_1_Trim_2023_txt.zip',\n",
       " 'https://www.indec.gob.ar/ftp/cuadros/menusuperior/eph/EPH_usu_2_Trim_2023_txt.zip',\n",
       " 'https://www.indec.gob.ar/ftp/cuadros/menusuperior/eph/EPH_usu_3_Trim_2023_txt.zip',\n",
       " 'https://www.indec.gob.ar/ftp/cuadros/menusuperior/eph/EPH_usu_4_Trim_2023_txt.zip',\n",
       " 'https://www.indec.gob.ar/ftp/cuadros/menusuperior/eph/EPH_usu_1_Trim_2024_txt.zip']"
      ]
     },
     "execution_count": 4,
     "metadata": {},
     "output_type": "execute_result"
    }
   ],
   "source": [
    "known_url_list = create_url_list(known_key_list)\n",
    "known_url_list"
   ]
  },
  {
   "cell_type": "code",
   "execution_count": 5,
   "id": "81c861ef",
   "metadata": {},
   "outputs": [
    {
     "data": {
      "text/plain": [
       "{'16-2T': 'https://www.indec.gob.ar/ftp/cuadros/menusuperior/eph/EPH_usu_2doTrim_2016_txt.zip',\n",
       " '16-3T': 'https://www.indec.gob.ar/ftp/cuadros/menusuperior/eph/EPH_usu_3erTrim_2016_txt.zip',\n",
       " '16-4T': 'https://www.indec.gob.ar/ftp/cuadros/menusuperior/eph/EPH_usu_4toTrim_2016_txt.zip',\n",
       " '17-1T': 'https://www.indec.gob.ar/ftp/cuadros/menusuperior/eph/EPH_usu_1er_Trim_2017_txt.zip',\n",
       " '17-2T': 'https://www.indec.gob.ar/ftp/cuadros/menusuperior/eph/EPH_usu_2_Trim_2017_txt.zip',\n",
       " '17-3T': 'https://www.indec.gob.ar/ftp/cuadros/menusuperior/eph/EPH_usu_3_Trim_2017_txt.zip',\n",
       " '17-4T': 'https://www.indec.gob.ar/ftp/cuadros/menusuperior/eph/EPH_usu_4_Trim_2017_txt.zip',\n",
       " '18-1T': 'https://www.indec.gob.ar/ftp/cuadros/menusuperior/eph/EPH_usu_1_Trim_2018_txt.zip',\n",
       " '18-2T': 'https://www.indec.gob.ar/ftp/cuadros/menusuperior/eph/EPH_usu_2_Trim_2018_txt.zip',\n",
       " '18-3T': 'https://www.indec.gob.ar/ftp/cuadros/menusuperior/eph/EPH_usu_3_Trim_2018_txt.zip',\n",
       " '18-4T': 'https://www.indec.gob.ar/ftp/cuadros/menusuperior/eph/EPH_usu_4_Trim_2018_txt.zip',\n",
       " '19-1T': 'https://www.indec.gob.ar/ftp/cuadros/menusuperior/eph/EPH_usu_1_Trim_2019_txt.zip',\n",
       " '19-2T': 'https://www.indec.gob.ar/ftp/cuadros/menusuperior/eph/EPH_usu_2_Trim_2019_txt.zip',\n",
       " '19-3T': 'https://www.indec.gob.ar/ftp/cuadros/menusuperior/eph/EPH_usu_3_Trim_2019_txt.zip',\n",
       " '19-4T': 'https://www.indec.gob.ar/ftp/cuadros/menusuperior/eph/EPH_usu_4_Trim_2019_txt.zip',\n",
       " '20-1T': 'https://www.indec.gob.ar/ftp/cuadros/menusuperior/eph/EPH_usu_1_Trim_2020_txt.zip',\n",
       " '20-2T': 'https://www.indec.gob.ar/ftp/cuadros/menusuperior/eph/EPH_usu_2_Trim_2020_txt.zip',\n",
       " '20-3T': 'https://www.indec.gob.ar/ftp/cuadros/menusuperior/eph/EPH_usu_3_Trim_2020_txt.zip',\n",
       " '20-4T': 'https://www.indec.gob.ar/ftp/cuadros/menusuperior/eph/EPH_usu_4_Trim_2020_txt.zip',\n",
       " '21-1T': 'https://www.indec.gob.ar/ftp/cuadros/menusuperior/eph/EPH_usu_1_Trim_2021_txt.zip',\n",
       " '21-2T': 'https://www.indec.gob.ar/ftp/cuadros/menusuperior/eph/EPH_usu_2_Trim_2021_txt.zip',\n",
       " '21-3T': 'https://www.indec.gob.ar/ftp/cuadros/menusuperior/eph/EPH_usu_3_Trim_2021_txt.zip',\n",
       " '21-4T': 'https://www.indec.gob.ar/ftp/cuadros/menusuperior/eph/EPH_usu_4_Trim_2021_txt.zip',\n",
       " '22-1T': 'https://www.indec.gob.ar/ftp/cuadros/menusuperior/eph/EPH_usu_1_Trim_2022_txt.zip',\n",
       " '22-2T': 'https://www.indec.gob.ar/ftp/cuadros/menusuperior/eph/EPH_usu_2_Trim_2022_txt.zip',\n",
       " '22-3T': 'https://www.indec.gob.ar/ftp/cuadros/menusuperior/eph/EPH_usu_3_Trim_2022_txt.zip',\n",
       " '22-4T': 'https://www.indec.gob.ar/ftp/cuadros/menusuperior/eph/EPH_usu_4_Trim_2022_txt.zip',\n",
       " '23-1T': 'https://www.indec.gob.ar/ftp/cuadros/menusuperior/eph/EPH_usu_1_Trim_2023_txt.zip',\n",
       " '23-2T': 'https://www.indec.gob.ar/ftp/cuadros/menusuperior/eph/EPH_usu_2_Trim_2023_txt.zip',\n",
       " '23-3T': 'https://www.indec.gob.ar/ftp/cuadros/menusuperior/eph/EPH_usu_3_Trim_2023_txt.zip',\n",
       " '23-4T': 'https://www.indec.gob.ar/ftp/cuadros/menusuperior/eph/EPH_usu_4_Trim_2023_txt.zip',\n",
       " '24-1T': 'https://www.indec.gob.ar/ftp/cuadros/menusuperior/eph/EPH_usu_1_Trim_2024_txt.zip'}"
      ]
     },
     "execution_count": 5,
     "metadata": {},
     "output_type": "execute_result"
    }
   ],
   "source": [
    "known_url_dict = create_known_urls(last_known_quarter)\n",
    "known_url_dict"
   ]
  },
  {
   "cell_type": "code",
   "execution_count": 6,
   "id": "bc51b58c",
   "metadata": {},
   "outputs": [
    {
     "data": {
      "text/plain": [
       "{'24-2T': 'https://www.indec.gob.ar/ftp/cuadros/menusuperior/eph/EPH_usu_2_Trim_2024_txt.zip',\n",
       " '24-3T': 'https://www.indec.gob.ar/ftp/cuadros/menusuperior/eph/EPH_usu_3_Trim_2024_txt.zip',\n",
       " '24-4T': 'https://www.indec.gob.ar/ftp/cuadros/menusuperior/eph/EPH_usu_4_Trim_2024_txt.zip',\n",
       " '25-1T': 'https://www.indec.gob.ar/ftp/cuadros/menusuperior/eph/EPH_usu_1_Trim_2025_txt.zip',\n",
       " '25-2T': 'https://www.indec.gob.ar/ftp/cuadros/menusuperior/eph/EPH_usu_2_Trim_2025_txt.zip'}"
      ]
     },
     "execution_count": 6,
     "metadata": {},
     "output_type": "execute_result"
    }
   ],
   "source": [
    "unknown_url_dict = create_unknown_urls(5, last_known_quarter)\n",
    "unknown_url_dict"
   ]
  },
  {
   "cell_type": "code",
   "execution_count": 7,
   "id": "2c4f8db1",
   "metadata": {},
   "outputs": [
    {
     "data": {
      "text/plain": [
       "{'24-2T': 'https://www.indec.gob.ar/ftp/cuadros/menusuperior/eph/EPH_usu_2_Trim_2024_txt.zip'}"
      ]
     },
     "execution_count": 7,
     "metadata": {},
     "output_type": "execute_result"
    }
   ],
   "source": [
    "unknown_valid_url_dict = test_urls(unknown_url_dict)\n",
    "unknown_valid_url_dict"
   ]
  },
  {
   "cell_type": "code",
   "execution_count": 8,
   "id": "2b6aa2e5",
   "metadata": {},
   "outputs": [
    {
     "name": "stderr",
     "output_type": "stream",
     "text": [
      "Downloading files: 100%|██████████| 32/32 [01:13<00:00,  2.31s/it]\n"
     ]
    }
   ],
   "source": [
    "# Create the \"datos\" folder if it doesn't exist\n",
    "if 'datos' not in os.listdir():\n",
    "    os.makedirs('datos')\n",
    "    os.makedirs('datos/zip')\n",
    "\n",
    "# Download the files\n",
    "for key in tqdm(known_url_dict, desc='Downloading files'):\n",
    "    url = known_url_dict[key]\n",
    "    response = requests.get(url, stream=True)\n",
    "    \n",
    "    # If the website responds \n",
    "    if response.status_code == 200:\n",
    "        with open(f'datos/zip/{key}.zip', 'wb') as f:\n",
    "            f.write(response.content)\n",
    "\n",
    "        # Try to avoid DDoS detection\n",
    "        time.sleep(1)\n",
    "\n",
    "    else:\n",
    "        print(f'Failed to download {key}')"
   ]
  },
  {
   "cell_type": "code",
   "execution_count": 9,
   "id": "35cf91d9",
   "metadata": {},
   "outputs": [
    {
     "name": "stdout",
     "output_type": "stream",
     "text": [
      "It looks like all the zip files are valid\n"
     ]
    }
   ],
   "source": [
    "# Checking the files\n",
    "error_files = 0\n",
    "zip_dir = 'datos/zip'\n",
    "\n",
    "for file in os.listdir(zip_dir):\n",
    "    zip_path = os.path.join(zip_dir, file)\n",
    "    try:\n",
    "        with zipfile.ZipFile(zip_path, 'r') as z:\n",
    "            z.testzip()\n",
    "    except zipfile.BadZipFile:\n",
    "        error_files += 1\n",
    "        print(f'{file} is not a valid zip file')\n",
    "\n",
    "if error_files == 0:\n",
    "    print('It looks like all the zip files are valid')\n",
    "else:\n",
    "    print(f'Found {error_files} invalid zip file(s)')"
   ]
  },
  {
   "cell_type": "code",
   "execution_count": 10,
   "id": "ef771926",
   "metadata": {},
   "outputs": [],
   "source": [
    "# Create the folders inside the \"datos\" folder\n",
    "if 'individual' not in os.listdir('datos'):\n",
    "    os.mkdir('datos/individual')\n",
    "if 'hogar' not in os.listdir('datos'):\n",
    "    os.mkdir('datos/hogar')"
   ]
  },
  {
   "cell_type": "code",
   "execution_count": 11,
   "id": "d1ca2b79",
   "metadata": {},
   "outputs": [],
   "source": [
    "def extract_rename_and_move(key):\n",
    "    \"\"\"This function extracts the .txt files from the .zip file, renames them \n",
    "    and moves them to the correct folders (datos/individual and datos/hogar). To\n",
    "    simplify the code a bit it creates a folder called extracted, which it uses \n",
    "    to store the extracted files, and it deletes the folder at the end \n",
    "    Args:\n",
    "        key (str): the key corresponding to the quarter. Its format should be\n",
    "        yy-QT, so that, for example, 23-2T is the second quarter of 2023.\n",
    "    \"\"\"    \n",
    "    # Creating the \"extracted\" directory\n",
    "    extr_dir = 'datos/extracted'\n",
    "    if not os.path.exists(extr_dir):\n",
    "        os.makedirs(extr_dir)\n",
    "    \n",
    "    zip_dir = f'datos/zip/{key}.zip'\n",
    "    \n",
    "    # Extracting the files without the folders\n",
    "    with zipfile.ZipFile(zip_dir, 'r') as z:\n",
    "        for i in z.namelist():\n",
    "            filename = os.path.basename(i)\n",
    "            # Skip directories\n",
    "            if not filename:\n",
    "                continue\n",
    "            \n",
    "            source = z.open(i)\n",
    "            target_path = os.path.join(extr_dir, filename)\n",
    "            with open(target_path, \"wb\") as target:\n",
    "                shutil.copyfileobj(source, target)\n",
    "            source.close()\n",
    "    \n",
    "    # Regex patterns to try to avoid problems with filenames\n",
    "    hogar_re = r'[hH][oO][gG][aA][rR]'\n",
    "    individual_re = r'[iI][nN][dD][iI][vV][iI][dD][uU][aA][lL]'\n",
    "    \n",
    "    # Looping over the recently extracted files\n",
    "    for filename in os.listdir(extr_dir):\n",
    "        old_path = os.path.join(extr_dir, filename)\n",
    "        \n",
    "        # Finding the \"hogar\" data\n",
    "        if re.search(hogar_re, filename) and filename.endswith('.txt'):\n",
    "            new_filename = f'{key}-hogar.txt'\n",
    "            new_path = os.path.join('datos', 'hogar', new_filename)\n",
    "            os.rename(old_path, new_path)\n",
    "        \n",
    "        # Finding the \"individual\" data\n",
    "        elif ((re.search(individual_re, filename) or 'personas' in filename) and \n",
    "              filename.endswith('.txt')):\n",
    "            new_filename = f'{key}-individual.txt'\n",
    "            new_path = os.path.join('datos', 'individual', new_filename)\n",
    "            os.rename(old_path, new_path)\n",
    "    \n",
    "    # Deleting the \"extracted\" folder with all of its contents\n",
    "    shutil.rmtree(extr_dir)"
   ]
  },
  {
   "cell_type": "code",
   "execution_count": 12,
   "id": "0ff484e2",
   "metadata": {},
   "outputs": [],
   "source": [
    "# Extracting, renaming and moving the data. Also deletes the zip folder\n",
    "for key, value in known_url_dict.items():\n",
    "    extract_rename_and_move(key)\n",
    "shutil.rmtree('datos/zip')"
   ]
  },
  {
   "cell_type": "code",
   "execution_count": 13,
   "id": "8aef757a",
   "metadata": {},
   "outputs": [
    {
     "name": "stdout",
     "output_type": "stream",
     "text": [
      "All the files for the individual dataset are available.\n",
      "All the files for the hogar dataset are available.\n"
     ]
    }
   ],
   "source": [
    "# Checking if all the files for the individual datasets are there\n",
    "equal_counter = 0\n",
    "for file in os.listdir('datos/individual'):\n",
    "    for key, value in known_url_dict.items():\n",
    "        if file[:5] == key:\n",
    "            equal_counter += 1\n",
    "            continue\n",
    "\n",
    "if equal_counter == len(known_url_dict):\n",
    "    print('All the files for the individual dataset are available.')\n",
    "else:\n",
    "    print(f'There are {len(known_url_dict) - equal_counter} missing files')\n",
    "\n",
    "# Checking if all the files for the hogar dataset are there\n",
    "equal_counter = 0\n",
    "for file in os.listdir('datos/hogar'):\n",
    "    for key, value in known_url_dict.items():\n",
    "        if file[:5] == key:\n",
    "            equal_counter += 1\n",
    "            continue\n",
    "\n",
    "if equal_counter == len(known_url_dict):\n",
    "    print('All the files for the hogar dataset are available.')\n",
    "else:\n",
    "    print(f'There are {len(known_url_dict) - equal_counter} missing files')"
   ]
  },
  {
   "cell_type": "code",
   "execution_count": 14,
   "id": "8c3bbb8d",
   "metadata": {},
   "outputs": [],
   "source": [
    "def read_and_format(path, schema_overrides=None):\n",
    "    if schema_overrides is not None:\n",
    "        df = pl.read_csv(path,\n",
    "                         separator=';',\n",
    "                         null_values=[\"NA\"],\n",
    "                         decimal_comma=True,\n",
    "                         infer_schema_length=10000)\n",
    "        \n",
    "    else:\n",
    "        df = pl.read_csv(path,\n",
    "                         separator=';',\n",
    "                         null_values=[\"NA\"],\n",
    "                         decimal_comma=True,\n",
    "                         infer_schema_length=10000,\n",
    "                         schema_overrides=schema_overrides)\n",
    "        \n",
    "    # Cast all i64 columns to i32\n",
    "    df = df.with_columns([\n",
    "        df[col].cast(pl.Int32) for col in df.columns\n",
    "        if df[col].dtype == pl.Int64\n",
    "])\n",
    "    # Cast all f64 columns to f32\n",
    "    df = df.with_columns([\n",
    "    df[col].cast(pl.Float32) for col in df.columns\n",
    "    if df[col].dtype == pl.Float64\n",
    "])\n",
    "    \n",
    "    # Remove unnamed columns\n",
    "    unnamed_columns = [col for col in df.columns if col == \"\"]\n",
    "    if unnamed_columns:\n",
    "        df = df.drop(unnamed_columns)\n",
    "        \n",
    "    return df"
   ]
  },
  {
   "cell_type": "code",
   "execution_count": 15,
   "id": "af4e1395",
   "metadata": {},
   "outputs": [],
   "source": [
    "def process_txt_files(file_paths, schema_overrides=None):\n",
    "    final_df = None\n",
    "\n",
    "    for index, path_str in enumerate(file_paths):\n",
    "        # Read and format the current file\n",
    "        current_df = read_and_format(path_str, schema_overrides)\n",
    "\n",
    "        if index == 0:\n",
    "            # Initialize with the first file\n",
    "            final_df = current_df\n",
    "        else:\n",
    "            # Clean invalid values and align column schemas\n",
    "            for col_name, col_type in final_df.schema.items():\n",
    "                if col_name in current_df.schema:\n",
    "                    # Clean and align columns expected to be Int32\n",
    "                    if col_type == pl.Int32:\n",
    "                        current_df = current_df.with_columns(\n",
    "                            pl.when(pl.col(col_name).cast(pl.Utf8).str.strip_chars() == \"\")\n",
    "                            .then(None)\n",
    "                            .otherwise(pl.col(col_name))\n",
    "                            .alias(col_name)\n",
    "                        )\n",
    "                    # Cast the column to the expected type\n",
    "                    current_df = current_df.with_columns(pl.col(col_name).cast(col_type))\n",
    "            \n",
    "            # Concatenate the aligned DataFrame\n",
    "            final_df = pl.concat([final_df, current_df])\n",
    "\n",
    "            # Align schemas\n",
    "            for col in final_df.columns:\n",
    "                if col not in current_df.columns:\n",
    "                    current_df = current_df.with_columns(pl.lit(None).alias(col))\n",
    "            \n",
    "            for col in current_df.columns:\n",
    "                if col not in final_df.columns:\n",
    "                    current_df = current_df.drop(col)\n",
    "\n",
    "        print(f\"Processing file: {path_str}\")\n",
    "\n",
    "    return final_df"
   ]
  },
  {
   "cell_type": "code",
   "execution_count": 16,
   "id": "820e1b19",
   "metadata": {},
   "outputs": [],
   "source": [
    "def save_dataframe_as_zip(df, zip_filepath, csv_filename):\n",
    "    \"\"\"\n",
    "    Saves a Polars DataFrame as a CSV file compressed inside a ZIP archive\n",
    "    directly to disk.\n",
    "\n",
    "    Args:\n",
    "        df (pl.DataFrame): The DataFrame to save.\n",
    "        zip_filepath (str): The path for the ZIP file to save.\n",
    "        csv_filename (str): The name of the CSV file inside the ZIP archive.\n",
    "    \"\"\"\n",
    "    # Create a BytesIO object to hold the CSV data in memory\n",
    "    csv_buffer = io.BytesIO()\n",
    "\n",
    "    # Write the DataFrame to the CSV buffer in memory\n",
    "    df.write_csv(csv_buffer)\n",
    "\n",
    "    # Open the ZIP file and write the CSV content directly into it\n",
    "    with zipfile.ZipFile(zip_filepath, mode='w', \n",
    "                         compression=zipfile.ZIP_DEFLATED) as zf:\n",
    "        # Ensure the cursor is at the start of the buffer\n",
    "        csv_buffer.seek(0)\n",
    "        # Write the CSV buffer as a file inside the ZIP archive\n",
    "        zf.writestr(csv_filename, csv_buffer.getvalue())\n",
    "\n",
    "    print(f\"DataFrame saved and compressed as {zip_filepath}\")\n"
   ]
  },
  {
   "cell_type": "code",
   "execution_count": 17,
   "id": "f449880f",
   "metadata": {},
   "outputs": [
    {
     "name": "stdout",
     "output_type": "stream",
     "text": [
      "Processing file: datos/hogar/16-2T-hogar.txt\n",
      "Processing file: datos/hogar/16-3T-hogar.txt\n",
      "Processing file: datos/hogar/16-4T-hogar.txt\n",
      "Processing file: datos/hogar/17-1T-hogar.txt\n",
      "Processing file: datos/hogar/17-2T-hogar.txt\n",
      "Processing file: datos/hogar/17-3T-hogar.txt\n",
      "Processing file: datos/hogar/17-4T-hogar.txt\n",
      "Processing file: datos/hogar/18-1T-hogar.txt\n",
      "Processing file: datos/hogar/18-2T-hogar.txt\n",
      "Processing file: datos/hogar/18-3T-hogar.txt\n",
      "Processing file: datos/hogar/18-4T-hogar.txt\n",
      "Processing file: datos/hogar/19-1T-hogar.txt\n",
      "Processing file: datos/hogar/19-2T-hogar.txt\n",
      "Processing file: datos/hogar/19-3T-hogar.txt\n",
      "Processing file: datos/hogar/19-4T-hogar.txt\n",
      "Processing file: datos/hogar/20-1T-hogar.txt\n",
      "Processing file: datos/hogar/20-2T-hogar.txt\n",
      "Processing file: datos/hogar/20-3T-hogar.txt\n",
      "Processing file: datos/hogar/20-4T-hogar.txt\n",
      "Processing file: datos/hogar/21-1T-hogar.txt\n",
      "Processing file: datos/hogar/21-2T-hogar.txt\n",
      "Processing file: datos/hogar/21-3T-hogar.txt\n",
      "Processing file: datos/hogar/21-4T-hogar.txt\n",
      "Processing file: datos/hogar/22-1T-hogar.txt\n",
      "Processing file: datos/hogar/22-2T-hogar.txt\n",
      "Processing file: datos/hogar/22-3T-hogar.txt\n",
      "Processing file: datos/hogar/22-4T-hogar.txt\n",
      "Processing file: datos/hogar/23-1T-hogar.txt\n",
      "Processing file: datos/hogar/23-2T-hogar.txt\n",
      "Processing file: datos/hogar/23-3T-hogar.txt\n",
      "Processing file: datos/hogar/23-4T-hogar.txt\n",
      "Processing file: datos/hogar/24-1T-hogar.txt\n"
     ]
    },
    {
     "data": {
      "text/html": [
       "<div><style>\n",
       ".dataframe > thead > tr,\n",
       ".dataframe > tbody > tr {\n",
       "  text-align: right;\n",
       "  white-space: pre-wrap;\n",
       "}\n",
       "</style>\n",
       "<small>shape: (553_388, 88)</small><table border=\"1\" class=\"dataframe\"><thead><tr><th>CODUSU</th><th>ANO4</th><th>TRIMESTRE</th><th>NRO_HOGAR</th><th>REALIZADA</th><th>REGION</th><th>MAS_500</th><th>AGLOMERADO</th><th>PONDERA</th><th>IV1</th><th>IV1_ESP</th><th>IV2</th><th>IV3</th><th>IV3_ESP</th><th>IV4</th><th>IV5</th><th>IV6</th><th>IV7</th><th>IV7_ESP</th><th>IV8</th><th>IV9</th><th>IV10</th><th>IV11</th><th>IV12_1</th><th>IV12_2</th><th>IV12_3</th><th>II1</th><th>II2</th><th>II3</th><th>II3_1</th><th>II4_1</th><th>II4_2</th><th>II4_3</th><th>II5</th><th>II5_1</th><th>II6</th><th>II6_1</th><th>&hellip;</th><th>V8</th><th>V9</th><th>V10</th><th>V11</th><th>V12</th><th>V13</th><th>V14</th><th>V15</th><th>V16</th><th>V17</th><th>V18</th><th>V19_A</th><th>V19_B</th><th>IX_TOT</th><th>IX_MEN10</th><th>IX_MAYEQ10</th><th>ITF</th><th>DECIFR</th><th>IDECIFR</th><th>RDECIFR</th><th>GDECIFR</th><th>PDECIFR</th><th>ADECIFR</th><th>IPCF</th><th>DECCFR</th><th>IDECCFR</th><th>RDECCFR</th><th>GDECCFR</th><th>PDECCFR</th><th>ADECCFR</th><th>PONDIH</th><th>VII1_1</th><th>VII1_2</th><th>VII2_1</th><th>VII2_2</th><th>VII2_3</th><th>VII2_4</th></tr><tr><td>str</td><td>i32</td><td>i32</td><td>i32</td><td>i32</td><td>i32</td><td>str</td><td>i32</td><td>i32</td><td>i32</td><td>str</td><td>i32</td><td>i32</td><td>str</td><td>i32</td><td>i32</td><td>i32</td><td>i32</td><td>str</td><td>i32</td><td>i32</td><td>i32</td><td>i32</td><td>i32</td><td>i32</td><td>i32</td><td>i32</td><td>i32</td><td>i32</td><td>i32</td><td>i32</td><td>i32</td><td>i32</td><td>i32</td><td>i32</td><td>i32</td><td>i32</td><td>&hellip;</td><td>i32</td><td>i32</td><td>i32</td><td>i32</td><td>i32</td><td>i32</td><td>i32</td><td>i32</td><td>i32</td><td>i32</td><td>i32</td><td>i32</td><td>i32</td><td>i32</td><td>i32</td><td>i32</td><td>i32</td><td>i32</td><td>str</td><td>i32</td><td>str</td><td>str</td><td>i32</td><td>f32</td><td>i32</td><td>str</td><td>i32</td><td>str</td><td>str</td><td>i32</td><td>i32</td><td>i32</td><td>i32</td><td>i32</td><td>i32</td><td>i32</td><td>i32</td></tr></thead><tbody><tr><td>&quot;TQRMNOQUXHKOKMCDEGKDB00475140&quot;</td><td>2016</td><td>2</td><td>1</td><td>1</td><td>43</td><td>&quot;N&quot;</td><td>14</td><td>77</td><td>1</td><td>null</td><td>3</td><td>1</td><td>null</td><td>4</td><td>1</td><td>1</td><td>1</td><td>null</td><td>1</td><td>1</td><td>1</td><td>1</td><td>2</td><td>2</td><td>2</td><td>3</td><td>2</td><td>1</td><td>1</td><td>1</td><td>1</td><td>1</td><td>2</td><td>0</td><td>2</td><td>0</td><td>&hellip;</td><td>2</td><td>2</td><td>2</td><td>2</td><td>2</td><td>2</td><td>2</td><td>2</td><td>1</td><td>2</td><td>2</td><td>2</td><td>2</td><td>4</td><td>0</td><td>4</td><td>0</td><td>12</td><td>&quot;12&quot;</td><td>12</td><td>&quot;&nbsp;&nbsp;&quot;</td><td>&quot;12&quot;</td><td>12</td><td>0.0</td><td>12</td><td>&quot;12&quot;</td><td>12</td><td>&quot;&nbsp;&nbsp;&quot;</td><td>&quot;12&quot;</td><td>12</td><td>0</td><td>2</td><td>0</td><td>98</td><td>0</td><td>0</td><td>0</td></tr><tr><td>&quot;TQRMNOQQYHMMKTCDEGKDB00475009&quot;</td><td>2016</td><td>2</td><td>1</td><td>1</td><td>43</td><td>&quot;N&quot;</td><td>14</td><td>66</td><td>1</td><td>null</td><td>3</td><td>1</td><td>null</td><td>4</td><td>1</td><td>1</td><td>1</td><td>null</td><td>1</td><td>1</td><td>1</td><td>1</td><td>2</td><td>2</td><td>2</td><td>3</td><td>2</td><td>2</td><td>0</td><td>1</td><td>2</td><td>1</td><td>2</td><td>0</td><td>2</td><td>0</td><td>&hellip;</td><td>2</td><td>2</td><td>2</td><td>2</td><td>2</td><td>1</td><td>2</td><td>2</td><td>1</td><td>2</td><td>2</td><td>2</td><td>2</td><td>3</td><td>0</td><td>3</td><td>19000</td><td>7</td><td>&quot;07&quot;</td><td>7</td><td>&quot;&nbsp;&nbsp;&quot;</td><td>&quot;07&quot;</td><td>8</td><td>6333.330078</td><td>6</td><td>&quot;07&quot;</td><td>6</td><td>&quot;&nbsp;&nbsp;&quot;</td><td>&quot;07&quot;</td><td>7</td><td>79</td><td>2</td><td>0</td><td>98</td><td>0</td><td>0</td><td>0</td></tr><tr><td>&quot;TQRMNORVUHJMKSCDEGKDB00475326&quot;</td><td>2016</td><td>2</td><td>1</td><td>1</td><td>43</td><td>&quot;N&quot;</td><td>14</td><td>59</td><td>1</td><td>null</td><td>2</td><td>1</td><td>null</td><td>4</td><td>1</td><td>1</td><td>1</td><td>null</td><td>1</td><td>1</td><td>1</td><td>1</td><td>2</td><td>2</td><td>2</td><td>2</td><td>1</td><td>2</td><td>0</td><td>1</td><td>1</td><td>2</td><td>2</td><td>0</td><td>2</td><td>0</td><td>&hellip;</td><td>2</td><td>2</td><td>2</td><td>2</td><td>1</td><td>2</td><td>2</td><td>2</td><td>2</td><td>2</td><td>2</td><td>2</td><td>2</td><td>2</td><td>0</td><td>2</td><td>13800</td><td>5</td><td>&quot;06&quot;</td><td>6</td><td>&quot;&nbsp;&nbsp;&quot;</td><td>&quot;06&quot;</td><td>6</td><td>6900.0</td><td>7</td><td>&quot;07&quot;</td><td>7</td><td>&quot;&nbsp;&nbsp;&quot;</td><td>&quot;07&quot;</td><td>8</td><td>66</td><td>1</td><td>0</td><td>2</td><td>0</td><td>0</td><td>0</td></tr><tr><td>&quot;TQRMNOPQUHMMKTCDEGKDB00475005&quot;</td><td>2016</td><td>2</td><td>1</td><td>1</td><td>43</td><td>&quot;N&quot;</td><td>14</td><td>66</td><td>1</td><td>null</td><td>4</td><td>1</td><td>null</td><td>4</td><td>1</td><td>1</td><td>1</td><td>null</td><td>1</td><td>1</td><td>1</td><td>1</td><td>2</td><td>2</td><td>2</td><td>4</td><td>1</td><td>2</td><td>0</td><td>1</td><td>1</td><td>1</td><td>2</td><td>0</td><td>2</td><td>0</td><td>&hellip;</td><td>2</td><td>2</td><td>2</td><td>2</td><td>2</td><td>2</td><td>2</td><td>2</td><td>1</td><td>2</td><td>2</td><td>2</td><td>2</td><td>2</td><td>0</td><td>2</td><td>25000</td><td>8</td><td>&quot;09&quot;</td><td>9</td><td>&quot;&nbsp;&nbsp;&quot;</td><td>&quot;09&quot;</td><td>9</td><td>12500.0</td><td>9</td><td>&quot;09&quot;</td><td>9</td><td>&quot;&nbsp;&nbsp;&quot;</td><td>&quot;09&quot;</td><td>10</td><td>81</td><td>2</td><td>0</td><td>98</td><td>0</td><td>0</td><td>0</td></tr><tr><td>&quot;TQRMNORVRHJMKSCDEGKDB00475324&quot;</td><td>2016</td><td>2</td><td>1</td><td>1</td><td>43</td><td>&quot;N&quot;</td><td>14</td><td>59</td><td>1</td><td>null</td><td>3</td><td>1</td><td>null</td><td>4</td><td>1</td><td>1</td><td>1</td><td>null</td><td>1</td><td>1</td><td>1</td><td>1</td><td>2</td><td>2</td><td>2</td><td>3</td><td>1</td><td>2</td><td>0</td><td>1</td><td>1</td><td>1</td><td>2</td><td>0</td><td>1</td><td>1</td><td>&hellip;</td><td>2</td><td>2</td><td>2</td><td>2</td><td>2</td><td>2</td><td>2</td><td>2</td><td>2</td><td>2</td><td>2</td><td>2</td><td>2</td><td>2</td><td>0</td><td>2</td><td>6000</td><td>2</td><td>&quot;02&quot;</td><td>2</td><td>&quot;&nbsp;&nbsp;&quot;</td><td>&quot;02&quot;</td><td>2</td><td>3000.0</td><td>3</td><td>&quot;03&quot;</td><td>3</td><td>&quot;&nbsp;&nbsp;&quot;</td><td>&quot;03&quot;</td><td>4</td><td>65</td><td>2</td><td>0</td><td>1</td><td>0</td><td>0</td><td>0</td></tr><tr><td>&hellip;</td><td>&hellip;</td><td>&hellip;</td><td>&hellip;</td><td>&hellip;</td><td>&hellip;</td><td>&hellip;</td><td>&hellip;</td><td>&hellip;</td><td>&hellip;</td><td>&hellip;</td><td>&hellip;</td><td>&hellip;</td><td>&hellip;</td><td>&hellip;</td><td>&hellip;</td><td>&hellip;</td><td>&hellip;</td><td>&hellip;</td><td>&hellip;</td><td>&hellip;</td><td>&hellip;</td><td>&hellip;</td><td>&hellip;</td><td>&hellip;</td><td>&hellip;</td><td>&hellip;</td><td>&hellip;</td><td>&hellip;</td><td>&hellip;</td><td>&hellip;</td><td>&hellip;</td><td>&hellip;</td><td>&hellip;</td><td>&hellip;</td><td>&hellip;</td><td>&hellip;</td><td>&hellip;</td><td>&hellip;</td><td>&hellip;</td><td>&hellip;</td><td>&hellip;</td><td>&hellip;</td><td>&hellip;</td><td>&hellip;</td><td>&hellip;</td><td>&hellip;</td><td>&hellip;</td><td>&hellip;</td><td>&hellip;</td><td>&hellip;</td><td>&hellip;</td><td>&hellip;</td><td>&hellip;</td><td>&hellip;</td><td>&hellip;</td><td>&hellip;</td><td>&hellip;</td><td>&hellip;</td><td>&hellip;</td><td>&hellip;</td><td>&hellip;</td><td>&hellip;</td><td>&hellip;</td><td>&hellip;</td><td>&hellip;</td><td>&hellip;</td><td>&hellip;</td><td>&hellip;</td><td>&hellip;</td><td>&hellip;</td><td>&hellip;</td><td>&hellip;</td><td>&hellip;</td><td>&hellip;</td></tr><tr><td>&quot;TQRMNOPXXHLKKUCDEFNFF00852324&quot;</td><td>2024</td><td>1</td><td>1</td><td>1</td><td>41</td><td>&quot;N&quot;</td><td>7</td><td>336</td><td>2</td><td>&quot;&quot;</td><td>3</td><td>1</td><td>&quot;&quot;</td><td>9</td><td>1</td><td>1</td><td>1</td><td>&quot;&quot;</td><td>1</td><td>1</td><td>1</td><td>1</td><td>2</td><td>2</td><td>2</td><td>3</td><td>2</td><td>2</td><td>0</td><td>1</td><td>1</td><td>2</td><td>2</td><td>0</td><td>2</td><td>0</td><td>&hellip;</td><td>2</td><td>2</td><td>2</td><td>2</td><td>2</td><td>2</td><td>2</td><td>2</td><td>1</td><td>2</td><td>2</td><td>2</td><td>2</td><td>3</td><td>0</td><td>3</td><td>0</td><td>12</td><td>&quot;12&quot;</td><td>12</td><td>&quot;&quot;</td><td>&quot;12&quot;</td><td>12</td><td>0.0</td><td>12</td><td>&quot;12&quot;</td><td>12</td><td>&quot;&quot;</td><td>&quot;12&quot;</td><td>12</td><td>0</td><td>96</td><td>0</td><td>2</td><td>3</td><td>0</td><td>0</td></tr><tr><td>&quot;TQRMNOPQTHKMLMCDEHMHF00861771&quot;</td><td>2024</td><td>1</td><td>1</td><td>1</td><td>42</td><td>&quot;N&quot;</td><td>26</td><td>141</td><td>1</td><td>&quot;&quot;</td><td>3</td><td>1</td><td>&quot;&quot;</td><td>2</td><td>1</td><td>1</td><td>1</td><td>&quot;&quot;</td><td>1</td><td>1</td><td>1</td><td>1</td><td>2</td><td>2</td><td>2</td><td>3</td><td>2</td><td>2</td><td>0</td><td>1</td><td>1</td><td>1</td><td>2</td><td>0</td><td>2</td><td>0</td><td>&hellip;</td><td>2</td><td>2</td><td>2</td><td>2</td><td>2</td><td>2</td><td>2</td><td>2</td><td>2</td><td>2</td><td>2</td><td>2</td><td>2</td><td>2</td><td>0</td><td>2</td><td>213569</td><td>2</td><td>&quot;2&quot;</td><td>2</td><td>&quot;&quot;</td><td>&quot;2&quot;</td><td>2</td><td>106784.5</td><td>3</td><td>&quot;3&quot;</td><td>3</td><td>&quot;&quot;</td><td>&quot;3&quot;</td><td>2</td><td>156</td><td>97</td><td>0</td><td>1</td><td>2</td><td>0</td><td>0</td></tr><tr><td>&quot;TQRMNOSYXHMMLNCDEFNFF00798999&quot;</td><td>2024</td><td>1</td><td>1</td><td>1</td><td>41</td><td>&quot;N&quot;</td><td>7</td><td>305</td><td>1</td><td>&quot;&quot;</td><td>4</td><td>2</td><td>&quot;&quot;</td><td>4</td><td>1</td><td>1</td><td>1</td><td>&quot;&quot;</td><td>1</td><td>1</td><td>1</td><td>3</td><td>2</td><td>2</td><td>2</td><td>4</td><td>3</td><td>2</td><td>0</td><td>1</td><td>2</td><td>2</td><td>2</td><td>0</td><td>2</td><td>0</td><td>&hellip;</td><td>2</td><td>2</td><td>2</td><td>1</td><td>2</td><td>2</td><td>2</td><td>2</td><td>2</td><td>2</td><td>2</td><td>2</td><td>2</td><td>6</td><td>1</td><td>5</td><td>253700</td><td>2</td><td>&quot;3&quot;</td><td>4</td><td>&quot;&quot;</td><td>&quot;3&quot;</td><td>3</td><td>42283.328125</td><td>1</td><td>&quot;1&quot;</td><td>1</td><td>&quot;&quot;</td><td>&quot;1&quot;</td><td>1</td><td>353</td><td>2</td><td>0</td><td>1</td><td>3</td><td>4</td><td>0</td></tr><tr><td>&quot;TQRMNOPTSHLOLQCDEFNFF00852331&quot;</td><td>2024</td><td>1</td><td>1</td><td>1</td><td>41</td><td>&quot;N&quot;</td><td>7</td><td>331</td><td>1</td><td>&quot;&quot;</td><td>4</td><td>1</td><td>&quot;&quot;</td><td>4</td><td>1</td><td>1</td><td>1</td><td>&quot;&quot;</td><td>1</td><td>1</td><td>1</td><td>2</td><td>2</td><td>2</td><td>2</td><td>4</td><td>1</td><td>2</td><td>0</td><td>1</td><td>2</td><td>2</td><td>2</td><td>0</td><td>2</td><td>0</td><td>&hellip;</td><td>2</td><td>2</td><td>2</td><td>2</td><td>2</td><td>1</td><td>2</td><td>2</td><td>1</td><td>2</td><td>2</td><td>2</td><td>2</td><td>1</td><td>0</td><td>1</td><td>213500</td><td>2</td><td>&quot;2&quot;</td><td>3</td><td>&quot;&quot;</td><td>&quot;2&quot;</td><td>3</td><td>213500.0</td><td>6</td><td>&quot;6&quot;</td><td>8</td><td>&quot;&quot;</td><td>&quot;6&quot;</td><td>7</td><td>420</td><td>97</td><td>0</td><td>98</td><td>0</td><td>0</td><td>0</td></tr><tr><td>&quot;TQRMNOVRSHKOKMCDEFOCD00861772&quot;</td><td>2024</td><td>1</td><td>1</td><td>1</td><td>41</td><td>&quot;N&quot;</td><td>8</td><td>231</td><td>1</td><td>&quot;&quot;</td><td>2</td><td>2</td><td>&quot;&quot;</td><td>4</td><td>2</td><td>2</td><td>1</td><td>&quot;&quot;</td><td>1</td><td>1</td><td>2</td><td>2</td><td>2</td><td>1</td><td>2</td><td>2</td><td>2</td><td>2</td><td>0</td><td>2</td><td>2</td><td>2</td><td>0</td><td>0</td><td>0</td><td>0</td><td>&hellip;</td><td>2</td><td>2</td><td>2</td><td>2</td><td>2</td><td>2</td><td>2</td><td>2</td><td>2</td><td>2</td><td>2</td><td>2</td><td>2</td><td>2</td><td>0</td><td>2</td><td>204000</td><td>2</td><td>&quot;2&quot;</td><td>3</td><td>&quot;&quot;</td><td>&quot;2&quot;</td><td>3</td><td>102000.0</td><td>3</td><td>&quot;3&quot;</td><td>4</td><td>&quot;&quot;</td><td>&quot;3&quot;</td><td>5</td><td>288</td><td>2</td><td>0</td><td>98</td><td>0</td><td>0</td><td>0</td></tr></tbody></table></div>"
      ],
      "text/plain": [
       "shape: (553_388, 88)\n",
       "┌───────────────────────────┬──────┬───────────┬───────────┬───┬────────┬────────┬────────┬────────┐\n",
       "│ CODUSU                    ┆ ANO4 ┆ TRIMESTRE ┆ NRO_HOGAR ┆ … ┆ VII2_1 ┆ VII2_2 ┆ VII2_3 ┆ VII2_4 │\n",
       "│ ---                       ┆ ---  ┆ ---       ┆ ---       ┆   ┆ ---    ┆ ---    ┆ ---    ┆ ---    │\n",
       "│ str                       ┆ i32  ┆ i32       ┆ i32       ┆   ┆ i32    ┆ i32    ┆ i32    ┆ i32    │\n",
       "╞═══════════════════════════╪══════╪═══════════╪═══════════╪═══╪════════╪════════╪════════╪════════╡\n",
       "│ TQRMNOQUXHKOKMCDEGKDB0047 ┆ 2016 ┆ 2         ┆ 1         ┆ … ┆ 98     ┆ 0      ┆ 0      ┆ 0      │\n",
       "│ 5140                      ┆      ┆           ┆           ┆   ┆        ┆        ┆        ┆        │\n",
       "│ TQRMNOQQYHMMKTCDEGKDB0047 ┆ 2016 ┆ 2         ┆ 1         ┆ … ┆ 98     ┆ 0      ┆ 0      ┆ 0      │\n",
       "│ 5009                      ┆      ┆           ┆           ┆   ┆        ┆        ┆        ┆        │\n",
       "│ TQRMNORVUHJMKSCDEGKDB0047 ┆ 2016 ┆ 2         ┆ 1         ┆ … ┆ 2      ┆ 0      ┆ 0      ┆ 0      │\n",
       "│ 5326                      ┆      ┆           ┆           ┆   ┆        ┆        ┆        ┆        │\n",
       "│ TQRMNOPQUHMMKTCDEGKDB0047 ┆ 2016 ┆ 2         ┆ 1         ┆ … ┆ 98     ┆ 0      ┆ 0      ┆ 0      │\n",
       "│ 5005                      ┆      ┆           ┆           ┆   ┆        ┆        ┆        ┆        │\n",
       "│ TQRMNORVRHJMKSCDEGKDB0047 ┆ 2016 ┆ 2         ┆ 1         ┆ … ┆ 1      ┆ 0      ┆ 0      ┆ 0      │\n",
       "│ 5324                      ┆      ┆           ┆           ┆   ┆        ┆        ┆        ┆        │\n",
       "│ …                         ┆ …    ┆ …         ┆ …         ┆ … ┆ …      ┆ …      ┆ …      ┆ …      │\n",
       "│ TQRMNOPXXHLKKUCDEFNFF0085 ┆ 2024 ┆ 1         ┆ 1         ┆ … ┆ 2      ┆ 3      ┆ 0      ┆ 0      │\n",
       "│ 2324                      ┆      ┆           ┆           ┆   ┆        ┆        ┆        ┆        │\n",
       "│ TQRMNOPQTHKMLMCDEHMHF0086 ┆ 2024 ┆ 1         ┆ 1         ┆ … ┆ 1      ┆ 2      ┆ 0      ┆ 0      │\n",
       "│ 1771                      ┆      ┆           ┆           ┆   ┆        ┆        ┆        ┆        │\n",
       "│ TQRMNOSYXHMMLNCDEFNFF0079 ┆ 2024 ┆ 1         ┆ 1         ┆ … ┆ 1      ┆ 3      ┆ 4      ┆ 0      │\n",
       "│ 8999                      ┆      ┆           ┆           ┆   ┆        ┆        ┆        ┆        │\n",
       "│ TQRMNOPTSHLOLQCDEFNFF0085 ┆ 2024 ┆ 1         ┆ 1         ┆ … ┆ 98     ┆ 0      ┆ 0      ┆ 0      │\n",
       "│ 2331                      ┆      ┆           ┆           ┆   ┆        ┆        ┆        ┆        │\n",
       "│ TQRMNOVRSHKOKMCDEFOCD0086 ┆ 2024 ┆ 1         ┆ 1         ┆ … ┆ 98     ┆ 0      ┆ 0      ┆ 0      │\n",
       "│ 1772                      ┆      ┆           ┆           ┆   ┆        ┆        ┆        ┆        │\n",
       "└───────────────────────────┴──────┴───────────┴───────────┴───┴────────┴────────┴────────┴────────┘"
      ]
     },
     "execution_count": 17,
     "metadata": {},
     "output_type": "execute_result"
    }
   ],
   "source": [
    "base_path = 'datos/hogar'\n",
    "hogar_file_list = sorted(os.listdir(base_path))\n",
    "hogar_file_paths = [os.path.join(base_path, file) for file in hogar_file_list]\n",
    "\n",
    "hogar = process_txt_files(hogar_file_paths)\n",
    "hogar"
   ]
  },
  {
   "cell_type": "code",
   "execution_count": 18,
   "id": "3744eef3",
   "metadata": {},
   "outputs": [
    {
     "name": "stdout",
     "output_type": "stream",
     "text": [
      "DataFrame saved and compressed as datos/hogar_data.zip\n"
     ]
    }
   ],
   "source": [
    "zip_file_path = \"datos/hogar_data.zip\"\n",
    "csv_file_name = \"hogar_data.csv\"\n",
    "\n",
    "save_dataframe_as_zip(hogar, zip_file_path, csv_file_name)"
   ]
  },
  {
   "cell_type": "code",
   "execution_count": 20,
   "id": "44e19980",
   "metadata": {},
   "outputs": [
    {
     "name": "stdout",
     "output_type": "stream",
     "text": [
      "Processing file: datos/individual/16-2T-individual.txt\n",
      "Processing file: datos/individual/16-3T-individual.txt\n",
      "Processing file: datos/individual/16-4T-individual.txt\n",
      "Processing file: datos/individual/17-1T-individual.txt\n",
      "Processing file: datos/individual/17-2T-individual.txt\n",
      "Processing file: datos/individual/17-3T-individual.txt\n",
      "Processing file: datos/individual/17-4T-individual.txt\n",
      "Processing file: datos/individual/18-1T-individual.txt\n",
      "Processing file: datos/individual/18-2T-individual.txt\n",
      "Processing file: datos/individual/18-3T-individual.txt\n",
      "Processing file: datos/individual/18-4T-individual.txt\n",
      "Processing file: datos/individual/19-1T-individual.txt\n",
      "Processing file: datos/individual/19-2T-individual.txt\n",
      "Processing file: datos/individual/19-3T-individual.txt\n",
      "Processing file: datos/individual/19-4T-individual.txt\n",
      "Processing file: datos/individual/20-1T-individual.txt\n",
      "Processing file: datos/individual/20-2T-individual.txt\n"
     ]
    },
    {
     "ename": "ComputeError",
     "evalue": "could not parse `7,5` as dtype `i64` at column 'PP3F_TOT' (column number 46)\n\nThe current offset in the file is 46440 bytes.\n\nYou might want to try:\n- increasing `infer_schema_length` (e.g. `infer_schema_length=10000`),\n- specifying correct dtype with the `schema_overrides` argument\n- setting `ignore_errors` to `True`,\n- adding `7,5` to the `null_values` list.\n\nOriginal error: ```remaining bytes non-empty```",
     "output_type": "error",
     "traceback": [
      "\u001b[0;31m---------------------------------------------------------------------------\u001b[0m",
      "\u001b[0;31mComputeError\u001b[0m                              Traceback (most recent call last)",
      "Cell \u001b[0;32mIn[20], line 8\u001b[0m\n\u001b[1;32m      3\u001b[0m individual_file_paths \u001b[38;5;241m=\u001b[39m [os\u001b[38;5;241m.\u001b[39mpath\u001b[38;5;241m.\u001b[39mjoin(base_path, file)\n\u001b[1;32m      4\u001b[0m                          \u001b[38;5;28;01mfor\u001b[39;00m file \u001b[38;5;129;01min\u001b[39;00m individual_file_list]\n\u001b[1;32m      6\u001b[0m schema_overrides \u001b[38;5;241m=\u001b[39m {\u001b[38;5;124m'\u001b[39m\u001b[38;5;124mPP3E_TOT\u001b[39m\u001b[38;5;124m'\u001b[39m: pl\u001b[38;5;241m.\u001b[39mFloat32, \u001b[38;5;124m'\u001b[39m\u001b[38;5;124mPP3F_TOT\u001b[39m\u001b[38;5;124m'\u001b[39m:pl\u001b[38;5;241m.\u001b[39mFloat32}\n\u001b[0;32m----> 8\u001b[0m individual \u001b[38;5;241m=\u001b[39m \u001b[43mprocess_txt_files\u001b[49m\u001b[43m(\u001b[49m\u001b[43mindividual_file_paths\u001b[49m\u001b[43m,\u001b[49m\u001b[43m \u001b[49m\u001b[43mschema_overrides\u001b[49m\u001b[43m)\u001b[49m\n\u001b[1;32m      9\u001b[0m individual\n",
      "Cell \u001b[0;32mIn[15], line 6\u001b[0m, in \u001b[0;36mprocess_txt_files\u001b[0;34m(file_paths, schema_overrides)\u001b[0m\n\u001b[1;32m      2\u001b[0m final_df \u001b[38;5;241m=\u001b[39m \u001b[38;5;28;01mNone\u001b[39;00m\n\u001b[1;32m      4\u001b[0m \u001b[38;5;28;01mfor\u001b[39;00m index, path_str \u001b[38;5;129;01min\u001b[39;00m \u001b[38;5;28menumerate\u001b[39m(file_paths):\n\u001b[1;32m      5\u001b[0m     \u001b[38;5;66;03m# Read and format the current file\u001b[39;00m\n\u001b[0;32m----> 6\u001b[0m     current_df \u001b[38;5;241m=\u001b[39m \u001b[43mread_and_format\u001b[49m\u001b[43m(\u001b[49m\u001b[43mpath_str\u001b[49m\u001b[43m,\u001b[49m\u001b[43m \u001b[49m\u001b[43mschema_overrides\u001b[49m\u001b[43m)\u001b[49m\n\u001b[1;32m      8\u001b[0m     \u001b[38;5;28;01mif\u001b[39;00m index \u001b[38;5;241m==\u001b[39m \u001b[38;5;241m0\u001b[39m:\n\u001b[1;32m      9\u001b[0m         \u001b[38;5;66;03m# Initialize with the first file\u001b[39;00m\n\u001b[1;32m     10\u001b[0m         final_df \u001b[38;5;241m=\u001b[39m current_df\n",
      "Cell \u001b[0;32mIn[14], line 3\u001b[0m, in \u001b[0;36mread_and_format\u001b[0;34m(path, schema_overrides)\u001b[0m\n\u001b[1;32m      1\u001b[0m \u001b[38;5;28;01mdef\u001b[39;00m \u001b[38;5;21mread_and_format\u001b[39m(path, schema_overrides\u001b[38;5;241m=\u001b[39m\u001b[38;5;28;01mNone\u001b[39;00m):\n\u001b[1;32m      2\u001b[0m     \u001b[38;5;28;01mif\u001b[39;00m schema_overrides \u001b[38;5;129;01mis\u001b[39;00m \u001b[38;5;129;01mnot\u001b[39;00m \u001b[38;5;28;01mNone\u001b[39;00m:\n\u001b[0;32m----> 3\u001b[0m         df \u001b[38;5;241m=\u001b[39m \u001b[43mpl\u001b[49m\u001b[38;5;241;43m.\u001b[39;49m\u001b[43mread_csv\u001b[49m\u001b[43m(\u001b[49m\u001b[43mpath\u001b[49m\u001b[43m,\u001b[49m\n\u001b[1;32m      4\u001b[0m \u001b[43m                         \u001b[49m\u001b[43mseparator\u001b[49m\u001b[38;5;241;43m=\u001b[39;49m\u001b[38;5;124;43m'\u001b[39;49m\u001b[38;5;124;43m;\u001b[39;49m\u001b[38;5;124;43m'\u001b[39;49m\u001b[43m,\u001b[49m\n\u001b[1;32m      5\u001b[0m \u001b[43m                         \u001b[49m\u001b[43mnull_values\u001b[49m\u001b[38;5;241;43m=\u001b[39;49m\u001b[43m[\u001b[49m\u001b[38;5;124;43m\"\u001b[39;49m\u001b[38;5;124;43mNA\u001b[39;49m\u001b[38;5;124;43m\"\u001b[39;49m\u001b[43m]\u001b[49m\u001b[43m,\u001b[49m\n\u001b[1;32m      6\u001b[0m \u001b[43m                         \u001b[49m\u001b[43mdecimal_comma\u001b[49m\u001b[38;5;241;43m=\u001b[39;49m\u001b[38;5;28;43;01mTrue\u001b[39;49;00m\u001b[43m,\u001b[49m\n\u001b[1;32m      7\u001b[0m \u001b[43m                         \u001b[49m\u001b[43minfer_schema_length\u001b[49m\u001b[38;5;241;43m=\u001b[39;49m\u001b[38;5;241;43m10000\u001b[39;49m\u001b[43m)\u001b[49m\n\u001b[1;32m      9\u001b[0m     \u001b[38;5;28;01melse\u001b[39;00m:\n\u001b[1;32m     10\u001b[0m         df \u001b[38;5;241m=\u001b[39m pl\u001b[38;5;241m.\u001b[39mread_csv(path,\n\u001b[1;32m     11\u001b[0m                          separator\u001b[38;5;241m=\u001b[39m\u001b[38;5;124m'\u001b[39m\u001b[38;5;124m;\u001b[39m\u001b[38;5;124m'\u001b[39m,\n\u001b[1;32m     12\u001b[0m                          null_values\u001b[38;5;241m=\u001b[39m[\u001b[38;5;124m\"\u001b[39m\u001b[38;5;124mNA\u001b[39m\u001b[38;5;124m\"\u001b[39m],\n\u001b[1;32m     13\u001b[0m                          decimal_comma\u001b[38;5;241m=\u001b[39m\u001b[38;5;28;01mTrue\u001b[39;00m,\n\u001b[1;32m     14\u001b[0m                          infer_schema_length\u001b[38;5;241m=\u001b[39m\u001b[38;5;241m10000\u001b[39m,\n\u001b[1;32m     15\u001b[0m                          schema_overrides\u001b[38;5;241m=\u001b[39mschema_overrides)\n",
      "File \u001b[0;32m~/miniconda3/envs/eph/lib/python3.13/site-packages/polars/_utils/deprecation.py:92\u001b[0m, in \u001b[0;36mdeprecate_renamed_parameter.<locals>.decorate.<locals>.wrapper\u001b[0;34m(*args, **kwargs)\u001b[0m\n\u001b[1;32m     87\u001b[0m \u001b[38;5;129m@wraps\u001b[39m(function)\n\u001b[1;32m     88\u001b[0m \u001b[38;5;28;01mdef\u001b[39;00m \u001b[38;5;21mwrapper\u001b[39m(\u001b[38;5;241m*\u001b[39margs: P\u001b[38;5;241m.\u001b[39margs, \u001b[38;5;241m*\u001b[39m\u001b[38;5;241m*\u001b[39mkwargs: P\u001b[38;5;241m.\u001b[39mkwargs) \u001b[38;5;241m-\u001b[39m\u001b[38;5;241m>\u001b[39m T:\n\u001b[1;32m     89\u001b[0m     _rename_keyword_argument(\n\u001b[1;32m     90\u001b[0m         old_name, new_name, kwargs, function\u001b[38;5;241m.\u001b[39m\u001b[38;5;18m__qualname__\u001b[39m, version\n\u001b[1;32m     91\u001b[0m     )\n\u001b[0;32m---> 92\u001b[0m     \u001b[38;5;28;01mreturn\u001b[39;00m \u001b[43mfunction\u001b[49m\u001b[43m(\u001b[49m\u001b[38;5;241;43m*\u001b[39;49m\u001b[43margs\u001b[49m\u001b[43m,\u001b[49m\u001b[43m \u001b[49m\u001b[38;5;241;43m*\u001b[39;49m\u001b[38;5;241;43m*\u001b[39;49m\u001b[43mkwargs\u001b[49m\u001b[43m)\u001b[49m\n",
      "File \u001b[0;32m~/miniconda3/envs/eph/lib/python3.13/site-packages/polars/_utils/deprecation.py:92\u001b[0m, in \u001b[0;36mdeprecate_renamed_parameter.<locals>.decorate.<locals>.wrapper\u001b[0;34m(*args, **kwargs)\u001b[0m\n\u001b[1;32m     87\u001b[0m \u001b[38;5;129m@wraps\u001b[39m(function)\n\u001b[1;32m     88\u001b[0m \u001b[38;5;28;01mdef\u001b[39;00m \u001b[38;5;21mwrapper\u001b[39m(\u001b[38;5;241m*\u001b[39margs: P\u001b[38;5;241m.\u001b[39margs, \u001b[38;5;241m*\u001b[39m\u001b[38;5;241m*\u001b[39mkwargs: P\u001b[38;5;241m.\u001b[39mkwargs) \u001b[38;5;241m-\u001b[39m\u001b[38;5;241m>\u001b[39m T:\n\u001b[1;32m     89\u001b[0m     _rename_keyword_argument(\n\u001b[1;32m     90\u001b[0m         old_name, new_name, kwargs, function\u001b[38;5;241m.\u001b[39m\u001b[38;5;18m__qualname__\u001b[39m, version\n\u001b[1;32m     91\u001b[0m     )\n\u001b[0;32m---> 92\u001b[0m     \u001b[38;5;28;01mreturn\u001b[39;00m \u001b[43mfunction\u001b[49m\u001b[43m(\u001b[49m\u001b[38;5;241;43m*\u001b[39;49m\u001b[43margs\u001b[49m\u001b[43m,\u001b[49m\u001b[43m \u001b[49m\u001b[38;5;241;43m*\u001b[39;49m\u001b[38;5;241;43m*\u001b[39;49m\u001b[43mkwargs\u001b[49m\u001b[43m)\u001b[49m\n",
      "File \u001b[0;32m~/miniconda3/envs/eph/lib/python3.13/site-packages/polars/_utils/deprecation.py:92\u001b[0m, in \u001b[0;36mdeprecate_renamed_parameter.<locals>.decorate.<locals>.wrapper\u001b[0;34m(*args, **kwargs)\u001b[0m\n\u001b[1;32m     87\u001b[0m \u001b[38;5;129m@wraps\u001b[39m(function)\n\u001b[1;32m     88\u001b[0m \u001b[38;5;28;01mdef\u001b[39;00m \u001b[38;5;21mwrapper\u001b[39m(\u001b[38;5;241m*\u001b[39margs: P\u001b[38;5;241m.\u001b[39margs, \u001b[38;5;241m*\u001b[39m\u001b[38;5;241m*\u001b[39mkwargs: P\u001b[38;5;241m.\u001b[39mkwargs) \u001b[38;5;241m-\u001b[39m\u001b[38;5;241m>\u001b[39m T:\n\u001b[1;32m     89\u001b[0m     _rename_keyword_argument(\n\u001b[1;32m     90\u001b[0m         old_name, new_name, kwargs, function\u001b[38;5;241m.\u001b[39m\u001b[38;5;18m__qualname__\u001b[39m, version\n\u001b[1;32m     91\u001b[0m     )\n\u001b[0;32m---> 92\u001b[0m     \u001b[38;5;28;01mreturn\u001b[39;00m \u001b[43mfunction\u001b[49m\u001b[43m(\u001b[49m\u001b[38;5;241;43m*\u001b[39;49m\u001b[43margs\u001b[49m\u001b[43m,\u001b[49m\u001b[43m \u001b[49m\u001b[38;5;241;43m*\u001b[39;49m\u001b[38;5;241;43m*\u001b[39;49m\u001b[43mkwargs\u001b[49m\u001b[43m)\u001b[49m\n",
      "File \u001b[0;32m~/miniconda3/envs/eph/lib/python3.13/site-packages/polars/io/csv/functions.py:527\u001b[0m, in \u001b[0;36mread_csv\u001b[0;34m(source, has_header, columns, new_columns, separator, comment_prefix, quote_char, skip_rows, schema, schema_overrides, null_values, missing_utf8_is_empty_string, ignore_errors, try_parse_dates, n_threads, infer_schema, infer_schema_length, batch_size, n_rows, encoding, low_memory, rechunk, use_pyarrow, storage_options, skip_rows_after_header, row_index_name, row_index_offset, sample_size, eol_char, raise_if_empty, truncate_ragged_lines, decimal_comma, glob)\u001b[0m\n\u001b[1;32m    519\u001b[0m \u001b[38;5;28;01melse\u001b[39;00m:\n\u001b[1;32m    520\u001b[0m     \u001b[38;5;28;01mwith\u001b[39;00m prepare_file_arg(\n\u001b[1;32m    521\u001b[0m         source,\n\u001b[1;32m    522\u001b[0m         encoding\u001b[38;5;241m=\u001b[39mencoding,\n\u001b[0;32m   (...)\u001b[0m\n\u001b[1;32m    525\u001b[0m         storage_options\u001b[38;5;241m=\u001b[39mstorage_options,\n\u001b[1;32m    526\u001b[0m     ) \u001b[38;5;28;01mas\u001b[39;00m data:\n\u001b[0;32m--> 527\u001b[0m         df \u001b[38;5;241m=\u001b[39m \u001b[43m_read_csv_impl\u001b[49m\u001b[43m(\u001b[49m\n\u001b[1;32m    528\u001b[0m \u001b[43m            \u001b[49m\u001b[43mdata\u001b[49m\u001b[43m,\u001b[49m\n\u001b[1;32m    529\u001b[0m \u001b[43m            \u001b[49m\u001b[43mhas_header\u001b[49m\u001b[38;5;241;43m=\u001b[39;49m\u001b[43mhas_header\u001b[49m\u001b[43m,\u001b[49m\n\u001b[1;32m    530\u001b[0m \u001b[43m            \u001b[49m\u001b[43mcolumns\u001b[49m\u001b[38;5;241;43m=\u001b[39;49m\u001b[43mcolumns\u001b[49m\u001b[43m \u001b[49m\u001b[38;5;28;43;01mif\u001b[39;49;00m\u001b[43m \u001b[49m\u001b[43mcolumns\u001b[49m\u001b[43m \u001b[49m\u001b[38;5;28;43;01melse\u001b[39;49;00m\u001b[43m \u001b[49m\u001b[43mprojection\u001b[49m\u001b[43m,\u001b[49m\n\u001b[1;32m    531\u001b[0m \u001b[43m            \u001b[49m\u001b[43mseparator\u001b[49m\u001b[38;5;241;43m=\u001b[39;49m\u001b[43mseparator\u001b[49m\u001b[43m,\u001b[49m\n\u001b[1;32m    532\u001b[0m \u001b[43m            \u001b[49m\u001b[43mcomment_prefix\u001b[49m\u001b[38;5;241;43m=\u001b[39;49m\u001b[43mcomment_prefix\u001b[49m\u001b[43m,\u001b[49m\n\u001b[1;32m    533\u001b[0m \u001b[43m            \u001b[49m\u001b[43mquote_char\u001b[49m\u001b[38;5;241;43m=\u001b[39;49m\u001b[43mquote_char\u001b[49m\u001b[43m,\u001b[49m\n\u001b[1;32m    534\u001b[0m \u001b[43m            \u001b[49m\u001b[43mskip_rows\u001b[49m\u001b[38;5;241;43m=\u001b[39;49m\u001b[43mskip_rows\u001b[49m\u001b[43m,\u001b[49m\n\u001b[1;32m    535\u001b[0m \u001b[43m            \u001b[49m\u001b[43mschema_overrides\u001b[49m\u001b[38;5;241;43m=\u001b[39;49m\u001b[43mschema_overrides\u001b[49m\u001b[43m,\u001b[49m\n\u001b[1;32m    536\u001b[0m \u001b[43m            \u001b[49m\u001b[43mschema\u001b[49m\u001b[38;5;241;43m=\u001b[39;49m\u001b[43mschema\u001b[49m\u001b[43m,\u001b[49m\n\u001b[1;32m    537\u001b[0m \u001b[43m            \u001b[49m\u001b[43mnull_values\u001b[49m\u001b[38;5;241;43m=\u001b[39;49m\u001b[43mnull_values\u001b[49m\u001b[43m,\u001b[49m\n\u001b[1;32m    538\u001b[0m \u001b[43m            \u001b[49m\u001b[43mmissing_utf8_is_empty_string\u001b[49m\u001b[38;5;241;43m=\u001b[39;49m\u001b[43mmissing_utf8_is_empty_string\u001b[49m\u001b[43m,\u001b[49m\n\u001b[1;32m    539\u001b[0m \u001b[43m            \u001b[49m\u001b[43mignore_errors\u001b[49m\u001b[38;5;241;43m=\u001b[39;49m\u001b[43mignore_errors\u001b[49m\u001b[43m,\u001b[49m\n\u001b[1;32m    540\u001b[0m \u001b[43m            \u001b[49m\u001b[43mtry_parse_dates\u001b[49m\u001b[38;5;241;43m=\u001b[39;49m\u001b[43mtry_parse_dates\u001b[49m\u001b[43m,\u001b[49m\n\u001b[1;32m    541\u001b[0m \u001b[43m            \u001b[49m\u001b[43mn_threads\u001b[49m\u001b[38;5;241;43m=\u001b[39;49m\u001b[43mn_threads\u001b[49m\u001b[43m,\u001b[49m\n\u001b[1;32m    542\u001b[0m \u001b[43m            \u001b[49m\u001b[43minfer_schema_length\u001b[49m\u001b[38;5;241;43m=\u001b[39;49m\u001b[43minfer_schema_length\u001b[49m\u001b[43m,\u001b[49m\n\u001b[1;32m    543\u001b[0m \u001b[43m            \u001b[49m\u001b[43mbatch_size\u001b[49m\u001b[38;5;241;43m=\u001b[39;49m\u001b[43mbatch_size\u001b[49m\u001b[43m,\u001b[49m\n\u001b[1;32m    544\u001b[0m \u001b[43m            \u001b[49m\u001b[43mn_rows\u001b[49m\u001b[38;5;241;43m=\u001b[39;49m\u001b[43mn_rows\u001b[49m\u001b[43m,\u001b[49m\n\u001b[1;32m    545\u001b[0m \u001b[43m            \u001b[49m\u001b[43mencoding\u001b[49m\u001b[38;5;241;43m=\u001b[39;49m\u001b[43mencoding\u001b[49m\u001b[43m \u001b[49m\u001b[38;5;28;43;01mif\u001b[39;49;00m\u001b[43m \u001b[49m\u001b[43mencoding\u001b[49m\u001b[43m \u001b[49m\u001b[38;5;241;43m==\u001b[39;49m\u001b[43m \u001b[49m\u001b[38;5;124;43m\"\u001b[39;49m\u001b[38;5;124;43mutf8-lossy\u001b[39;49m\u001b[38;5;124;43m\"\u001b[39;49m\u001b[43m \u001b[49m\u001b[38;5;28;43;01melse\u001b[39;49;00m\u001b[43m \u001b[49m\u001b[38;5;124;43m\"\u001b[39;49m\u001b[38;5;124;43mutf8\u001b[39;49m\u001b[38;5;124;43m\"\u001b[39;49m\u001b[43m,\u001b[49m\n\u001b[1;32m    546\u001b[0m \u001b[43m            \u001b[49m\u001b[43mlow_memory\u001b[49m\u001b[38;5;241;43m=\u001b[39;49m\u001b[43mlow_memory\u001b[49m\u001b[43m,\u001b[49m\n\u001b[1;32m    547\u001b[0m \u001b[43m            \u001b[49m\u001b[43mrechunk\u001b[49m\u001b[38;5;241;43m=\u001b[39;49m\u001b[43mrechunk\u001b[49m\u001b[43m,\u001b[49m\n\u001b[1;32m    548\u001b[0m \u001b[43m            \u001b[49m\u001b[43mskip_rows_after_header\u001b[49m\u001b[38;5;241;43m=\u001b[39;49m\u001b[43mskip_rows_after_header\u001b[49m\u001b[43m,\u001b[49m\n\u001b[1;32m    549\u001b[0m \u001b[43m            \u001b[49m\u001b[43mrow_index_name\u001b[49m\u001b[38;5;241;43m=\u001b[39;49m\u001b[43mrow_index_name\u001b[49m\u001b[43m,\u001b[49m\n\u001b[1;32m    550\u001b[0m \u001b[43m            \u001b[49m\u001b[43mrow_index_offset\u001b[49m\u001b[38;5;241;43m=\u001b[39;49m\u001b[43mrow_index_offset\u001b[49m\u001b[43m,\u001b[49m\n\u001b[1;32m    551\u001b[0m \u001b[43m            \u001b[49m\u001b[43meol_char\u001b[49m\u001b[38;5;241;43m=\u001b[39;49m\u001b[43meol_char\u001b[49m\u001b[43m,\u001b[49m\n\u001b[1;32m    552\u001b[0m \u001b[43m            \u001b[49m\u001b[43mraise_if_empty\u001b[49m\u001b[38;5;241;43m=\u001b[39;49m\u001b[43mraise_if_empty\u001b[49m\u001b[43m,\u001b[49m\n\u001b[1;32m    553\u001b[0m \u001b[43m            \u001b[49m\u001b[43mtruncate_ragged_lines\u001b[49m\u001b[38;5;241;43m=\u001b[39;49m\u001b[43mtruncate_ragged_lines\u001b[49m\u001b[43m,\u001b[49m\n\u001b[1;32m    554\u001b[0m \u001b[43m            \u001b[49m\u001b[43mdecimal_comma\u001b[49m\u001b[38;5;241;43m=\u001b[39;49m\u001b[43mdecimal_comma\u001b[49m\u001b[43m,\u001b[49m\n\u001b[1;32m    555\u001b[0m \u001b[43m            \u001b[49m\u001b[43mglob\u001b[49m\u001b[38;5;241;43m=\u001b[39;49m\u001b[43mglob\u001b[49m\u001b[43m,\u001b[49m\n\u001b[1;32m    556\u001b[0m \u001b[43m        \u001b[49m\u001b[43m)\u001b[49m\n\u001b[1;32m    558\u001b[0m \u001b[38;5;28;01mif\u001b[39;00m new_columns:\n\u001b[1;32m    559\u001b[0m     \u001b[38;5;28;01mreturn\u001b[39;00m _update_columns(df, new_columns)\n",
      "File \u001b[0;32m~/miniconda3/envs/eph/lib/python3.13/site-packages/polars/io/csv/functions.py:672\u001b[0m, in \u001b[0;36m_read_csv_impl\u001b[0;34m(source, has_header, columns, separator, comment_prefix, quote_char, skip_rows, schema, schema_overrides, null_values, missing_utf8_is_empty_string, ignore_errors, try_parse_dates, n_threads, infer_schema_length, batch_size, n_rows, encoding, low_memory, rechunk, skip_rows_after_header, row_index_name, row_index_offset, sample_size, eol_char, raise_if_empty, truncate_ragged_lines, decimal_comma, glob)\u001b[0m\n\u001b[1;32m    668\u001b[0m         \u001b[38;5;28;01mraise\u001b[39;00m \u001b[38;5;167;01mValueError\u001b[39;00m(msg)\n\u001b[1;32m    670\u001b[0m projection, columns \u001b[38;5;241m=\u001b[39m parse_columns_arg(columns)\n\u001b[0;32m--> 672\u001b[0m pydf \u001b[38;5;241m=\u001b[39m \u001b[43mPyDataFrame\u001b[49m\u001b[38;5;241;43m.\u001b[39;49m\u001b[43mread_csv\u001b[49m\u001b[43m(\u001b[49m\n\u001b[1;32m    673\u001b[0m \u001b[43m    \u001b[49m\u001b[43msource\u001b[49m\u001b[43m,\u001b[49m\n\u001b[1;32m    674\u001b[0m \u001b[43m    \u001b[49m\u001b[43minfer_schema_length\u001b[49m\u001b[43m,\u001b[49m\n\u001b[1;32m    675\u001b[0m \u001b[43m    \u001b[49m\u001b[43mbatch_size\u001b[49m\u001b[43m,\u001b[49m\n\u001b[1;32m    676\u001b[0m \u001b[43m    \u001b[49m\u001b[43mhas_header\u001b[49m\u001b[43m,\u001b[49m\n\u001b[1;32m    677\u001b[0m \u001b[43m    \u001b[49m\u001b[43mignore_errors\u001b[49m\u001b[43m,\u001b[49m\n\u001b[1;32m    678\u001b[0m \u001b[43m    \u001b[49m\u001b[43mn_rows\u001b[49m\u001b[43m,\u001b[49m\n\u001b[1;32m    679\u001b[0m \u001b[43m    \u001b[49m\u001b[43mskip_rows\u001b[49m\u001b[43m,\u001b[49m\n\u001b[1;32m    680\u001b[0m \u001b[43m    \u001b[49m\u001b[43mprojection\u001b[49m\u001b[43m,\u001b[49m\n\u001b[1;32m    681\u001b[0m \u001b[43m    \u001b[49m\u001b[43mseparator\u001b[49m\u001b[43m,\u001b[49m\n\u001b[1;32m    682\u001b[0m \u001b[43m    \u001b[49m\u001b[43mrechunk\u001b[49m\u001b[43m,\u001b[49m\n\u001b[1;32m    683\u001b[0m \u001b[43m    \u001b[49m\u001b[43mcolumns\u001b[49m\u001b[43m,\u001b[49m\n\u001b[1;32m    684\u001b[0m \u001b[43m    \u001b[49m\u001b[43mencoding\u001b[49m\u001b[43m,\u001b[49m\n\u001b[1;32m    685\u001b[0m \u001b[43m    \u001b[49m\u001b[43mn_threads\u001b[49m\u001b[43m,\u001b[49m\n\u001b[1;32m    686\u001b[0m \u001b[43m    \u001b[49m\u001b[43mpath\u001b[49m\u001b[43m,\u001b[49m\n\u001b[1;32m    687\u001b[0m \u001b[43m    \u001b[49m\u001b[43mdtype_list\u001b[49m\u001b[43m,\u001b[49m\n\u001b[1;32m    688\u001b[0m \u001b[43m    \u001b[49m\u001b[43mdtype_slice\u001b[49m\u001b[43m,\u001b[49m\n\u001b[1;32m    689\u001b[0m \u001b[43m    \u001b[49m\u001b[43mlow_memory\u001b[49m\u001b[43m,\u001b[49m\n\u001b[1;32m    690\u001b[0m \u001b[43m    \u001b[49m\u001b[43mcomment_prefix\u001b[49m\u001b[43m,\u001b[49m\n\u001b[1;32m    691\u001b[0m \u001b[43m    \u001b[49m\u001b[43mquote_char\u001b[49m\u001b[43m,\u001b[49m\n\u001b[1;32m    692\u001b[0m \u001b[43m    \u001b[49m\u001b[43mprocessed_null_values\u001b[49m\u001b[43m,\u001b[49m\n\u001b[1;32m    693\u001b[0m \u001b[43m    \u001b[49m\u001b[43mmissing_utf8_is_empty_string\u001b[49m\u001b[43m,\u001b[49m\n\u001b[1;32m    694\u001b[0m \u001b[43m    \u001b[49m\u001b[43mtry_parse_dates\u001b[49m\u001b[43m,\u001b[49m\n\u001b[1;32m    695\u001b[0m \u001b[43m    \u001b[49m\u001b[43mskip_rows_after_header\u001b[49m\u001b[43m,\u001b[49m\n\u001b[1;32m    696\u001b[0m \u001b[43m    \u001b[49m\u001b[43mparse_row_index_args\u001b[49m\u001b[43m(\u001b[49m\u001b[43mrow_index_name\u001b[49m\u001b[43m,\u001b[49m\u001b[43m \u001b[49m\u001b[43mrow_index_offset\u001b[49m\u001b[43m)\u001b[49m\u001b[43m,\u001b[49m\n\u001b[1;32m    697\u001b[0m \u001b[43m    \u001b[49m\u001b[43meol_char\u001b[49m\u001b[38;5;241;43m=\u001b[39;49m\u001b[43meol_char\u001b[49m\u001b[43m,\u001b[49m\n\u001b[1;32m    698\u001b[0m \u001b[43m    \u001b[49m\u001b[43mraise_if_empty\u001b[49m\u001b[38;5;241;43m=\u001b[39;49m\u001b[43mraise_if_empty\u001b[49m\u001b[43m,\u001b[49m\n\u001b[1;32m    699\u001b[0m \u001b[43m    \u001b[49m\u001b[43mtruncate_ragged_lines\u001b[49m\u001b[38;5;241;43m=\u001b[39;49m\u001b[43mtruncate_ragged_lines\u001b[49m\u001b[43m,\u001b[49m\n\u001b[1;32m    700\u001b[0m \u001b[43m    \u001b[49m\u001b[43mdecimal_comma\u001b[49m\u001b[38;5;241;43m=\u001b[39;49m\u001b[43mdecimal_comma\u001b[49m\u001b[43m,\u001b[49m\n\u001b[1;32m    701\u001b[0m \u001b[43m    \u001b[49m\u001b[43mschema\u001b[49m\u001b[38;5;241;43m=\u001b[39;49m\u001b[43mschema\u001b[49m\u001b[43m,\u001b[49m\n\u001b[1;32m    702\u001b[0m \u001b[43m\u001b[49m\u001b[43m)\u001b[49m\n\u001b[1;32m    703\u001b[0m \u001b[38;5;28;01mreturn\u001b[39;00m wrap_df(pydf)\n",
      "\u001b[0;31mComputeError\u001b[0m: could not parse `7,5` as dtype `i64` at column 'PP3F_TOT' (column number 46)\n\nThe current offset in the file is 46440 bytes.\n\nYou might want to try:\n- increasing `infer_schema_length` (e.g. `infer_schema_length=10000`),\n- specifying correct dtype with the `schema_overrides` argument\n- setting `ignore_errors` to `True`,\n- adding `7,5` to the `null_values` list.\n\nOriginal error: ```remaining bytes non-empty```"
     ]
    }
   ],
   "source": [
    "base_path = 'datos/individual'\n",
    "individual_file_list = sorted(os.listdir(base_path))\n",
    "individual_file_paths = [os.path.join(base_path, file)\n",
    "                         for file in individual_file_list]\n",
    "\n",
    "schema_overrides = {'PP3E_TOT': pl.Float32, 'PP3F_TOT':pl.Float32}\n",
    "\n",
    "individual = process_txt_files(individual_file_paths, schema_overrides)\n",
    "individual"
   ]
  },
  {
   "cell_type": "code",
   "execution_count": null,
   "id": "81d8a7bb",
   "metadata": {},
   "outputs": [
    {
     "name": "stdout",
     "output_type": "stream",
     "text": [
      "Processing file: datos/hogar/16-2T-hogar.txt\n",
      "Processing file: datos/hogar/16-3T-hogar.txt\n",
      "Processing file: datos/hogar/16-4T-hogar.txt\n",
      "Processing file: datos/hogar/17-1T-hogar.txt\n",
      "Processing file: datos/hogar/17-2T-hogar.txt\n",
      "Processing file: datos/hogar/17-3T-hogar.txt\n",
      "Processing file: datos/hogar/17-4T-hogar.txt\n",
      "Processing file: datos/hogar/18-1T-hogar.txt\n",
      "Processing file: datos/hogar/18-2T-hogar.txt\n",
      "Processing file: datos/hogar/18-3T-hogar.txt\n",
      "Processing file: datos/hogar/18-4T-hogar.txt\n",
      "Processing file: datos/hogar/19-1T-hogar.txt\n",
      "Processing file: datos/hogar/19-2T-hogar.txt\n",
      "Processing file: datos/hogar/19-3T-hogar.txt\n",
      "Processing file: datos/hogar/19-4T-hogar.txt\n",
      "Processing file: datos/hogar/20-1T-hogar.txt\n",
      "Processing file: datos/hogar/20-2T-hogar.txt\n",
      "Processing file: datos/hogar/20-3T-hogar.txt\n",
      "Processing file: datos/hogar/20-4T-hogar.txt\n",
      "Processing file: datos/hogar/21-1T-hogar.txt\n",
      "Processing file: datos/hogar/21-2T-hogar.txt\n",
      "Processing file: datos/hogar/21-3T-hogar.txt\n",
      "Processing file: datos/hogar/21-4T-hogar.txt\n",
      "Processing file: datos/hogar/22-1T-hogar.txt\n",
      "Processing file: datos/hogar/22-2T-hogar.txt\n",
      "Processing file: datos/hogar/22-3T-hogar.txt\n",
      "Processing file: datos/hogar/22-4T-hogar.txt\n",
      "Processing file: datos/hogar/23-1T-hogar.txt\n",
      "Processing file: datos/hogar/23-2T-hogar.txt\n",
      "Processing file: datos/hogar/23-3T-hogar.txt\n",
      "Processing file: datos/hogar/23-4T-hogar.txt\n",
      "Processing file: datos/hogar/24-1T-hogar.txt\n"
     ]
    },
    {
     "data": {
      "text/html": [
       "<div><style>\n",
       ".dataframe > thead > tr,\n",
       ".dataframe > tbody > tr {\n",
       "  text-align: right;\n",
       "  white-space: pre-wrap;\n",
       "}\n",
       "</style>\n",
       "<small>shape: (553_388, 88)</small><table border=\"1\" class=\"dataframe\"><thead><tr><th>CODUSU</th><th>ANO4</th><th>TRIMESTRE</th><th>NRO_HOGAR</th><th>REALIZADA</th><th>REGION</th><th>MAS_500</th><th>AGLOMERADO</th><th>PONDERA</th><th>IV1</th><th>IV1_ESP</th><th>IV2</th><th>IV3</th><th>IV3_ESP</th><th>IV4</th><th>IV5</th><th>IV6</th><th>IV7</th><th>IV7_ESP</th><th>IV8</th><th>IV9</th><th>IV10</th><th>IV11</th><th>IV12_1</th><th>IV12_2</th><th>IV12_3</th><th>II1</th><th>II2</th><th>II3</th><th>II3_1</th><th>II4_1</th><th>II4_2</th><th>II4_3</th><th>II5</th><th>II5_1</th><th>II6</th><th>II6_1</th><th>&hellip;</th><th>V8</th><th>V9</th><th>V10</th><th>V11</th><th>V12</th><th>V13</th><th>V14</th><th>V15</th><th>V16</th><th>V17</th><th>V18</th><th>V19_A</th><th>V19_B</th><th>IX_TOT</th><th>IX_MEN10</th><th>IX_MAYEQ10</th><th>ITF</th><th>DECIFR</th><th>IDECIFR</th><th>RDECIFR</th><th>GDECIFR</th><th>PDECIFR</th><th>ADECIFR</th><th>IPCF</th><th>DECCFR</th><th>IDECCFR</th><th>RDECCFR</th><th>GDECCFR</th><th>PDECCFR</th><th>ADECCFR</th><th>PONDIH</th><th>VII1_1</th><th>VII1_2</th><th>VII2_1</th><th>VII2_2</th><th>VII2_3</th><th>VII2_4</th></tr><tr><td>str</td><td>i32</td><td>i32</td><td>i32</td><td>i32</td><td>i32</td><td>str</td><td>i32</td><td>i32</td><td>i32</td><td>str</td><td>i32</td><td>i32</td><td>str</td><td>i32</td><td>i32</td><td>i32</td><td>i32</td><td>str</td><td>i32</td><td>i32</td><td>i32</td><td>i32</td><td>i32</td><td>i32</td><td>i32</td><td>i32</td><td>i32</td><td>i32</td><td>i32</td><td>i32</td><td>i32</td><td>i32</td><td>i32</td><td>i32</td><td>i32</td><td>i32</td><td>&hellip;</td><td>i32</td><td>i32</td><td>i32</td><td>i32</td><td>i32</td><td>i32</td><td>i32</td><td>i32</td><td>i32</td><td>i32</td><td>i32</td><td>i32</td><td>i32</td><td>i32</td><td>i32</td><td>i32</td><td>i32</td><td>i32</td><td>i32</td><td>i32</td><td>str</td><td>str</td><td>i32</td><td>str</td><td>i32</td><td>i32</td><td>i32</td><td>str</td><td>str</td><td>i32</td><td>i32</td><td>i32</td><td>i32</td><td>i32</td><td>i32</td><td>i32</td><td>i32</td></tr></thead><tbody><tr><td>&quot;TQRMNOQUXHKOKMCDEGKDB00475140&quot;</td><td>2016</td><td>2</td><td>1</td><td>1</td><td>43</td><td>&quot;N&quot;</td><td>14</td><td>77</td><td>1</td><td>null</td><td>3</td><td>1</td><td>null</td><td>4</td><td>1</td><td>1</td><td>1</td><td>null</td><td>1</td><td>1</td><td>1</td><td>1</td><td>2</td><td>2</td><td>2</td><td>3</td><td>2</td><td>1</td><td>1</td><td>1</td><td>1</td><td>1</td><td>2</td><td>0</td><td>2</td><td>0</td><td>&hellip;</td><td>2</td><td>2</td><td>2</td><td>2</td><td>2</td><td>2</td><td>2</td><td>2</td><td>1</td><td>2</td><td>2</td><td>2</td><td>2</td><td>4</td><td>0</td><td>4</td><td>0</td><td>12</td><td>12</td><td>12</td><td>&quot;&nbsp;&nbsp;&quot;</td><td>&quot;12&quot;</td><td>12</td><td>&quot;0&quot;</td><td>12</td><td>12</td><td>12</td><td>&quot;&nbsp;&nbsp;&quot;</td><td>&quot;12&quot;</td><td>12</td><td>0</td><td>2</td><td>0</td><td>98</td><td>0</td><td>0</td><td>0</td></tr><tr><td>&quot;TQRMNOQQYHMMKTCDEGKDB00475009&quot;</td><td>2016</td><td>2</td><td>1</td><td>1</td><td>43</td><td>&quot;N&quot;</td><td>14</td><td>66</td><td>1</td><td>null</td><td>3</td><td>1</td><td>null</td><td>4</td><td>1</td><td>1</td><td>1</td><td>null</td><td>1</td><td>1</td><td>1</td><td>1</td><td>2</td><td>2</td><td>2</td><td>3</td><td>2</td><td>2</td><td>0</td><td>1</td><td>2</td><td>1</td><td>2</td><td>0</td><td>2</td><td>0</td><td>&hellip;</td><td>2</td><td>2</td><td>2</td><td>2</td><td>2</td><td>1</td><td>2</td><td>2</td><td>1</td><td>2</td><td>2</td><td>2</td><td>2</td><td>3</td><td>0</td><td>3</td><td>19000</td><td>7</td><td>7</td><td>7</td><td>&quot;&nbsp;&nbsp;&quot;</td><td>&quot;07&quot;</td><td>8</td><td>&quot;6333,33&quot;</td><td>6</td><td>7</td><td>6</td><td>&quot;&nbsp;&nbsp;&quot;</td><td>&quot;07&quot;</td><td>7</td><td>79</td><td>2</td><td>0</td><td>98</td><td>0</td><td>0</td><td>0</td></tr><tr><td>&quot;TQRMNORVUHJMKSCDEGKDB00475326&quot;</td><td>2016</td><td>2</td><td>1</td><td>1</td><td>43</td><td>&quot;N&quot;</td><td>14</td><td>59</td><td>1</td><td>null</td><td>2</td><td>1</td><td>null</td><td>4</td><td>1</td><td>1</td><td>1</td><td>null</td><td>1</td><td>1</td><td>1</td><td>1</td><td>2</td><td>2</td><td>2</td><td>2</td><td>1</td><td>2</td><td>0</td><td>1</td><td>1</td><td>2</td><td>2</td><td>0</td><td>2</td><td>0</td><td>&hellip;</td><td>2</td><td>2</td><td>2</td><td>2</td><td>1</td><td>2</td><td>2</td><td>2</td><td>2</td><td>2</td><td>2</td><td>2</td><td>2</td><td>2</td><td>0</td><td>2</td><td>13800</td><td>5</td><td>6</td><td>6</td><td>&quot;&nbsp;&nbsp;&quot;</td><td>&quot;06&quot;</td><td>6</td><td>&quot;6900&quot;</td><td>7</td><td>7</td><td>7</td><td>&quot;&nbsp;&nbsp;&quot;</td><td>&quot;07&quot;</td><td>8</td><td>66</td><td>1</td><td>0</td><td>2</td><td>0</td><td>0</td><td>0</td></tr><tr><td>&quot;TQRMNOPQUHMMKTCDEGKDB00475005&quot;</td><td>2016</td><td>2</td><td>1</td><td>1</td><td>43</td><td>&quot;N&quot;</td><td>14</td><td>66</td><td>1</td><td>null</td><td>4</td><td>1</td><td>null</td><td>4</td><td>1</td><td>1</td><td>1</td><td>null</td><td>1</td><td>1</td><td>1</td><td>1</td><td>2</td><td>2</td><td>2</td><td>4</td><td>1</td><td>2</td><td>0</td><td>1</td><td>1</td><td>1</td><td>2</td><td>0</td><td>2</td><td>0</td><td>&hellip;</td><td>2</td><td>2</td><td>2</td><td>2</td><td>2</td><td>2</td><td>2</td><td>2</td><td>1</td><td>2</td><td>2</td><td>2</td><td>2</td><td>2</td><td>0</td><td>2</td><td>25000</td><td>8</td><td>9</td><td>9</td><td>&quot;&nbsp;&nbsp;&quot;</td><td>&quot;09&quot;</td><td>9</td><td>&quot;12500&quot;</td><td>9</td><td>9</td><td>9</td><td>&quot;&nbsp;&nbsp;&quot;</td><td>&quot;09&quot;</td><td>10</td><td>81</td><td>2</td><td>0</td><td>98</td><td>0</td><td>0</td><td>0</td></tr><tr><td>&quot;TQRMNORVRHJMKSCDEGKDB00475324&quot;</td><td>2016</td><td>2</td><td>1</td><td>1</td><td>43</td><td>&quot;N&quot;</td><td>14</td><td>59</td><td>1</td><td>null</td><td>3</td><td>1</td><td>null</td><td>4</td><td>1</td><td>1</td><td>1</td><td>null</td><td>1</td><td>1</td><td>1</td><td>1</td><td>2</td><td>2</td><td>2</td><td>3</td><td>1</td><td>2</td><td>0</td><td>1</td><td>1</td><td>1</td><td>2</td><td>0</td><td>1</td><td>1</td><td>&hellip;</td><td>2</td><td>2</td><td>2</td><td>2</td><td>2</td><td>2</td><td>2</td><td>2</td><td>2</td><td>2</td><td>2</td><td>2</td><td>2</td><td>2</td><td>0</td><td>2</td><td>6000</td><td>2</td><td>2</td><td>2</td><td>&quot;&nbsp;&nbsp;&quot;</td><td>&quot;02&quot;</td><td>2</td><td>&quot;3000&quot;</td><td>3</td><td>3</td><td>3</td><td>&quot;&nbsp;&nbsp;&quot;</td><td>&quot;03&quot;</td><td>4</td><td>65</td><td>2</td><td>0</td><td>1</td><td>0</td><td>0</td><td>0</td></tr><tr><td>&hellip;</td><td>&hellip;</td><td>&hellip;</td><td>&hellip;</td><td>&hellip;</td><td>&hellip;</td><td>&hellip;</td><td>&hellip;</td><td>&hellip;</td><td>&hellip;</td><td>&hellip;</td><td>&hellip;</td><td>&hellip;</td><td>&hellip;</td><td>&hellip;</td><td>&hellip;</td><td>&hellip;</td><td>&hellip;</td><td>&hellip;</td><td>&hellip;</td><td>&hellip;</td><td>&hellip;</td><td>&hellip;</td><td>&hellip;</td><td>&hellip;</td><td>&hellip;</td><td>&hellip;</td><td>&hellip;</td><td>&hellip;</td><td>&hellip;</td><td>&hellip;</td><td>&hellip;</td><td>&hellip;</td><td>&hellip;</td><td>&hellip;</td><td>&hellip;</td><td>&hellip;</td><td>&hellip;</td><td>&hellip;</td><td>&hellip;</td><td>&hellip;</td><td>&hellip;</td><td>&hellip;</td><td>&hellip;</td><td>&hellip;</td><td>&hellip;</td><td>&hellip;</td><td>&hellip;</td><td>&hellip;</td><td>&hellip;</td><td>&hellip;</td><td>&hellip;</td><td>&hellip;</td><td>&hellip;</td><td>&hellip;</td><td>&hellip;</td><td>&hellip;</td><td>&hellip;</td><td>&hellip;</td><td>&hellip;</td><td>&hellip;</td><td>&hellip;</td><td>&hellip;</td><td>&hellip;</td><td>&hellip;</td><td>&hellip;</td><td>&hellip;</td><td>&hellip;</td><td>&hellip;</td><td>&hellip;</td><td>&hellip;</td><td>&hellip;</td><td>&hellip;</td><td>&hellip;</td><td>&hellip;</td></tr><tr><td>&quot;TQRMNOPXXHLKKUCDEFNFF00852324&quot;</td><td>2024</td><td>1</td><td>1</td><td>1</td><td>41</td><td>&quot;N&quot;</td><td>7</td><td>336</td><td>2</td><td>&quot;&quot;</td><td>3</td><td>1</td><td>&quot;&quot;</td><td>9</td><td>1</td><td>1</td><td>1</td><td>&quot;&quot;</td><td>1</td><td>1</td><td>1</td><td>1</td><td>2</td><td>2</td><td>2</td><td>3</td><td>2</td><td>2</td><td>0</td><td>1</td><td>1</td><td>2</td><td>2</td><td>0</td><td>2</td><td>0</td><td>&hellip;</td><td>2</td><td>2</td><td>2</td><td>2</td><td>2</td><td>2</td><td>2</td><td>2</td><td>1</td><td>2</td><td>2</td><td>2</td><td>2</td><td>3</td><td>0</td><td>3</td><td>0</td><td>12</td><td>12</td><td>12</td><td>&quot;&quot;</td><td>&quot;12&quot;</td><td>12</td><td>&quot;0&quot;</td><td>12</td><td>12</td><td>12</td><td>&quot;&quot;</td><td>&quot;12&quot;</td><td>12</td><td>0</td><td>96</td><td>0</td><td>2</td><td>3</td><td>0</td><td>0</td></tr><tr><td>&quot;TQRMNOPQTHKMLMCDEHMHF00861771&quot;</td><td>2024</td><td>1</td><td>1</td><td>1</td><td>42</td><td>&quot;N&quot;</td><td>26</td><td>141</td><td>1</td><td>&quot;&quot;</td><td>3</td><td>1</td><td>&quot;&quot;</td><td>2</td><td>1</td><td>1</td><td>1</td><td>&quot;&quot;</td><td>1</td><td>1</td><td>1</td><td>1</td><td>2</td><td>2</td><td>2</td><td>3</td><td>2</td><td>2</td><td>0</td><td>1</td><td>1</td><td>1</td><td>2</td><td>0</td><td>2</td><td>0</td><td>&hellip;</td><td>2</td><td>2</td><td>2</td><td>2</td><td>2</td><td>2</td><td>2</td><td>2</td><td>2</td><td>2</td><td>2</td><td>2</td><td>2</td><td>2</td><td>0</td><td>2</td><td>213569</td><td>2</td><td>2</td><td>2</td><td>&quot;&quot;</td><td>&quot;2&quot;</td><td>2</td><td>&quot;106784,5&quot;</td><td>3</td><td>3</td><td>3</td><td>&quot;&quot;</td><td>&quot;3&quot;</td><td>2</td><td>156</td><td>97</td><td>0</td><td>1</td><td>2</td><td>0</td><td>0</td></tr><tr><td>&quot;TQRMNOSYXHMMLNCDEFNFF00798999&quot;</td><td>2024</td><td>1</td><td>1</td><td>1</td><td>41</td><td>&quot;N&quot;</td><td>7</td><td>305</td><td>1</td><td>&quot;&quot;</td><td>4</td><td>2</td><td>&quot;&quot;</td><td>4</td><td>1</td><td>1</td><td>1</td><td>&quot;&quot;</td><td>1</td><td>1</td><td>1</td><td>3</td><td>2</td><td>2</td><td>2</td><td>4</td><td>3</td><td>2</td><td>0</td><td>1</td><td>2</td><td>2</td><td>2</td><td>0</td><td>2</td><td>0</td><td>&hellip;</td><td>2</td><td>2</td><td>2</td><td>1</td><td>2</td><td>2</td><td>2</td><td>2</td><td>2</td><td>2</td><td>2</td><td>2</td><td>2</td><td>6</td><td>1</td><td>5</td><td>253700</td><td>2</td><td>3</td><td>4</td><td>&quot;&quot;</td><td>&quot;3&quot;</td><td>3</td><td>&quot;42283,33&quot;</td><td>1</td><td>1</td><td>1</td><td>&quot;&quot;</td><td>&quot;1&quot;</td><td>1</td><td>353</td><td>2</td><td>0</td><td>1</td><td>3</td><td>4</td><td>0</td></tr><tr><td>&quot;TQRMNOPTSHLOLQCDEFNFF00852331&quot;</td><td>2024</td><td>1</td><td>1</td><td>1</td><td>41</td><td>&quot;N&quot;</td><td>7</td><td>331</td><td>1</td><td>&quot;&quot;</td><td>4</td><td>1</td><td>&quot;&quot;</td><td>4</td><td>1</td><td>1</td><td>1</td><td>&quot;&quot;</td><td>1</td><td>1</td><td>1</td><td>2</td><td>2</td><td>2</td><td>2</td><td>4</td><td>1</td><td>2</td><td>0</td><td>1</td><td>2</td><td>2</td><td>2</td><td>0</td><td>2</td><td>0</td><td>&hellip;</td><td>2</td><td>2</td><td>2</td><td>2</td><td>2</td><td>1</td><td>2</td><td>2</td><td>1</td><td>2</td><td>2</td><td>2</td><td>2</td><td>1</td><td>0</td><td>1</td><td>213500</td><td>2</td><td>2</td><td>3</td><td>&quot;&quot;</td><td>&quot;2&quot;</td><td>3</td><td>&quot;213500&quot;</td><td>6</td><td>6</td><td>8</td><td>&quot;&quot;</td><td>&quot;6&quot;</td><td>7</td><td>420</td><td>97</td><td>0</td><td>98</td><td>0</td><td>0</td><td>0</td></tr><tr><td>&quot;TQRMNOVRSHKOKMCDEFOCD00861772&quot;</td><td>2024</td><td>1</td><td>1</td><td>1</td><td>41</td><td>&quot;N&quot;</td><td>8</td><td>231</td><td>1</td><td>&quot;&quot;</td><td>2</td><td>2</td><td>&quot;&quot;</td><td>4</td><td>2</td><td>2</td><td>1</td><td>&quot;&quot;</td><td>1</td><td>1</td><td>2</td><td>2</td><td>2</td><td>1</td><td>2</td><td>2</td><td>2</td><td>2</td><td>0</td><td>2</td><td>2</td><td>2</td><td>0</td><td>0</td><td>0</td><td>0</td><td>&hellip;</td><td>2</td><td>2</td><td>2</td><td>2</td><td>2</td><td>2</td><td>2</td><td>2</td><td>2</td><td>2</td><td>2</td><td>2</td><td>2</td><td>2</td><td>0</td><td>2</td><td>204000</td><td>2</td><td>2</td><td>3</td><td>&quot;&quot;</td><td>&quot;2&quot;</td><td>3</td><td>&quot;102000&quot;</td><td>3</td><td>3</td><td>4</td><td>&quot;&quot;</td><td>&quot;3&quot;</td><td>5</td><td>288</td><td>2</td><td>0</td><td>98</td><td>0</td><td>0</td><td>0</td></tr></tbody></table></div>"
      ],
      "text/plain": [
       "shape: (553_388, 88)\n",
       "┌───────────────────────────┬──────┬───────────┬───────────┬───┬────────┬────────┬────────┬────────┐\n",
       "│ CODUSU                    ┆ ANO4 ┆ TRIMESTRE ┆ NRO_HOGAR ┆ … ┆ VII2_1 ┆ VII2_2 ┆ VII2_3 ┆ VII2_4 │\n",
       "│ ---                       ┆ ---  ┆ ---       ┆ ---       ┆   ┆ ---    ┆ ---    ┆ ---    ┆ ---    │\n",
       "│ str                       ┆ i32  ┆ i32       ┆ i32       ┆   ┆ i32    ┆ i32    ┆ i32    ┆ i32    │\n",
       "╞═══════════════════════════╪══════╪═══════════╪═══════════╪═══╪════════╪════════╪════════╪════════╡\n",
       "│ TQRMNOQUXHKOKMCDEGKDB0047 ┆ 2016 ┆ 2         ┆ 1         ┆ … ┆ 98     ┆ 0      ┆ 0      ┆ 0      │\n",
       "│ 5140                      ┆      ┆           ┆           ┆   ┆        ┆        ┆        ┆        │\n",
       "│ TQRMNOQQYHMMKTCDEGKDB0047 ┆ 2016 ┆ 2         ┆ 1         ┆ … ┆ 98     ┆ 0      ┆ 0      ┆ 0      │\n",
       "│ 5009                      ┆      ┆           ┆           ┆   ┆        ┆        ┆        ┆        │\n",
       "│ TQRMNORVUHJMKSCDEGKDB0047 ┆ 2016 ┆ 2         ┆ 1         ┆ … ┆ 2      ┆ 0      ┆ 0      ┆ 0      │\n",
       "│ 5326                      ┆      ┆           ┆           ┆   ┆        ┆        ┆        ┆        │\n",
       "│ TQRMNOPQUHMMKTCDEGKDB0047 ┆ 2016 ┆ 2         ┆ 1         ┆ … ┆ 98     ┆ 0      ┆ 0      ┆ 0      │\n",
       "│ 5005                      ┆      ┆           ┆           ┆   ┆        ┆        ┆        ┆        │\n",
       "│ TQRMNORVRHJMKSCDEGKDB0047 ┆ 2016 ┆ 2         ┆ 1         ┆ … ┆ 1      ┆ 0      ┆ 0      ┆ 0      │\n",
       "│ 5324                      ┆      ┆           ┆           ┆   ┆        ┆        ┆        ┆        │\n",
       "│ …                         ┆ …    ┆ …         ┆ …         ┆ … ┆ …      ┆ …      ┆ …      ┆ …      │\n",
       "│ TQRMNOPXXHLKKUCDEFNFF0085 ┆ 2024 ┆ 1         ┆ 1         ┆ … ┆ 2      ┆ 3      ┆ 0      ┆ 0      │\n",
       "│ 2324                      ┆      ┆           ┆           ┆   ┆        ┆        ┆        ┆        │\n",
       "│ TQRMNOPQTHKMLMCDEHMHF0086 ┆ 2024 ┆ 1         ┆ 1         ┆ … ┆ 1      ┆ 2      ┆ 0      ┆ 0      │\n",
       "│ 1771                      ┆      ┆           ┆           ┆   ┆        ┆        ┆        ┆        │\n",
       "│ TQRMNOSYXHMMLNCDEFNFF0079 ┆ 2024 ┆ 1         ┆ 1         ┆ … ┆ 1      ┆ 3      ┆ 4      ┆ 0      │\n",
       "│ 8999                      ┆      ┆           ┆           ┆   ┆        ┆        ┆        ┆        │\n",
       "│ TQRMNOPTSHLOLQCDEFNFF0085 ┆ 2024 ┆ 1         ┆ 1         ┆ … ┆ 98     ┆ 0      ┆ 0      ┆ 0      │\n",
       "│ 2331                      ┆      ┆           ┆           ┆   ┆        ┆        ┆        ┆        │\n",
       "│ TQRMNOVRSHKOKMCDEFOCD0086 ┆ 2024 ┆ 1         ┆ 1         ┆ … ┆ 98     ┆ 0      ┆ 0      ┆ 0      │\n",
       "│ 1772                      ┆      ┆           ┆           ┆   ┆        ┆        ┆        ┆        │\n",
       "└───────────────────────────┴──────┴───────────┴───────────┴───┴────────┴────────┴────────┴────────┘"
      ]
     },
     "execution_count": 15,
     "metadata": {},
     "output_type": "execute_result"
    }
   ],
   "source": [
    "\n",
    "\n",
    "for i in enumerate(hogar_file_paths):\n",
    "    index = i[0]\n",
    "    path_str = i[1]\n",
    "\n",
    "    current_df = read_and_format(path_str)\n",
    "\n",
    "    if index == 0:\n",
    "        hogar = current_df\n",
    "    else:\n",
    "        # Clean invalid values and align column schemas\n",
    "        for col_name, col_type in hogar.schema.items():\n",
    "            if col_name in current_df.schema:\n",
    "                # If the column is expected to be Int32, clean it\n",
    "                if col_type == pl.Int32:\n",
    "                    # Ensure the column is string\n",
    "                    current_df = current_df.with_columns(\n",
    "                        pl.when(pl.col(col_name).cast(pl.Utf8).str\n",
    "                                .strip_chars() == \"\")\n",
    "                        .then(None)\n",
    "                        .otherwise(pl.col(col_name))\n",
    "                        .alias(col_name)\n",
    "                    )\n",
    "                # Cast the column to the expected type\n",
    "                current_df = current_df.with_columns(pl.col(col_name)\n",
    "                                                     .cast(col_type))\n",
    "        hogar = pl.concat([hogar, current_df])\n",
    "\n",
    "        # Align schemas\n",
    "        for col in hogar.columns:\n",
    "            if col not in current_df.columns:\n",
    "                current_df = current_df.with_columns(pl.lit(None).alias(col))\n",
    "        \n",
    "        for col in current_df.columns:\n",
    "            if col not in hogar.columns:\n",
    "                current_df = current_df.drop(col)\n",
    "\n",
    "    print(f\"Processing file: {path_str}\")\n",
    "\n",
    "hogar"
   ]
  },
  {
   "cell_type": "code",
   "execution_count": 16,
   "id": "cc8e1641",
   "metadata": {},
   "outputs": [
    {
     "name": "stdout",
     "output_type": "stream",
     "text": [
      "Processing file: datos/individual/16-2T-individual.txt\n",
      "Processing file: datos/individual/16-3T-individual.txt\n",
      "Processing file: datos/individual/16-4T-individual.txt\n"
     ]
    },
    {
     "ename": "ComputeError",
     "evalue": "could not parse `12666,67` as dtype `i64` at column 'IPCF' (column number 170)\n\nThe current offset in the file is 53451 bytes.\n\nYou might want to try:\n- increasing `infer_schema_length` (e.g. `infer_schema_length=10000`),\n- specifying correct dtype with the `schema_overrides` argument\n- setting `ignore_errors` to `True`,\n- adding `12666,67` to the `null_values` list.\n\nOriginal error: ```remaining bytes non-empty```",
     "output_type": "error",
     "traceback": [
      "\u001b[0;31m---------------------------------------------------------------------------\u001b[0m",
      "\u001b[0;31mComputeError\u001b[0m                              Traceback (most recent call last)",
      "Cell \u001b[0;32mIn[16], line 10\u001b[0m\n\u001b[1;32m      7\u001b[0m index \u001b[38;5;241m=\u001b[39m i[\u001b[38;5;241m0\u001b[39m]\n\u001b[1;32m      8\u001b[0m path_str \u001b[38;5;241m=\u001b[39m i[\u001b[38;5;241m1\u001b[39m]\n\u001b[0;32m---> 10\u001b[0m current_df \u001b[38;5;241m=\u001b[39m \u001b[43mread_and_format\u001b[49m\u001b[43m(\u001b[49m\u001b[43mpath_str\u001b[49m\u001b[43m)\u001b[49m\n\u001b[1;32m     12\u001b[0m \u001b[38;5;28;01mif\u001b[39;00m index \u001b[38;5;241m==\u001b[39m \u001b[38;5;241m0\u001b[39m:\n\u001b[1;32m     13\u001b[0m     individual \u001b[38;5;241m=\u001b[39m current_df\n",
      "Cell \u001b[0;32mIn[14], line 2\u001b[0m, in \u001b[0;36mread_and_format\u001b[0;34m(path)\u001b[0m\n\u001b[1;32m      1\u001b[0m \u001b[38;5;28;01mdef\u001b[39;00m \u001b[38;5;21mread_and_format\u001b[39m(path):\n\u001b[0;32m----> 2\u001b[0m     df \u001b[38;5;241m=\u001b[39m \u001b[43mpl\u001b[49m\u001b[38;5;241;43m.\u001b[39;49m\u001b[43mread_csv\u001b[49m\u001b[43m(\u001b[49m\u001b[43mpath\u001b[49m\u001b[43m,\u001b[49m\n\u001b[1;32m      3\u001b[0m \u001b[43m                     \u001b[49m\u001b[43mseparator\u001b[49m\u001b[38;5;241;43m=\u001b[39;49m\u001b[38;5;124;43m'\u001b[39;49m\u001b[38;5;124;43m;\u001b[39;49m\u001b[38;5;124;43m'\u001b[39;49m\u001b[43m,\u001b[49m\n\u001b[1;32m      4\u001b[0m \u001b[43m                     \u001b[49m\u001b[43mnull_values\u001b[49m\u001b[38;5;241;43m=\u001b[39;49m\u001b[43m[\u001b[49m\u001b[38;5;124;43m\"\u001b[39;49m\u001b[38;5;124;43mNA\u001b[39;49m\u001b[38;5;124;43m\"\u001b[39;49m\u001b[43m]\u001b[49m\u001b[43m)\u001b[49m\n\u001b[1;32m      5\u001b[0m     \u001b[38;5;66;03m# Cast all i64 columns to i32\u001b[39;00m\n\u001b[1;32m      6\u001b[0m     df \u001b[38;5;241m=\u001b[39m df\u001b[38;5;241m.\u001b[39mwith_columns([\n\u001b[1;32m      7\u001b[0m         df[col]\u001b[38;5;241m.\u001b[39mcast(pl\u001b[38;5;241m.\u001b[39mInt32) \u001b[38;5;28;01mfor\u001b[39;00m col \u001b[38;5;129;01min\u001b[39;00m df\u001b[38;5;241m.\u001b[39mcolumns\n\u001b[1;32m      8\u001b[0m         \u001b[38;5;28;01mif\u001b[39;00m df[col]\u001b[38;5;241m.\u001b[39mdtype \u001b[38;5;241m==\u001b[39m pl\u001b[38;5;241m.\u001b[39mInt64\n\u001b[1;32m      9\u001b[0m ])\n",
      "File \u001b[0;32m~/miniconda3/envs/eph/lib/python3.13/site-packages/polars/_utils/deprecation.py:92\u001b[0m, in \u001b[0;36mdeprecate_renamed_parameter.<locals>.decorate.<locals>.wrapper\u001b[0;34m(*args, **kwargs)\u001b[0m\n\u001b[1;32m     87\u001b[0m \u001b[38;5;129m@wraps\u001b[39m(function)\n\u001b[1;32m     88\u001b[0m \u001b[38;5;28;01mdef\u001b[39;00m \u001b[38;5;21mwrapper\u001b[39m(\u001b[38;5;241m*\u001b[39margs: P\u001b[38;5;241m.\u001b[39margs, \u001b[38;5;241m*\u001b[39m\u001b[38;5;241m*\u001b[39mkwargs: P\u001b[38;5;241m.\u001b[39mkwargs) \u001b[38;5;241m-\u001b[39m\u001b[38;5;241m>\u001b[39m T:\n\u001b[1;32m     89\u001b[0m     _rename_keyword_argument(\n\u001b[1;32m     90\u001b[0m         old_name, new_name, kwargs, function\u001b[38;5;241m.\u001b[39m\u001b[38;5;18m__qualname__\u001b[39m, version\n\u001b[1;32m     91\u001b[0m     )\n\u001b[0;32m---> 92\u001b[0m     \u001b[38;5;28;01mreturn\u001b[39;00m \u001b[43mfunction\u001b[49m\u001b[43m(\u001b[49m\u001b[38;5;241;43m*\u001b[39;49m\u001b[43margs\u001b[49m\u001b[43m,\u001b[49m\u001b[43m \u001b[49m\u001b[38;5;241;43m*\u001b[39;49m\u001b[38;5;241;43m*\u001b[39;49m\u001b[43mkwargs\u001b[49m\u001b[43m)\u001b[49m\n",
      "File \u001b[0;32m~/miniconda3/envs/eph/lib/python3.13/site-packages/polars/_utils/deprecation.py:92\u001b[0m, in \u001b[0;36mdeprecate_renamed_parameter.<locals>.decorate.<locals>.wrapper\u001b[0;34m(*args, **kwargs)\u001b[0m\n\u001b[1;32m     87\u001b[0m \u001b[38;5;129m@wraps\u001b[39m(function)\n\u001b[1;32m     88\u001b[0m \u001b[38;5;28;01mdef\u001b[39;00m \u001b[38;5;21mwrapper\u001b[39m(\u001b[38;5;241m*\u001b[39margs: P\u001b[38;5;241m.\u001b[39margs, \u001b[38;5;241m*\u001b[39m\u001b[38;5;241m*\u001b[39mkwargs: P\u001b[38;5;241m.\u001b[39mkwargs) \u001b[38;5;241m-\u001b[39m\u001b[38;5;241m>\u001b[39m T:\n\u001b[1;32m     89\u001b[0m     _rename_keyword_argument(\n\u001b[1;32m     90\u001b[0m         old_name, new_name, kwargs, function\u001b[38;5;241m.\u001b[39m\u001b[38;5;18m__qualname__\u001b[39m, version\n\u001b[1;32m     91\u001b[0m     )\n\u001b[0;32m---> 92\u001b[0m     \u001b[38;5;28;01mreturn\u001b[39;00m \u001b[43mfunction\u001b[49m\u001b[43m(\u001b[49m\u001b[38;5;241;43m*\u001b[39;49m\u001b[43margs\u001b[49m\u001b[43m,\u001b[49m\u001b[43m \u001b[49m\u001b[38;5;241;43m*\u001b[39;49m\u001b[38;5;241;43m*\u001b[39;49m\u001b[43mkwargs\u001b[49m\u001b[43m)\u001b[49m\n",
      "File \u001b[0;32m~/miniconda3/envs/eph/lib/python3.13/site-packages/polars/_utils/deprecation.py:92\u001b[0m, in \u001b[0;36mdeprecate_renamed_parameter.<locals>.decorate.<locals>.wrapper\u001b[0;34m(*args, **kwargs)\u001b[0m\n\u001b[1;32m     87\u001b[0m \u001b[38;5;129m@wraps\u001b[39m(function)\n\u001b[1;32m     88\u001b[0m \u001b[38;5;28;01mdef\u001b[39;00m \u001b[38;5;21mwrapper\u001b[39m(\u001b[38;5;241m*\u001b[39margs: P\u001b[38;5;241m.\u001b[39margs, \u001b[38;5;241m*\u001b[39m\u001b[38;5;241m*\u001b[39mkwargs: P\u001b[38;5;241m.\u001b[39mkwargs) \u001b[38;5;241m-\u001b[39m\u001b[38;5;241m>\u001b[39m T:\n\u001b[1;32m     89\u001b[0m     _rename_keyword_argument(\n\u001b[1;32m     90\u001b[0m         old_name, new_name, kwargs, function\u001b[38;5;241m.\u001b[39m\u001b[38;5;18m__qualname__\u001b[39m, version\n\u001b[1;32m     91\u001b[0m     )\n\u001b[0;32m---> 92\u001b[0m     \u001b[38;5;28;01mreturn\u001b[39;00m \u001b[43mfunction\u001b[49m\u001b[43m(\u001b[49m\u001b[38;5;241;43m*\u001b[39;49m\u001b[43margs\u001b[49m\u001b[43m,\u001b[49m\u001b[43m \u001b[49m\u001b[38;5;241;43m*\u001b[39;49m\u001b[38;5;241;43m*\u001b[39;49m\u001b[43mkwargs\u001b[49m\u001b[43m)\u001b[49m\n",
      "File \u001b[0;32m~/miniconda3/envs/eph/lib/python3.13/site-packages/polars/io/csv/functions.py:527\u001b[0m, in \u001b[0;36mread_csv\u001b[0;34m(source, has_header, columns, new_columns, separator, comment_prefix, quote_char, skip_rows, schema, schema_overrides, null_values, missing_utf8_is_empty_string, ignore_errors, try_parse_dates, n_threads, infer_schema, infer_schema_length, batch_size, n_rows, encoding, low_memory, rechunk, use_pyarrow, storage_options, skip_rows_after_header, row_index_name, row_index_offset, sample_size, eol_char, raise_if_empty, truncate_ragged_lines, decimal_comma, glob)\u001b[0m\n\u001b[1;32m    519\u001b[0m \u001b[38;5;28;01melse\u001b[39;00m:\n\u001b[1;32m    520\u001b[0m     \u001b[38;5;28;01mwith\u001b[39;00m prepare_file_arg(\n\u001b[1;32m    521\u001b[0m         source,\n\u001b[1;32m    522\u001b[0m         encoding\u001b[38;5;241m=\u001b[39mencoding,\n\u001b[0;32m   (...)\u001b[0m\n\u001b[1;32m    525\u001b[0m         storage_options\u001b[38;5;241m=\u001b[39mstorage_options,\n\u001b[1;32m    526\u001b[0m     ) \u001b[38;5;28;01mas\u001b[39;00m data:\n\u001b[0;32m--> 527\u001b[0m         df \u001b[38;5;241m=\u001b[39m \u001b[43m_read_csv_impl\u001b[49m\u001b[43m(\u001b[49m\n\u001b[1;32m    528\u001b[0m \u001b[43m            \u001b[49m\u001b[43mdata\u001b[49m\u001b[43m,\u001b[49m\n\u001b[1;32m    529\u001b[0m \u001b[43m            \u001b[49m\u001b[43mhas_header\u001b[49m\u001b[38;5;241;43m=\u001b[39;49m\u001b[43mhas_header\u001b[49m\u001b[43m,\u001b[49m\n\u001b[1;32m    530\u001b[0m \u001b[43m            \u001b[49m\u001b[43mcolumns\u001b[49m\u001b[38;5;241;43m=\u001b[39;49m\u001b[43mcolumns\u001b[49m\u001b[43m \u001b[49m\u001b[38;5;28;43;01mif\u001b[39;49;00m\u001b[43m \u001b[49m\u001b[43mcolumns\u001b[49m\u001b[43m \u001b[49m\u001b[38;5;28;43;01melse\u001b[39;49;00m\u001b[43m \u001b[49m\u001b[43mprojection\u001b[49m\u001b[43m,\u001b[49m\n\u001b[1;32m    531\u001b[0m \u001b[43m            \u001b[49m\u001b[43mseparator\u001b[49m\u001b[38;5;241;43m=\u001b[39;49m\u001b[43mseparator\u001b[49m\u001b[43m,\u001b[49m\n\u001b[1;32m    532\u001b[0m \u001b[43m            \u001b[49m\u001b[43mcomment_prefix\u001b[49m\u001b[38;5;241;43m=\u001b[39;49m\u001b[43mcomment_prefix\u001b[49m\u001b[43m,\u001b[49m\n\u001b[1;32m    533\u001b[0m \u001b[43m            \u001b[49m\u001b[43mquote_char\u001b[49m\u001b[38;5;241;43m=\u001b[39;49m\u001b[43mquote_char\u001b[49m\u001b[43m,\u001b[49m\n\u001b[1;32m    534\u001b[0m \u001b[43m            \u001b[49m\u001b[43mskip_rows\u001b[49m\u001b[38;5;241;43m=\u001b[39;49m\u001b[43mskip_rows\u001b[49m\u001b[43m,\u001b[49m\n\u001b[1;32m    535\u001b[0m \u001b[43m            \u001b[49m\u001b[43mschema_overrides\u001b[49m\u001b[38;5;241;43m=\u001b[39;49m\u001b[43mschema_overrides\u001b[49m\u001b[43m,\u001b[49m\n\u001b[1;32m    536\u001b[0m \u001b[43m            \u001b[49m\u001b[43mschema\u001b[49m\u001b[38;5;241;43m=\u001b[39;49m\u001b[43mschema\u001b[49m\u001b[43m,\u001b[49m\n\u001b[1;32m    537\u001b[0m \u001b[43m            \u001b[49m\u001b[43mnull_values\u001b[49m\u001b[38;5;241;43m=\u001b[39;49m\u001b[43mnull_values\u001b[49m\u001b[43m,\u001b[49m\n\u001b[1;32m    538\u001b[0m \u001b[43m            \u001b[49m\u001b[43mmissing_utf8_is_empty_string\u001b[49m\u001b[38;5;241;43m=\u001b[39;49m\u001b[43mmissing_utf8_is_empty_string\u001b[49m\u001b[43m,\u001b[49m\n\u001b[1;32m    539\u001b[0m \u001b[43m            \u001b[49m\u001b[43mignore_errors\u001b[49m\u001b[38;5;241;43m=\u001b[39;49m\u001b[43mignore_errors\u001b[49m\u001b[43m,\u001b[49m\n\u001b[1;32m    540\u001b[0m \u001b[43m            \u001b[49m\u001b[43mtry_parse_dates\u001b[49m\u001b[38;5;241;43m=\u001b[39;49m\u001b[43mtry_parse_dates\u001b[49m\u001b[43m,\u001b[49m\n\u001b[1;32m    541\u001b[0m \u001b[43m            \u001b[49m\u001b[43mn_threads\u001b[49m\u001b[38;5;241;43m=\u001b[39;49m\u001b[43mn_threads\u001b[49m\u001b[43m,\u001b[49m\n\u001b[1;32m    542\u001b[0m \u001b[43m            \u001b[49m\u001b[43minfer_schema_length\u001b[49m\u001b[38;5;241;43m=\u001b[39;49m\u001b[43minfer_schema_length\u001b[49m\u001b[43m,\u001b[49m\n\u001b[1;32m    543\u001b[0m \u001b[43m            \u001b[49m\u001b[43mbatch_size\u001b[49m\u001b[38;5;241;43m=\u001b[39;49m\u001b[43mbatch_size\u001b[49m\u001b[43m,\u001b[49m\n\u001b[1;32m    544\u001b[0m \u001b[43m            \u001b[49m\u001b[43mn_rows\u001b[49m\u001b[38;5;241;43m=\u001b[39;49m\u001b[43mn_rows\u001b[49m\u001b[43m,\u001b[49m\n\u001b[1;32m    545\u001b[0m \u001b[43m            \u001b[49m\u001b[43mencoding\u001b[49m\u001b[38;5;241;43m=\u001b[39;49m\u001b[43mencoding\u001b[49m\u001b[43m \u001b[49m\u001b[38;5;28;43;01mif\u001b[39;49;00m\u001b[43m \u001b[49m\u001b[43mencoding\u001b[49m\u001b[43m \u001b[49m\u001b[38;5;241;43m==\u001b[39;49m\u001b[43m \u001b[49m\u001b[38;5;124;43m\"\u001b[39;49m\u001b[38;5;124;43mutf8-lossy\u001b[39;49m\u001b[38;5;124;43m\"\u001b[39;49m\u001b[43m \u001b[49m\u001b[38;5;28;43;01melse\u001b[39;49;00m\u001b[43m \u001b[49m\u001b[38;5;124;43m\"\u001b[39;49m\u001b[38;5;124;43mutf8\u001b[39;49m\u001b[38;5;124;43m\"\u001b[39;49m\u001b[43m,\u001b[49m\n\u001b[1;32m    546\u001b[0m \u001b[43m            \u001b[49m\u001b[43mlow_memory\u001b[49m\u001b[38;5;241;43m=\u001b[39;49m\u001b[43mlow_memory\u001b[49m\u001b[43m,\u001b[49m\n\u001b[1;32m    547\u001b[0m \u001b[43m            \u001b[49m\u001b[43mrechunk\u001b[49m\u001b[38;5;241;43m=\u001b[39;49m\u001b[43mrechunk\u001b[49m\u001b[43m,\u001b[49m\n\u001b[1;32m    548\u001b[0m \u001b[43m            \u001b[49m\u001b[43mskip_rows_after_header\u001b[49m\u001b[38;5;241;43m=\u001b[39;49m\u001b[43mskip_rows_after_header\u001b[49m\u001b[43m,\u001b[49m\n\u001b[1;32m    549\u001b[0m \u001b[43m            \u001b[49m\u001b[43mrow_index_name\u001b[49m\u001b[38;5;241;43m=\u001b[39;49m\u001b[43mrow_index_name\u001b[49m\u001b[43m,\u001b[49m\n\u001b[1;32m    550\u001b[0m \u001b[43m            \u001b[49m\u001b[43mrow_index_offset\u001b[49m\u001b[38;5;241;43m=\u001b[39;49m\u001b[43mrow_index_offset\u001b[49m\u001b[43m,\u001b[49m\n\u001b[1;32m    551\u001b[0m \u001b[43m            \u001b[49m\u001b[43meol_char\u001b[49m\u001b[38;5;241;43m=\u001b[39;49m\u001b[43meol_char\u001b[49m\u001b[43m,\u001b[49m\n\u001b[1;32m    552\u001b[0m \u001b[43m            \u001b[49m\u001b[43mraise_if_empty\u001b[49m\u001b[38;5;241;43m=\u001b[39;49m\u001b[43mraise_if_empty\u001b[49m\u001b[43m,\u001b[49m\n\u001b[1;32m    553\u001b[0m \u001b[43m            \u001b[49m\u001b[43mtruncate_ragged_lines\u001b[49m\u001b[38;5;241;43m=\u001b[39;49m\u001b[43mtruncate_ragged_lines\u001b[49m\u001b[43m,\u001b[49m\n\u001b[1;32m    554\u001b[0m \u001b[43m            \u001b[49m\u001b[43mdecimal_comma\u001b[49m\u001b[38;5;241;43m=\u001b[39;49m\u001b[43mdecimal_comma\u001b[49m\u001b[43m,\u001b[49m\n\u001b[1;32m    555\u001b[0m \u001b[43m            \u001b[49m\u001b[43mglob\u001b[49m\u001b[38;5;241;43m=\u001b[39;49m\u001b[43mglob\u001b[49m\u001b[43m,\u001b[49m\n\u001b[1;32m    556\u001b[0m \u001b[43m        \u001b[49m\u001b[43m)\u001b[49m\n\u001b[1;32m    558\u001b[0m \u001b[38;5;28;01mif\u001b[39;00m new_columns:\n\u001b[1;32m    559\u001b[0m     \u001b[38;5;28;01mreturn\u001b[39;00m _update_columns(df, new_columns)\n",
      "File \u001b[0;32m~/miniconda3/envs/eph/lib/python3.13/site-packages/polars/io/csv/functions.py:672\u001b[0m, in \u001b[0;36m_read_csv_impl\u001b[0;34m(source, has_header, columns, separator, comment_prefix, quote_char, skip_rows, schema, schema_overrides, null_values, missing_utf8_is_empty_string, ignore_errors, try_parse_dates, n_threads, infer_schema_length, batch_size, n_rows, encoding, low_memory, rechunk, skip_rows_after_header, row_index_name, row_index_offset, sample_size, eol_char, raise_if_empty, truncate_ragged_lines, decimal_comma, glob)\u001b[0m\n\u001b[1;32m    668\u001b[0m         \u001b[38;5;28;01mraise\u001b[39;00m \u001b[38;5;167;01mValueError\u001b[39;00m(msg)\n\u001b[1;32m    670\u001b[0m projection, columns \u001b[38;5;241m=\u001b[39m parse_columns_arg(columns)\n\u001b[0;32m--> 672\u001b[0m pydf \u001b[38;5;241m=\u001b[39m \u001b[43mPyDataFrame\u001b[49m\u001b[38;5;241;43m.\u001b[39;49m\u001b[43mread_csv\u001b[49m\u001b[43m(\u001b[49m\n\u001b[1;32m    673\u001b[0m \u001b[43m    \u001b[49m\u001b[43msource\u001b[49m\u001b[43m,\u001b[49m\n\u001b[1;32m    674\u001b[0m \u001b[43m    \u001b[49m\u001b[43minfer_schema_length\u001b[49m\u001b[43m,\u001b[49m\n\u001b[1;32m    675\u001b[0m \u001b[43m    \u001b[49m\u001b[43mbatch_size\u001b[49m\u001b[43m,\u001b[49m\n\u001b[1;32m    676\u001b[0m \u001b[43m    \u001b[49m\u001b[43mhas_header\u001b[49m\u001b[43m,\u001b[49m\n\u001b[1;32m    677\u001b[0m \u001b[43m    \u001b[49m\u001b[43mignore_errors\u001b[49m\u001b[43m,\u001b[49m\n\u001b[1;32m    678\u001b[0m \u001b[43m    \u001b[49m\u001b[43mn_rows\u001b[49m\u001b[43m,\u001b[49m\n\u001b[1;32m    679\u001b[0m \u001b[43m    \u001b[49m\u001b[43mskip_rows\u001b[49m\u001b[43m,\u001b[49m\n\u001b[1;32m    680\u001b[0m \u001b[43m    \u001b[49m\u001b[43mprojection\u001b[49m\u001b[43m,\u001b[49m\n\u001b[1;32m    681\u001b[0m \u001b[43m    \u001b[49m\u001b[43mseparator\u001b[49m\u001b[43m,\u001b[49m\n\u001b[1;32m    682\u001b[0m \u001b[43m    \u001b[49m\u001b[43mrechunk\u001b[49m\u001b[43m,\u001b[49m\n\u001b[1;32m    683\u001b[0m \u001b[43m    \u001b[49m\u001b[43mcolumns\u001b[49m\u001b[43m,\u001b[49m\n\u001b[1;32m    684\u001b[0m \u001b[43m    \u001b[49m\u001b[43mencoding\u001b[49m\u001b[43m,\u001b[49m\n\u001b[1;32m    685\u001b[0m \u001b[43m    \u001b[49m\u001b[43mn_threads\u001b[49m\u001b[43m,\u001b[49m\n\u001b[1;32m    686\u001b[0m \u001b[43m    \u001b[49m\u001b[43mpath\u001b[49m\u001b[43m,\u001b[49m\n\u001b[1;32m    687\u001b[0m \u001b[43m    \u001b[49m\u001b[43mdtype_list\u001b[49m\u001b[43m,\u001b[49m\n\u001b[1;32m    688\u001b[0m \u001b[43m    \u001b[49m\u001b[43mdtype_slice\u001b[49m\u001b[43m,\u001b[49m\n\u001b[1;32m    689\u001b[0m \u001b[43m    \u001b[49m\u001b[43mlow_memory\u001b[49m\u001b[43m,\u001b[49m\n\u001b[1;32m    690\u001b[0m \u001b[43m    \u001b[49m\u001b[43mcomment_prefix\u001b[49m\u001b[43m,\u001b[49m\n\u001b[1;32m    691\u001b[0m \u001b[43m    \u001b[49m\u001b[43mquote_char\u001b[49m\u001b[43m,\u001b[49m\n\u001b[1;32m    692\u001b[0m \u001b[43m    \u001b[49m\u001b[43mprocessed_null_values\u001b[49m\u001b[43m,\u001b[49m\n\u001b[1;32m    693\u001b[0m \u001b[43m    \u001b[49m\u001b[43mmissing_utf8_is_empty_string\u001b[49m\u001b[43m,\u001b[49m\n\u001b[1;32m    694\u001b[0m \u001b[43m    \u001b[49m\u001b[43mtry_parse_dates\u001b[49m\u001b[43m,\u001b[49m\n\u001b[1;32m    695\u001b[0m \u001b[43m    \u001b[49m\u001b[43mskip_rows_after_header\u001b[49m\u001b[43m,\u001b[49m\n\u001b[1;32m    696\u001b[0m \u001b[43m    \u001b[49m\u001b[43mparse_row_index_args\u001b[49m\u001b[43m(\u001b[49m\u001b[43mrow_index_name\u001b[49m\u001b[43m,\u001b[49m\u001b[43m \u001b[49m\u001b[43mrow_index_offset\u001b[49m\u001b[43m)\u001b[49m\u001b[43m,\u001b[49m\n\u001b[1;32m    697\u001b[0m \u001b[43m    \u001b[49m\u001b[43meol_char\u001b[49m\u001b[38;5;241;43m=\u001b[39;49m\u001b[43meol_char\u001b[49m\u001b[43m,\u001b[49m\n\u001b[1;32m    698\u001b[0m \u001b[43m    \u001b[49m\u001b[43mraise_if_empty\u001b[49m\u001b[38;5;241;43m=\u001b[39;49m\u001b[43mraise_if_empty\u001b[49m\u001b[43m,\u001b[49m\n\u001b[1;32m    699\u001b[0m \u001b[43m    \u001b[49m\u001b[43mtruncate_ragged_lines\u001b[49m\u001b[38;5;241;43m=\u001b[39;49m\u001b[43mtruncate_ragged_lines\u001b[49m\u001b[43m,\u001b[49m\n\u001b[1;32m    700\u001b[0m \u001b[43m    \u001b[49m\u001b[43mdecimal_comma\u001b[49m\u001b[38;5;241;43m=\u001b[39;49m\u001b[43mdecimal_comma\u001b[49m\u001b[43m,\u001b[49m\n\u001b[1;32m    701\u001b[0m \u001b[43m    \u001b[49m\u001b[43mschema\u001b[49m\u001b[38;5;241;43m=\u001b[39;49m\u001b[43mschema\u001b[49m\u001b[43m,\u001b[49m\n\u001b[1;32m    702\u001b[0m \u001b[43m\u001b[49m\u001b[43m)\u001b[49m\n\u001b[1;32m    703\u001b[0m \u001b[38;5;28;01mreturn\u001b[39;00m wrap_df(pydf)\n",
      "\u001b[0;31mComputeError\u001b[0m: could not parse `12666,67` as dtype `i64` at column 'IPCF' (column number 170)\n\nThe current offset in the file is 53451 bytes.\n\nYou might want to try:\n- increasing `infer_schema_length` (e.g. `infer_schema_length=10000`),\n- specifying correct dtype with the `schema_overrides` argument\n- setting `ignore_errors` to `True`,\n- adding `12666,67` to the `null_values` list.\n\nOriginal error: ```remaining bytes non-empty```"
     ]
    }
   ],
   "source": [
    "base_path = 'datos/individual'\n",
    "individual_file_list = sorted(os.listdir(base_path))\n",
    "individual_file_paths = [os.path.join(base_path, file) for file\n",
    "                         in individual_file_list]\n",
    "\n",
    "for i in enumerate(individual_file_paths):\n",
    "    index = i[0]\n",
    "    path_str = i[1]\n",
    "\n",
    "    current_df = read_and_format(path_str)\n",
    "\n",
    "    if index == 0:\n",
    "        individual = current_df\n",
    "    else:\n",
    "        # Clean invalid values and align column schemas\n",
    "        for col_name, col_type in individual.schema.items():\n",
    "            if col_name in current_df.schema:\n",
    "                # If the column is expected to be Int32, clean it\n",
    "                if col_type == pl.Int32:\n",
    "                    # Ensure the column is string\n",
    "                    current_df = current_df.with_columns(\n",
    "                        pl.when(pl.col(col_name).cast(pl.Utf8).str\n",
    "                                .strip_chars() == \"\")\n",
    "                        .then(None)\n",
    "                        .otherwise(pl.col(col_name))\n",
    "                        .alias(col_name)\n",
    "                    )\n",
    "                # Cast the column to the expected type\n",
    "                current_df = current_df.with_columns(pl.col(col_name)\n",
    "                                                     .cast(col_type))\n",
    "        individual = pl.concat([individual, current_df])\n",
    "\n",
    "        # Align schemas\n",
    "        for col in individual.columns:\n",
    "            if col not in current_df.columns:\n",
    "                current_df = current_df.with_columns(pl.lit(None).alias(col))\n",
    "        \n",
    "        for col in current_df.columns:\n",
    "            if col not in individual.columns:\n",
    "                current_df = current_df.drop(col)\n",
    "\n",
    "    print(f\"Processing file: {path_str}\")\n",
    "\n",
    "individual"
   ]
  },
  {
   "cell_type": "markdown",
   "id": "fec8e57d",
   "metadata": {},
   "source": [
    "## Leyendo los datos a una tabla\n",
    "En esta sección se leen los archivos para crear una tabla para los datos de hogares y otra para los datos de individuos.\n",
    "Dado que la cantidad de datos puede causar que las computadoras se queden sin memoria (sobre todo si la PC tiene 8gb de RAM o menos) se recomienda usar las variables hogar_cols_to_keep y ind_cols_to_keep para listar las variables que se necesitan en los datasets de hogares e individuos, respectivamente, y eliminar las restantes.   \n",
    "Los nombres de las variables se pueden conseguir en el diseño de registro de la EPH, aunque en algunos casos los nombres de las variables pueden tener pequeños errores (por ejemplo, en el registro existe una variable llamada \"IX_Tot\", pero su nombre en los archivos es \"IX_TOT\").\n",
    "Al final de esta sección se guardan los archivos hogar.csv e individuos.csv en la carpeta \"datos\", ambos conteniendo los datos de sus respectivos datasets.   \n",
    "En este caso, a modo de ejemplo, se eligen las variables \"CODUSU\", \"NRO_HOGAR\", \"IX_TOT\", \"DECIFR\" y\"DECCFR\" en el dataset de hogares y \"CODUSU\", \"NRO_HOGAR\" y \"DECINDR\" en dataset de individuos. El movtivo por el cual se eligen estas variables de detalla en la próxima sección."
   ]
  },
  {
   "cell_type": "code",
   "execution_count": 17,
   "id": "6c578c2a",
   "metadata": {},
   "outputs": [],
   "source": [
    "def read_data(key, hogar_or_individual):\n",
    "    \"\"\"This function reads a txt file as formatted by INDEC and returns a pandas\n",
    "    DataFrame with the data and a few small optimizations to save memory. It is\n",
    "    recommended to use cols_to_keep to reduce memory footprint.\n",
    "    Args:\n",
    "        key (str): the key corresponding to the quarter. It's format should be\n",
    "        yy-QT, so that, for example, 23-2T is the second quarter of 2023.\n",
    "        hogar_or_individual (str): should be either \"hogar\" or \"individual\".\n",
    "        cols_to_keep (list, optional): a list of columns to keep, and the rest\n",
    "        are discarded. If None, all the columns are kept. Defaults to None.\n",
    "\n",
    "    Returns:\n",
    "        pandas.DataFrame: a DataFrame containing the data from the .txt file.\n",
    "    \"\"\"   \n",
    "    # Reading the data\n",
    "    df = pd.read_csv(f'datos/{hogar_or_individual}/{key}-' +\n",
    "                     f'{hogar_or_individual}.txt', sep=';',\n",
    "                     low_memory=False)\n",
    "    \n",
    "    # Converting int64 to int16 to save memory\n",
    "    d = dict.fromkeys(df.select_dtypes('int').columns, 'int16')\n",
    "    df = df.astype(d).copy()\n",
    "\n",
    "    # Converting fp64 to fp16 to save memory\n",
    "    d = dict.fromkeys(df.select_dtypes('float').columns, 'float16')\n",
    "    df = df.astype(d).copy()\n",
    "\n",
    "\n",
    "    # Converting the date data to quarters\n",
    "    date_df = df[['ANO4', 'TRIMESTRE']].astype(str).copy()\n",
    "    quarter = pd.to_datetime(date_df['ANO4'] + 'Q' + date_df['TRIMESTRE'])\n",
    "    quarter = quarter.dt.to_period('Q')\n",
    "    df['quarter'] = quarter.copy()\n",
    "    df = df.drop(columns=['ANO4', 'TRIMESTRE'])\n",
    "\n",
    "    return df"
   ]
  }
 ],
 "metadata": {
  "kernelspec": {
   "display_name": "eph",
   "language": "python",
   "name": "python3"
  },
  "language_info": {
   "codemirror_mode": {
    "name": "ipython",
    "version": 3
   },
   "file_extension": ".py",
   "mimetype": "text/x-python",
   "name": "python",
   "nbconvert_exporter": "python",
   "pygments_lexer": "ipython3",
   "version": "3.13.0"
  }
 },
 "nbformat": 4,
 "nbformat_minor": 5
}
