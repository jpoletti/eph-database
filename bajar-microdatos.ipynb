{
 "cells": [
  {
   "cell_type": "markdown",
   "id": "572a89ea",
   "metadata": {},
   "source": [
    "# Bajar-Microdatos.ipynb\n",
    "El objetivo de esta notebook es presentar código que permite sistematizar la descarga de datos de todos los trimestres de 2016 en adelante de la Encuesta Permanente de Hogares, dando o cómo resultado un archivo en formato .csv para los datos correspondientes a los hogares y otro igual para los datos correspondientes a individuos. Por último, se presenta un breve análisis como un pequeño ejemplo de un análisis posible con estos datos.\n",
    "La fuente de los datos se puede encontrar en [este](https://www.indec.gob.ar/indec/web/Institucional-Indec-BasesDeDatos) sitio web."
   ]
  },
  {
   "cell_type": "code",
   "execution_count": 1,
   "id": "fb5c04ba-de47-4eba-9e09-7081d3bd2387",
   "metadata": {
    "tags": []
   },
   "outputs": [],
   "source": [
    "import os\n",
    "import time\n",
    "import zipfile\n",
    "import shutil\n",
    "import re\n",
    "from tqdm import tqdm\n",
    "import polars as pl\n",
    "import numpy as np\n",
    "# import matplotlib.pyplot as plt\n",
    "\n",
    "from create_urls import *"
   ]
  },
  {
   "cell_type": "code",
   "execution_count": 2,
   "id": "4f17771e",
   "metadata": {},
   "outputs": [
    {
     "data": {
      "text/plain": [
       "'24-1T'"
      ]
     },
     "execution_count": 2,
     "metadata": {},
     "output_type": "execute_result"
    }
   ],
   "source": [
    "with open('last_known_quarter.txt') as f:\n",
    "    last_known_quarter = f.read()\n",
    "\n",
    "last_known_quarter"
   ]
  },
  {
   "cell_type": "code",
   "execution_count": 3,
   "id": "74f1d57e",
   "metadata": {},
   "outputs": [
    {
     "data": {
      "text/plain": [
       "['16-2T',\n",
       " '16-3T',\n",
       " '16-4T',\n",
       " '17-1T',\n",
       " '17-2T',\n",
       " '17-3T',\n",
       " '17-4T',\n",
       " '18-1T',\n",
       " '18-2T',\n",
       " '18-3T',\n",
       " '18-4T',\n",
       " '19-1T',\n",
       " '19-2T',\n",
       " '19-3T',\n",
       " '19-4T',\n",
       " '20-1T',\n",
       " '20-2T',\n",
       " '20-3T',\n",
       " '20-4T',\n",
       " '21-1T',\n",
       " '21-2T',\n",
       " '21-3T',\n",
       " '21-4T',\n",
       " '22-1T',\n",
       " '22-2T',\n",
       " '22-3T',\n",
       " '22-4T',\n",
       " '23-1T',\n",
       " '23-2T',\n",
       " '23-3T',\n",
       " '23-4T',\n",
       " '24-1T']"
      ]
     },
     "execution_count": 3,
     "metadata": {},
     "output_type": "execute_result"
    }
   ],
   "source": [
    "known_key_list = create_key_list(last_quarter=last_known_quarter)\n",
    "known_key_list"
   ]
  },
  {
   "cell_type": "code",
   "execution_count": 4,
   "id": "302d9ea7",
   "metadata": {},
   "outputs": [
    {
     "data": {
      "text/plain": [
       "['https://www.indec.gob.ar/ftp/cuadros/menusuperior/eph/EPH_usu_2doTrim_2016_txt.zip',\n",
       " 'https://www.indec.gob.ar/ftp/cuadros/menusuperior/eph/EPH_usu_3erTrim_2016_txt.zip',\n",
       " 'https://www.indec.gob.ar/ftp/cuadros/menusuperior/eph/EPH_usu_4toTrim_2016_txt.zip',\n",
       " 'https://www.indec.gob.ar/ftp/cuadros/menusuperior/eph/EPH_usu_1er_Trim_2017_txt.zip',\n",
       " 'https://www.indec.gob.ar/ftp/cuadros/menusuperior/eph/EPH_usu_2_Trim_2017_txt.zip',\n",
       " 'https://www.indec.gob.ar/ftp/cuadros/menusuperior/eph/EPH_usu_3_Trim_2017_txt.zip',\n",
       " 'https://www.indec.gob.ar/ftp/cuadros/menusuperior/eph/EPH_usu_4_Trim_2017_txt.zip',\n",
       " 'https://www.indec.gob.ar/ftp/cuadros/menusuperior/eph/EPH_usu_1_Trim_2018_txt.zip',\n",
       " 'https://www.indec.gob.ar/ftp/cuadros/menusuperior/eph/EPH_usu_2_Trim_2018_txt.zip',\n",
       " 'https://www.indec.gob.ar/ftp/cuadros/menusuperior/eph/EPH_usu_3_Trim_2018_txt.zip',\n",
       " 'https://www.indec.gob.ar/ftp/cuadros/menusuperior/eph/EPH_usu_4_Trim_2018_txt.zip',\n",
       " 'https://www.indec.gob.ar/ftp/cuadros/menusuperior/eph/EPH_usu_1_Trim_2019_txt.zip',\n",
       " 'https://www.indec.gob.ar/ftp/cuadros/menusuperior/eph/EPH_usu_2_Trim_2019_txt.zip',\n",
       " 'https://www.indec.gob.ar/ftp/cuadros/menusuperior/eph/EPH_usu_3_Trim_2019_txt.zip',\n",
       " 'https://www.indec.gob.ar/ftp/cuadros/menusuperior/eph/EPH_usu_4_Trim_2019_txt.zip',\n",
       " 'https://www.indec.gob.ar/ftp/cuadros/menusuperior/eph/EPH_usu_1_Trim_2020_txt.zip',\n",
       " 'https://www.indec.gob.ar/ftp/cuadros/menusuperior/eph/EPH_usu_2_Trim_2020_txt.zip',\n",
       " 'https://www.indec.gob.ar/ftp/cuadros/menusuperior/eph/EPH_usu_3_Trim_2020_txt.zip',\n",
       " 'https://www.indec.gob.ar/ftp/cuadros/menusuperior/eph/EPH_usu_4_Trim_2020_txt.zip',\n",
       " 'https://www.indec.gob.ar/ftp/cuadros/menusuperior/eph/EPH_usu_1_Trim_2021_txt.zip',\n",
       " 'https://www.indec.gob.ar/ftp/cuadros/menusuperior/eph/EPH_usu_2_Trim_2021_txt.zip',\n",
       " 'https://www.indec.gob.ar/ftp/cuadros/menusuperior/eph/EPH_usu_3_Trim_2021_txt.zip',\n",
       " 'https://www.indec.gob.ar/ftp/cuadros/menusuperior/eph/EPH_usu_4_Trim_2021_txt.zip',\n",
       " 'https://www.indec.gob.ar/ftp/cuadros/menusuperior/eph/EPH_usu_1_Trim_2022_txt.zip',\n",
       " 'https://www.indec.gob.ar/ftp/cuadros/menusuperior/eph/EPH_usu_2_Trim_2022_txt.zip',\n",
       " 'https://www.indec.gob.ar/ftp/cuadros/menusuperior/eph/EPH_usu_3_Trim_2022_txt.zip',\n",
       " 'https://www.indec.gob.ar/ftp/cuadros/menusuperior/eph/EPH_usu_4_Trim_2022_txt.zip',\n",
       " 'https://www.indec.gob.ar/ftp/cuadros/menusuperior/eph/EPH_usu_1_Trim_2023_txt.zip',\n",
       " 'https://www.indec.gob.ar/ftp/cuadros/menusuperior/eph/EPH_usu_2_Trim_2023_txt.zip',\n",
       " 'https://www.indec.gob.ar/ftp/cuadros/menusuperior/eph/EPH_usu_3_Trim_2023_txt.zip',\n",
       " 'https://www.indec.gob.ar/ftp/cuadros/menusuperior/eph/EPH_usu_4_Trim_2023_txt.zip',\n",
       " 'https://www.indec.gob.ar/ftp/cuadros/menusuperior/eph/EPH_usu_1_Trim_2024_txt.zip']"
      ]
     },
     "execution_count": 4,
     "metadata": {},
     "output_type": "execute_result"
    }
   ],
   "source": [
    "known_url_list = create_url_list(known_key_list)\n",
    "known_url_list"
   ]
  },
  {
   "cell_type": "code",
   "execution_count": 5,
   "id": "81c861ef",
   "metadata": {},
   "outputs": [
    {
     "data": {
      "text/plain": [
       "{'16-2T': 'https://www.indec.gob.ar/ftp/cuadros/menusuperior/eph/EPH_usu_2doTrim_2016_txt.zip',\n",
       " '16-3T': 'https://www.indec.gob.ar/ftp/cuadros/menusuperior/eph/EPH_usu_3erTrim_2016_txt.zip',\n",
       " '16-4T': 'https://www.indec.gob.ar/ftp/cuadros/menusuperior/eph/EPH_usu_4toTrim_2016_txt.zip',\n",
       " '17-1T': 'https://www.indec.gob.ar/ftp/cuadros/menusuperior/eph/EPH_usu_1er_Trim_2017_txt.zip',\n",
       " '17-2T': 'https://www.indec.gob.ar/ftp/cuadros/menusuperior/eph/EPH_usu_2_Trim_2017_txt.zip',\n",
       " '17-3T': 'https://www.indec.gob.ar/ftp/cuadros/menusuperior/eph/EPH_usu_3_Trim_2017_txt.zip',\n",
       " '17-4T': 'https://www.indec.gob.ar/ftp/cuadros/menusuperior/eph/EPH_usu_4_Trim_2017_txt.zip',\n",
       " '18-1T': 'https://www.indec.gob.ar/ftp/cuadros/menusuperior/eph/EPH_usu_1_Trim_2018_txt.zip',\n",
       " '18-2T': 'https://www.indec.gob.ar/ftp/cuadros/menusuperior/eph/EPH_usu_2_Trim_2018_txt.zip',\n",
       " '18-3T': 'https://www.indec.gob.ar/ftp/cuadros/menusuperior/eph/EPH_usu_3_Trim_2018_txt.zip',\n",
       " '18-4T': 'https://www.indec.gob.ar/ftp/cuadros/menusuperior/eph/EPH_usu_4_Trim_2018_txt.zip',\n",
       " '19-1T': 'https://www.indec.gob.ar/ftp/cuadros/menusuperior/eph/EPH_usu_1_Trim_2019_txt.zip',\n",
       " '19-2T': 'https://www.indec.gob.ar/ftp/cuadros/menusuperior/eph/EPH_usu_2_Trim_2019_txt.zip',\n",
       " '19-3T': 'https://www.indec.gob.ar/ftp/cuadros/menusuperior/eph/EPH_usu_3_Trim_2019_txt.zip',\n",
       " '19-4T': 'https://www.indec.gob.ar/ftp/cuadros/menusuperior/eph/EPH_usu_4_Trim_2019_txt.zip',\n",
       " '20-1T': 'https://www.indec.gob.ar/ftp/cuadros/menusuperior/eph/EPH_usu_1_Trim_2020_txt.zip',\n",
       " '20-2T': 'https://www.indec.gob.ar/ftp/cuadros/menusuperior/eph/EPH_usu_2_Trim_2020_txt.zip',\n",
       " '20-3T': 'https://www.indec.gob.ar/ftp/cuadros/menusuperior/eph/EPH_usu_3_Trim_2020_txt.zip',\n",
       " '20-4T': 'https://www.indec.gob.ar/ftp/cuadros/menusuperior/eph/EPH_usu_4_Trim_2020_txt.zip',\n",
       " '21-1T': 'https://www.indec.gob.ar/ftp/cuadros/menusuperior/eph/EPH_usu_1_Trim_2021_txt.zip',\n",
       " '21-2T': 'https://www.indec.gob.ar/ftp/cuadros/menusuperior/eph/EPH_usu_2_Trim_2021_txt.zip',\n",
       " '21-3T': 'https://www.indec.gob.ar/ftp/cuadros/menusuperior/eph/EPH_usu_3_Trim_2021_txt.zip',\n",
       " '21-4T': 'https://www.indec.gob.ar/ftp/cuadros/menusuperior/eph/EPH_usu_4_Trim_2021_txt.zip',\n",
       " '22-1T': 'https://www.indec.gob.ar/ftp/cuadros/menusuperior/eph/EPH_usu_1_Trim_2022_txt.zip',\n",
       " '22-2T': 'https://www.indec.gob.ar/ftp/cuadros/menusuperior/eph/EPH_usu_2_Trim_2022_txt.zip',\n",
       " '22-3T': 'https://www.indec.gob.ar/ftp/cuadros/menusuperior/eph/EPH_usu_3_Trim_2022_txt.zip',\n",
       " '22-4T': 'https://www.indec.gob.ar/ftp/cuadros/menusuperior/eph/EPH_usu_4_Trim_2022_txt.zip',\n",
       " '23-1T': 'https://www.indec.gob.ar/ftp/cuadros/menusuperior/eph/EPH_usu_1_Trim_2023_txt.zip',\n",
       " '23-2T': 'https://www.indec.gob.ar/ftp/cuadros/menusuperior/eph/EPH_usu_2_Trim_2023_txt.zip',\n",
       " '23-3T': 'https://www.indec.gob.ar/ftp/cuadros/menusuperior/eph/EPH_usu_3_Trim_2023_txt.zip',\n",
       " '23-4T': 'https://www.indec.gob.ar/ftp/cuadros/menusuperior/eph/EPH_usu_4_Trim_2023_txt.zip',\n",
       " '24-1T': 'https://www.indec.gob.ar/ftp/cuadros/menusuperior/eph/EPH_usu_1_Trim_2024_txt.zip'}"
      ]
     },
     "execution_count": 5,
     "metadata": {},
     "output_type": "execute_result"
    }
   ],
   "source": [
    "known_url_dict = create_known_urls(last_known_quarter)\n",
    "known_url_dict"
   ]
  },
  {
   "cell_type": "code",
   "execution_count": 6,
   "id": "bc51b58c",
   "metadata": {},
   "outputs": [
    {
     "data": {
      "text/plain": [
       "{'24-2T': 'https://www.indec.gob.ar/ftp/cuadros/menusuperior/eph/EPH_usu_2_Trim_2024_txt.zip',\n",
       " '24-3T': 'https://www.indec.gob.ar/ftp/cuadros/menusuperior/eph/EPH_usu_3_Trim_2024_txt.zip',\n",
       " '24-4T': 'https://www.indec.gob.ar/ftp/cuadros/menusuperior/eph/EPH_usu_4_Trim_2024_txt.zip',\n",
       " '25-1T': 'https://www.indec.gob.ar/ftp/cuadros/menusuperior/eph/EPH_usu_1_Trim_2025_txt.zip',\n",
       " '25-2T': 'https://www.indec.gob.ar/ftp/cuadros/menusuperior/eph/EPH_usu_2_Trim_2025_txt.zip'}"
      ]
     },
     "execution_count": 6,
     "metadata": {},
     "output_type": "execute_result"
    }
   ],
   "source": [
    "unknown_url_dict = create_unknown_urls(5, last_known_quarter)\n",
    "unknown_url_dict"
   ]
  },
  {
   "cell_type": "code",
   "execution_count": 7,
   "id": "2c4f8db1",
   "metadata": {},
   "outputs": [
    {
     "data": {
      "text/plain": [
       "{'24-2T': 'https://www.indec.gob.ar/ftp/cuadros/menusuperior/eph/EPH_usu_2_Trim_2024_txt.zip'}"
      ]
     },
     "execution_count": 7,
     "metadata": {},
     "output_type": "execute_result"
    }
   ],
   "source": [
    "unknown_valid_url_dict = test_urls(unknown_url_dict)\n",
    "unknown_valid_url_dict"
   ]
  },
  {
   "cell_type": "code",
   "execution_count": 8,
   "id": "2b6aa2e5",
   "metadata": {},
   "outputs": [
    {
     "name": "stderr",
     "output_type": "stream",
     "text": [
      "Downloading files: 100%|██████████| 32/32 [00:48<00:00,  1.53s/it]\n"
     ]
    }
   ],
   "source": [
    "# Create the \"datos\" folder if it doesn't exist\n",
    "if 'datos' not in os.listdir():\n",
    "    os.makedirs('datos')\n",
    "    os.makedirs('datos/zip')\n",
    "\n",
    "# Download the files\n",
    "for key in tqdm(known_url_dict, desc='Downloading files'):\n",
    "    url = known_url_dict[key]\n",
    "    response = requests.get(url, stream=True)\n",
    "    \n",
    "    # If the website responds \n",
    "    if response.status_code == 200:\n",
    "        with open(f'datos/zip/{key}.zip', 'wb') as f:\n",
    "            f.write(response.content)\n",
    "\n",
    "        # Try to avoid DDoS detection\n",
    "        time.sleep(1)\n",
    "\n",
    "    else:\n",
    "        print(f'Failed to download {key}')"
   ]
  },
  {
   "cell_type": "code",
   "execution_count": 9,
   "id": "35cf91d9",
   "metadata": {},
   "outputs": [
    {
     "name": "stdout",
     "output_type": "stream",
     "text": [
      "It looks like all the zip files are valid\n"
     ]
    }
   ],
   "source": [
    "# Checking the files\n",
    "error_files = 0\n",
    "zip_dir = 'datos/zip'\n",
    "\n",
    "for file in os.listdir(zip_dir):\n",
    "    zip_path = os.path.join(zip_dir, file)\n",
    "    try:\n",
    "        with zipfile.ZipFile(zip_path, 'r') as z:\n",
    "            z.testzip()\n",
    "    except zipfile.BadZipFile:\n",
    "        error_files += 1\n",
    "        print(f'{file} is not a valid zip file')\n",
    "\n",
    "if error_files == 0:\n",
    "    print('It looks like all the zip files are valid')\n",
    "else:\n",
    "    print(f'Found {error_files} invalid zip file(s)')"
   ]
  },
  {
   "cell_type": "code",
   "execution_count": 10,
   "id": "ef771926",
   "metadata": {},
   "outputs": [],
   "source": [
    "# Create the folders inside the \"datos\" folder\n",
    "if 'individual' not in os.listdir('datos'):\n",
    "    os.mkdir('datos/individual')\n",
    "if 'hogar' not in os.listdir('datos'):\n",
    "    os.mkdir('datos/hogar')"
   ]
  },
  {
   "cell_type": "code",
   "execution_count": 11,
   "id": "d1ca2b79",
   "metadata": {},
   "outputs": [],
   "source": [
    "def extract_rename_and_move(key):\n",
    "    \"\"\"This function extracts the .txt files from the .zip file, renames them \n",
    "    and moves them to the correct folders (datos/individual and datos/hogar). To\n",
    "    simplify the code a bit it creates a folder called extracted, which it uses \n",
    "    to store the extracted files, and it deletes the folder at the end \n",
    "    Args:\n",
    "        key (str): the key corresponding to the quarter. Its format should be\n",
    "        yy-QT, so that, for example, 23-2T is the second quarter of 2023.\n",
    "    \"\"\"    \n",
    "    # Creating the \"extracted\" directory\n",
    "    extr_dir = 'datos/extracted'\n",
    "    if not os.path.exists(extr_dir):\n",
    "        os.makedirs(extr_dir)\n",
    "    \n",
    "    zip_dir = f'datos/zip/{key}.zip'\n",
    "    \n",
    "    # Extracting the files without the folders\n",
    "    with zipfile.ZipFile(zip_dir, 'r') as z:\n",
    "        for i in z.namelist():\n",
    "            filename = os.path.basename(i)\n",
    "            # Skip directories\n",
    "            if not filename:\n",
    "                continue\n",
    "            \n",
    "            source = z.open(i)\n",
    "            target_path = os.path.join(extr_dir, filename)\n",
    "            with open(target_path, \"wb\") as target:\n",
    "                shutil.copyfileobj(source, target)\n",
    "            source.close()\n",
    "    \n",
    "    # Regex patterns to try to avoid problems with filenames\n",
    "    hogar_re = r'[hH][oO][gG][aA][rR]'\n",
    "    individual_re = r'[iI][nN][dD][iI][vV][iI][dD][uU][aA][lL]'\n",
    "    \n",
    "    # Looping over the recently extracted files\n",
    "    for filename in os.listdir(extr_dir):\n",
    "        old_path = os.path.join(extr_dir, filename)\n",
    "        \n",
    "        # Finding the \"hogar\" data\n",
    "        if re.search(hogar_re, filename) and filename.endswith('.txt'):\n",
    "            new_filename = f'{key}-hogar.txt'\n",
    "            new_path = os.path.join('datos', 'hogar', new_filename)\n",
    "            os.rename(old_path, new_path)\n",
    "        \n",
    "        # Finding the \"individual\" data\n",
    "        elif ((re.search(individual_re, filename) or 'personas' in filename) and \n",
    "              filename.endswith('.txt')):\n",
    "            new_filename = f'{key}-individual.txt'\n",
    "            new_path = os.path.join('datos', 'individual', new_filename)\n",
    "            os.rename(old_path, new_path)\n",
    "    \n",
    "    # Deleting the \"extracted\" folder with all of its contents\n",
    "    shutil.rmtree(extr_dir)"
   ]
  },
  {
   "cell_type": "code",
   "execution_count": 12,
   "id": "0ff484e2",
   "metadata": {},
   "outputs": [],
   "source": [
    "# Extracting, renaming and moving the data. Also deletes the zip folder\n",
    "for key, value in known_url_dict.items():\n",
    "    extract_rename_and_move(key)\n",
    "shutil.rmtree('datos/zip')"
   ]
  },
  {
   "cell_type": "code",
   "execution_count": 13,
   "id": "8aef757a",
   "metadata": {},
   "outputs": [
    {
     "name": "stdout",
     "output_type": "stream",
     "text": [
      "All the files for the individual dataset are available.\n",
      "All the files for the hogar dataset are available.\n"
     ]
    }
   ],
   "source": [
    "# Checking if all the files for the individual datasets are there\n",
    "equal_counter = 0\n",
    "for file in os.listdir('datos/individual'):\n",
    "    for key, value in known_url_dict.items():\n",
    "        if file[:5] == key:\n",
    "            equal_counter += 1\n",
    "            continue\n",
    "\n",
    "if equal_counter == len(known_url_dict):\n",
    "    print('All the files for the individual dataset are available.')\n",
    "else:\n",
    "    print(f'There are {len(known_url_dict) - equal_counter} missing files')\n",
    "\n",
    "# Checking if all the files for the hogar dataset are there\n",
    "equal_counter = 0\n",
    "for file in os.listdir('datos/hogar'):\n",
    "    for key, value in known_url_dict.items():\n",
    "        if file[:5] == key:\n",
    "            equal_counter += 1\n",
    "            continue\n",
    "\n",
    "if equal_counter == len(known_url_dict):\n",
    "    print('All the files for the hogar dataset are available.')\n",
    "else:\n",
    "    print(f'There are {len(known_url_dict) - equal_counter} missing files')"
   ]
  },
  {
   "cell_type": "code",
   "execution_count": 14,
   "id": "8c3bbb8d",
   "metadata": {},
   "outputs": [],
   "source": [
    "def read_and_format(path):\n",
    "    df = pl.read_csv(path, separator=';')\n",
    "    # Cast all i64 columns to i32\n",
    "    df = df.with_columns([\n",
    "        df[col].cast(pl.Int32) for col in df.columns\n",
    "        if df[col].dtype == pl.Int64\n",
    "])\n",
    "    # Cast all f64 columns to f32\n",
    "    df = df.with_columns([\n",
    "    df[col].cast(pl.Float32) for col in df.columns\n",
    "    if df[col].dtype == pl.Float64\n",
    "])\n",
    "    return df"
   ]
  },
  {
   "cell_type": "code",
   "execution_count": 17,
   "id": "d92dc1a1",
   "metadata": {},
   "outputs": [
    {
     "data": {
      "text/html": [
       "<div><style>\n",
       ".dataframe > thead > tr,\n",
       ".dataframe > tbody > tr {\n",
       "  text-align: right;\n",
       "  white-space: pre-wrap;\n",
       "}\n",
       "</style>\n",
       "<small>shape: (18_800, 88)</small><table border=\"1\" class=\"dataframe\"><thead><tr><th>CODUSU</th><th>ANO4</th><th>TRIMESTRE</th><th>NRO_HOGAR</th><th>REALIZADA</th><th>REGION</th><th>MAS_500</th><th>AGLOMERADO</th><th>PONDERA</th><th>IV1</th><th>IV1_ESP</th><th>IV2</th><th>IV3</th><th>IV3_ESP</th><th>IV4</th><th>IV5</th><th>IV6</th><th>IV7</th><th>IV7_ESP</th><th>IV8</th><th>IV9</th><th>IV10</th><th>IV11</th><th>IV12_1</th><th>IV12_2</th><th>IV12_3</th><th>II1</th><th>II2</th><th>II3</th><th>II3_1</th><th>II4_1</th><th>II4_2</th><th>II4_3</th><th>II5</th><th>II5_1</th><th>II6</th><th>II6_1</th><th>&hellip;</th><th>V8</th><th>V9</th><th>V10</th><th>V11</th><th>V12</th><th>V13</th><th>V14</th><th>V15</th><th>V16</th><th>V17</th><th>V18</th><th>V19_A</th><th>V19_B</th><th>IX_TOT</th><th>IX_MEN10</th><th>IX_MAYEQ10</th><th>ITF</th><th>DECIFR</th><th>IDECIFR</th><th>RDECIFR</th><th>GDECIFR</th><th>PDECIFR</th><th>ADECIFR</th><th>IPCF</th><th>DECCFR</th><th>IDECCFR</th><th>RDECCFR</th><th>GDECCFR</th><th>PDECCFR</th><th>ADECCFR</th><th>PONDIH</th><th>VII1_1</th><th>VII1_2</th><th>VII2_1</th><th>VII2_2</th><th>VII2_3</th><th>VII2_4</th></tr><tr><td>str</td><td>i32</td><td>i32</td><td>i32</td><td>i32</td><td>i32</td><td>str</td><td>i32</td><td>i32</td><td>i32</td><td>str</td><td>i32</td><td>i32</td><td>str</td><td>i32</td><td>i32</td><td>i32</td><td>i32</td><td>str</td><td>i32</td><td>i32</td><td>i32</td><td>i32</td><td>i32</td><td>i32</td><td>i32</td><td>i32</td><td>i32</td><td>i32</td><td>i32</td><td>i32</td><td>i32</td><td>i32</td><td>i32</td><td>i32</td><td>i32</td><td>i32</td><td>&hellip;</td><td>i32</td><td>i32</td><td>i32</td><td>i32</td><td>i32</td><td>i32</td><td>i32</td><td>i32</td><td>i32</td><td>i32</td><td>i32</td><td>i32</td><td>i32</td><td>i32</td><td>i32</td><td>i32</td><td>i32</td><td>i32</td><td>i32</td><td>i32</td><td>i32</td><td>str</td><td>i32</td><td>str</td><td>i32</td><td>i32</td><td>i32</td><td>i32</td><td>str</td><td>i32</td><td>i32</td><td>i32</td><td>i32</td><td>i32</td><td>i32</td><td>i32</td><td>i32</td></tr></thead><tbody><tr><td>&quot;TQRMNOQPQHJMLSCDEFIAH00487651&quot;</td><td>2016</td><td>3</td><td>1</td><td>1</td><td>43</td><td>&quot;S&quot;</td><td>2</td><td>521</td><td>1</td><td>null</td><td>3</td><td>1</td><td>null</td><td>4</td><td>1</td><td>1</td><td>1</td><td>null</td><td>1</td><td>1</td><td>1</td><td>1</td><td>2</td><td>2</td><td>2</td><td>3</td><td>1</td><td>2</td><td>0</td><td>1</td><td>2</td><td>1</td><td>2</td><td>0</td><td>2</td><td>0</td><td>&hellip;</td><td>2</td><td>2</td><td>2</td><td>2</td><td>2</td><td>1</td><td>2</td><td>1</td><td>2</td><td>2</td><td>2</td><td>2</td><td>2</td><td>2</td><td>0</td><td>2</td><td>13500</td><td>5</td><td>5</td><td>5</td><td>5</td><td>&quot;&nbsp;&nbsp;&quot;</td><td>5</td><td>&quot;6750&quot;</td><td>6</td><td>6</td><td>6</td><td>6</td><td>&quot;&nbsp;&nbsp;&quot;</td><td>5</td><td>822</td><td>2</td><td>0</td><td>1</td><td>0</td><td>0</td><td>0</td></tr><tr><td>&quot;TQRMNOQPSHJMLSCDEFIAH00469127&quot;</td><td>2016</td><td>3</td><td>1</td><td>1</td><td>43</td><td>&quot;S&quot;</td><td>2</td><td>521</td><td>1</td><td>null</td><td>4</td><td>1</td><td>null</td><td>4</td><td>1</td><td>1</td><td>1</td><td>null</td><td>1</td><td>1</td><td>1</td><td>1</td><td>2</td><td>2</td><td>2</td><td>4</td><td>3</td><td>2</td><td>0</td><td>1</td><td>2</td><td>1</td><td>2</td><td>0</td><td>2</td><td>0</td><td>&hellip;</td><td>2</td><td>2</td><td>2</td><td>2</td><td>2</td><td>2</td><td>2</td><td>2</td><td>2</td><td>2</td><td>2</td><td>2</td><td>2</td><td>5</td><td>0</td><td>5</td><td>0</td><td>12</td><td>12</td><td>12</td><td>12</td><td>&quot;&nbsp;&nbsp;&quot;</td><td>12</td><td>&quot;0&quot;</td><td>12</td><td>12</td><td>12</td><td>12</td><td>&quot;&nbsp;&nbsp;&quot;</td><td>12</td><td>0</td><td>2</td><td>0</td><td>98</td><td>0</td><td>0</td><td>0</td></tr><tr><td>&quot;TQRMNOQPUHJMLSCDEFIAH00469128&quot;</td><td>2016</td><td>3</td><td>1</td><td>1</td><td>43</td><td>&quot;S&quot;</td><td>2</td><td>521</td><td>1</td><td>null</td><td>4</td><td>1</td><td>null</td><td>9</td><td>1</td><td>1</td><td>1</td><td>null</td><td>1</td><td>1</td><td>1</td><td>1</td><td>2</td><td>2</td><td>2</td><td>4</td><td>1</td><td>2</td><td>0</td><td>1</td><td>2</td><td>2</td><td>2</td><td>0</td><td>2</td><td>0</td><td>&hellip;</td><td>2</td><td>2</td><td>2</td><td>2</td><td>2</td><td>2</td><td>2</td><td>2</td><td>2</td><td>1</td><td>2</td><td>2</td><td>2</td><td>2</td><td>0</td><td>2</td><td>13750</td><td>5</td><td>5</td><td>5</td><td>5</td><td>&quot;&nbsp;&nbsp;&quot;</td><td>5</td><td>&quot;6875&quot;</td><td>6</td><td>6</td><td>6</td><td>6</td><td>&quot;&nbsp;&nbsp;&quot;</td><td>5</td><td>684</td><td>1</td><td>0</td><td>2</td><td>0</td><td>0</td><td>0</td></tr><tr><td>&quot;TQRMNORUTHJMLSCDEFIAH00469130&quot;</td><td>2016</td><td>3</td><td>1</td><td>1</td><td>43</td><td>&quot;S&quot;</td><td>2</td><td>521</td><td>1</td><td>null</td><td>3</td><td>1</td><td>null</td><td>4</td><td>1</td><td>1</td><td>1</td><td>null</td><td>1</td><td>1</td><td>1</td><td>1</td><td>2</td><td>2</td><td>2</td><td>3</td><td>1</td><td>2</td><td>0</td><td>1</td><td>2</td><td>2</td><td>2</td><td>0</td><td>2</td><td>0</td><td>&hellip;</td><td>2</td><td>2</td><td>2</td><td>2</td><td>2</td><td>2</td><td>2</td><td>2</td><td>1</td><td>2</td><td>2</td><td>2</td><td>2</td><td>2</td><td>0</td><td>2</td><td>22350</td><td>7</td><td>7</td><td>7</td><td>7</td><td>&quot;&nbsp;&nbsp;&quot;</td><td>7</td><td>&quot;11175&quot;</td><td>8</td><td>9</td><td>8</td><td>8</td><td>&quot;&nbsp;&nbsp;&quot;</td><td>8</td><td>897</td><td>1</td><td>0</td><td>98</td><td>0</td><td>0</td><td>0</td></tr><tr><td>&quot;TQRMNOPPVHJOLTCDEFIAH00469154&quot;</td><td>2016</td><td>3</td><td>1</td><td>1</td><td>43</td><td>&quot;S&quot;</td><td>2</td><td>622</td><td>1</td><td>null</td><td>3</td><td>1</td><td>null</td><td>4</td><td>2</td><td>1</td><td>1</td><td>null</td><td>1</td><td>1</td><td>1</td><td>1</td><td>2</td><td>2</td><td>2</td><td>3</td><td>2</td><td>2</td><td>0</td><td>1</td><td>2</td><td>2</td><td>2</td><td>0</td><td>2</td><td>0</td><td>&hellip;</td><td>2</td><td>2</td><td>2</td><td>2</td><td>2</td><td>2</td><td>1</td><td>1</td><td>2</td><td>2</td><td>2</td><td>2</td><td>2</td><td>4</td><td>1</td><td>3</td><td>7500</td><td>2</td><td>2</td><td>2</td><td>2</td><td>&quot;&nbsp;&nbsp;&quot;</td><td>2</td><td>&quot;1875&quot;</td><td>1</td><td>1</td><td>1</td><td>1</td><td>&quot;&nbsp;&nbsp;&quot;</td><td>1</td><td>661</td><td>1</td><td>0</td><td>98</td><td>0</td><td>0</td><td>0</td></tr><tr><td>&hellip;</td><td>&hellip;</td><td>&hellip;</td><td>&hellip;</td><td>&hellip;</td><td>&hellip;</td><td>&hellip;</td><td>&hellip;</td><td>&hellip;</td><td>&hellip;</td><td>&hellip;</td><td>&hellip;</td><td>&hellip;</td><td>&hellip;</td><td>&hellip;</td><td>&hellip;</td><td>&hellip;</td><td>&hellip;</td><td>&hellip;</td><td>&hellip;</td><td>&hellip;</td><td>&hellip;</td><td>&hellip;</td><td>&hellip;</td><td>&hellip;</td><td>&hellip;</td><td>&hellip;</td><td>&hellip;</td><td>&hellip;</td><td>&hellip;</td><td>&hellip;</td><td>&hellip;</td><td>&hellip;</td><td>&hellip;</td><td>&hellip;</td><td>&hellip;</td><td>&hellip;</td><td>&hellip;</td><td>&hellip;</td><td>&hellip;</td><td>&hellip;</td><td>&hellip;</td><td>&hellip;</td><td>&hellip;</td><td>&hellip;</td><td>&hellip;</td><td>&hellip;</td><td>&hellip;</td><td>&hellip;</td><td>&hellip;</td><td>&hellip;</td><td>&hellip;</td><td>&hellip;</td><td>&hellip;</td><td>&hellip;</td><td>&hellip;</td><td>&hellip;</td><td>&hellip;</td><td>&hellip;</td><td>&hellip;</td><td>&hellip;</td><td>&hellip;</td><td>&hellip;</td><td>&hellip;</td><td>&hellip;</td><td>&hellip;</td><td>&hellip;</td><td>&hellip;</td><td>&hellip;</td><td>&hellip;</td><td>&hellip;</td><td>&hellip;</td><td>&hellip;</td><td>&hellip;</td><td>&hellip;</td></tr><tr><td>&quot;TQRMNOTRRHKLKUCDEIMBF00497054&quot;</td><td>2016</td><td>3</td><td>1</td><td>1</td><td>43</td><td>&quot;N&quot;</td><td>36</td><td>141</td><td>1</td><td>null</td><td>2</td><td>1</td><td>null</td><td>1</td><td>1</td><td>1</td><td>1</td><td>null</td><td>1</td><td>1</td><td>1</td><td>1</td><td>2</td><td>2</td><td>2</td><td>2</td><td>2</td><td>2</td><td>0</td><td>1</td><td>2</td><td>1</td><td>2</td><td>0</td><td>2</td><td>0</td><td>&hellip;</td><td>2</td><td>2</td><td>2</td><td>2</td><td>1</td><td>2</td><td>1</td><td>1</td><td>1</td><td>2</td><td>2</td><td>2</td><td>2</td><td>4</td><td>2</td><td>2</td><td>18500</td><td>6</td><td>7</td><td>7</td><td>null</td><td>&quot;07&quot;</td><td>7</td><td>&quot;4625&quot;</td><td>4</td><td>4</td><td>4</td><td>null</td><td>&quot;04&quot;</td><td>4</td><td>210</td><td>2</td><td>0</td><td>1</td><td>0</td><td>0</td><td>0</td></tr><tr><td>&quot;TQRMNOTRSHKLKUCDEIMBF00497055&quot;</td><td>2016</td><td>3</td><td>1</td><td>1</td><td>43</td><td>&quot;N&quot;</td><td>36</td><td>141</td><td>1</td><td>null</td><td>6</td><td>1</td><td>null</td><td>1</td><td>1</td><td>1</td><td>1</td><td>null</td><td>1</td><td>1</td><td>1</td><td>1</td><td>2</td><td>2</td><td>2</td><td>6</td><td>1</td><td>2</td><td>0</td><td>1</td><td>1</td><td>1</td><td>2</td><td>0</td><td>2</td><td>0</td><td>&hellip;</td><td>2</td><td>2</td><td>2</td><td>2</td><td>2</td><td>2</td><td>2</td><td>2</td><td>2</td><td>2</td><td>2</td><td>2</td><td>2</td><td>1</td><td>0</td><td>1</td><td>3000</td><td>1</td><td>1</td><td>1</td><td>null</td><td>&quot;01&quot;</td><td>1</td><td>&quot;3000&quot;</td><td>2</td><td>3</td><td>2</td><td>null</td><td>&quot;03&quot;</td><td>2</td><td>170</td><td>1</td><td>0</td><td>96</td><td>0</td><td>0</td><td>0</td></tr><tr><td>&quot;TQRMNOQSSHKMKRCDEIMBF00497056&quot;</td><td>2016</td><td>3</td><td>1</td><td>1</td><td>43</td><td>&quot;N&quot;</td><td>36</td><td>127</td><td>1</td><td>null</td><td>2</td><td>1</td><td>null</td><td>2</td><td>1</td><td>1</td><td>1</td><td>null</td><td>1</td><td>1</td><td>1</td><td>1</td><td>2</td><td>2</td><td>2</td><td>2</td><td>2</td><td>2</td><td>0</td><td>1</td><td>1</td><td>1</td><td>2</td><td>0</td><td>2</td><td>0</td><td>&hellip;</td><td>2</td><td>2</td><td>2</td><td>2</td><td>2</td><td>2</td><td>2</td><td>2</td><td>1</td><td>2</td><td>2</td><td>2</td><td>2</td><td>5</td><td>2</td><td>3</td><td>0</td><td>12</td><td>12</td><td>12</td><td>null</td><td>&quot;12&quot;</td><td>12</td><td>&quot;0&quot;</td><td>12</td><td>12</td><td>12</td><td>null</td><td>&quot;12&quot;</td><td>12</td><td>0</td><td>1</td><td>2</td><td>3</td><td>0</td><td>0</td><td>0</td></tr><tr><td>&quot;TQRMNOSPYHKLKTCDEIMBF00497057&quot;</td><td>2016</td><td>3</td><td>1</td><td>1</td><td>43</td><td>&quot;N&quot;</td><td>36</td><td>165</td><td>1</td><td>null</td><td>3</td><td>1</td><td>null</td><td>1</td><td>1</td><td>1</td><td>1</td><td>null</td><td>1</td><td>1</td><td>1</td><td>1</td><td>2</td><td>2</td><td>2</td><td>3</td><td>1</td><td>2</td><td>0</td><td>1</td><td>2</td><td>2</td><td>2</td><td>0</td><td>2</td><td>0</td><td>&hellip;</td><td>2</td><td>2</td><td>2</td><td>2</td><td>2</td><td>1</td><td>2</td><td>2</td><td>2</td><td>2</td><td>2</td><td>2</td><td>2</td><td>1</td><td>0</td><td>1</td><td>50000</td><td>10</td><td>10</td><td>10</td><td>null</td><td>&quot;10&quot;</td><td>10</td><td>&quot;50000&quot;</td><td>10</td><td>10</td><td>10</td><td>null</td><td>&quot;10&quot;</td><td>10</td><td>228</td><td>1</td><td>0</td><td>96</td><td>0</td><td>0</td><td>0</td></tr><tr><td>&quot;TQRMNOQPPHMOLLCDEIMBF00497058&quot;</td><td>2016</td><td>3</td><td>1</td><td>1</td><td>43</td><td>&quot;N&quot;</td><td>36</td><td>98</td><td>1</td><td>null</td><td>3</td><td>1</td><td>null</td><td>1</td><td>1</td><td>1</td><td>1</td><td>null</td><td>1</td><td>1</td><td>1</td><td>1</td><td>2</td><td>2</td><td>2</td><td>3</td><td>2</td><td>2</td><td>0</td><td>1</td><td>2</td><td>1</td><td>1</td><td>1</td><td>1</td><td>1</td><td>&hellip;</td><td>2</td><td>2</td><td>2</td><td>2</td><td>2</td><td>2</td><td>2</td><td>2</td><td>2</td><td>2</td><td>2</td><td>2</td><td>2</td><td>4</td><td>0</td><td>4</td><td>8700</td><td>2</td><td>3</td><td>3</td><td>null</td><td>&quot;03&quot;</td><td>3</td><td>&quot;2175&quot;</td><td>2</td><td>2</td><td>2</td><td>null</td><td>&quot;02&quot;</td><td>2</td><td>126</td><td>2</td><td>0</td><td>1</td><td>3</td><td>0</td><td>0</td></tr></tbody></table></div>"
      ],
      "text/plain": [
       "shape: (18_800, 88)\n",
       "┌───────────────────────────┬──────┬───────────┬───────────┬───┬────────┬────────┬────────┬────────┐\n",
       "│ CODUSU                    ┆ ANO4 ┆ TRIMESTRE ┆ NRO_HOGAR ┆ … ┆ VII2_1 ┆ VII2_2 ┆ VII2_3 ┆ VII2_4 │\n",
       "│ ---                       ┆ ---  ┆ ---       ┆ ---       ┆   ┆ ---    ┆ ---    ┆ ---    ┆ ---    │\n",
       "│ str                       ┆ i32  ┆ i32       ┆ i32       ┆   ┆ i32    ┆ i32    ┆ i32    ┆ i32    │\n",
       "╞═══════════════════════════╪══════╪═══════════╪═══════════╪═══╪════════╪════════╪════════╪════════╡\n",
       "│ TQRMNOQPQHJMLSCDEFIAH0048 ┆ 2016 ┆ 3         ┆ 1         ┆ … ┆ 1      ┆ 0      ┆ 0      ┆ 0      │\n",
       "│ 7651                      ┆      ┆           ┆           ┆   ┆        ┆        ┆        ┆        │\n",
       "│ TQRMNOQPSHJMLSCDEFIAH0046 ┆ 2016 ┆ 3         ┆ 1         ┆ … ┆ 98     ┆ 0      ┆ 0      ┆ 0      │\n",
       "│ 9127                      ┆      ┆           ┆           ┆   ┆        ┆        ┆        ┆        │\n",
       "│ TQRMNOQPUHJMLSCDEFIAH0046 ┆ 2016 ┆ 3         ┆ 1         ┆ … ┆ 2      ┆ 0      ┆ 0      ┆ 0      │\n",
       "│ 9128                      ┆      ┆           ┆           ┆   ┆        ┆        ┆        ┆        │\n",
       "│ TQRMNORUTHJMLSCDEFIAH0046 ┆ 2016 ┆ 3         ┆ 1         ┆ … ┆ 98     ┆ 0      ┆ 0      ┆ 0      │\n",
       "│ 9130                      ┆      ┆           ┆           ┆   ┆        ┆        ┆        ┆        │\n",
       "│ TQRMNOPPVHJOLTCDEFIAH0046 ┆ 2016 ┆ 3         ┆ 1         ┆ … ┆ 98     ┆ 0      ┆ 0      ┆ 0      │\n",
       "│ 9154                      ┆      ┆           ┆           ┆   ┆        ┆        ┆        ┆        │\n",
       "│ …                         ┆ …    ┆ …         ┆ …         ┆ … ┆ …      ┆ …      ┆ …      ┆ …      │\n",
       "│ TQRMNOTRRHKLKUCDEIMBF0049 ┆ 2016 ┆ 3         ┆ 1         ┆ … ┆ 1      ┆ 0      ┆ 0      ┆ 0      │\n",
       "│ 7054                      ┆      ┆           ┆           ┆   ┆        ┆        ┆        ┆        │\n",
       "│ TQRMNOTRSHKLKUCDEIMBF0049 ┆ 2016 ┆ 3         ┆ 1         ┆ … ┆ 96     ┆ 0      ┆ 0      ┆ 0      │\n",
       "│ 7055                      ┆      ┆           ┆           ┆   ┆        ┆        ┆        ┆        │\n",
       "│ TQRMNOQSSHKMKRCDEIMBF0049 ┆ 2016 ┆ 3         ┆ 1         ┆ … ┆ 3      ┆ 0      ┆ 0      ┆ 0      │\n",
       "│ 7056                      ┆      ┆           ┆           ┆   ┆        ┆        ┆        ┆        │\n",
       "│ TQRMNOSPYHKLKTCDEIMBF0049 ┆ 2016 ┆ 3         ┆ 1         ┆ … ┆ 96     ┆ 0      ┆ 0      ┆ 0      │\n",
       "│ 7057                      ┆      ┆           ┆           ┆   ┆        ┆        ┆        ┆        │\n",
       "│ TQRMNOQPPHMOLLCDEIMBF0049 ┆ 2016 ┆ 3         ┆ 1         ┆ … ┆ 1      ┆ 3      ┆ 0      ┆ 0      │\n",
       "│ 7058                      ┆      ┆           ┆           ┆   ┆        ┆        ┆        ┆        │\n",
       "└───────────────────────────┴──────┴───────────┴───────────┴───┴────────┴────────┴────────┴────────┘"
      ]
     },
     "execution_count": 17,
     "metadata": {},
     "output_type": "execute_result"
    }
   ],
   "source": [
    "read_and_format('datos/hogar/16-3T-hogar.txt')"
   ]
  },
  {
   "cell_type": "code",
   "execution_count": 20,
   "id": "81d8a7bb",
   "metadata": {},
   "outputs": [
    {
     "name": "stdout",
     "output_type": "stream",
     "text": [
      "16-2T-hogar.txt\n",
      "16-3T-hogar.txt\n",
      "16-4T-hogar.txt\n",
      "17-1T-hogar.txt\n",
      "17-2T-hogar.txt\n",
      "17-3T-hogar.txt\n",
      "17-4T-hogar.txt\n",
      "18-1T-hogar.txt\n",
      "18-2T-hogar.txt\n",
      "18-3T-hogar.txt\n",
      "18-4T-hogar.txt\n"
     ]
    },
    {
     "ename": "InvalidOperationError",
     "evalue": "conversion from `str` to `i32` failed in column 'IDECIFR' for 26 out of 76 values: [\"  \", \"  \", … \"  \"]",
     "output_type": "error",
     "traceback": [
      "\u001b[0;31m---------------------------------------------------------------------------\u001b[0m",
      "\u001b[0;31mInvalidOperationError\u001b[0m                     Traceback (most recent call last)",
      "Cell \u001b[0;32mIn[20], line 16\u001b[0m\n\u001b[1;32m     14\u001b[0m     \u001b[38;5;28;01mfor\u001b[39;00m col_name, col_type \u001b[38;5;129;01min\u001b[39;00m hogar\u001b[38;5;241m.\u001b[39mschema\u001b[38;5;241m.\u001b[39mitems():\n\u001b[1;32m     15\u001b[0m         \u001b[38;5;28;01mif\u001b[39;00m col_name \u001b[38;5;129;01min\u001b[39;00m current_df\u001b[38;5;241m.\u001b[39mschema:\n\u001b[0;32m---> 16\u001b[0m             current_df \u001b[38;5;241m=\u001b[39m \u001b[43mcurrent_df\u001b[49m\u001b[38;5;241;43m.\u001b[39;49m\u001b[43mwith_columns\u001b[49m\u001b[43m(\u001b[49m\u001b[43mpl\u001b[49m\u001b[38;5;241;43m.\u001b[39;49m\u001b[43mcol\u001b[49m\u001b[43m(\u001b[49m\u001b[43mcol_name\u001b[49m\u001b[43m)\u001b[49m\u001b[38;5;241;43m.\u001b[39;49m\u001b[43mcast\u001b[49m\u001b[43m(\u001b[49m\u001b[43mcol_type\u001b[49m\u001b[43m)\u001b[49m\u001b[43m)\u001b[49m\n\u001b[1;32m     17\u001b[0m     hogar \u001b[38;5;241m=\u001b[39m pl\u001b[38;5;241m.\u001b[39mconcat([hogar, current_df])\n\u001b[1;32m     19\u001b[0m \u001b[38;5;28mprint\u001b[39m(file)\n",
      "File \u001b[0;32m~/miniconda3/envs/eph/lib/python3.13/site-packages/polars/dataframe/frame.py:9211\u001b[0m, in \u001b[0;36mDataFrame.with_columns\u001b[0;34m(self, *exprs, **named_exprs)\u001b[0m\n\u001b[1;32m   9065\u001b[0m \u001b[38;5;28;01mdef\u001b[39;00m \u001b[38;5;21mwith_columns\u001b[39m(\n\u001b[1;32m   9066\u001b[0m     \u001b[38;5;28mself\u001b[39m,\n\u001b[1;32m   9067\u001b[0m     \u001b[38;5;241m*\u001b[39mexprs: IntoExpr \u001b[38;5;241m|\u001b[39m Iterable[IntoExpr],\n\u001b[1;32m   9068\u001b[0m     \u001b[38;5;241m*\u001b[39m\u001b[38;5;241m*\u001b[39mnamed_exprs: IntoExpr,\n\u001b[1;32m   9069\u001b[0m ) \u001b[38;5;241m-\u001b[39m\u001b[38;5;241m>\u001b[39m DataFrame:\n\u001b[1;32m   9070\u001b[0m \u001b[38;5;250m    \u001b[39m\u001b[38;5;124;03m\"\"\"\u001b[39;00m\n\u001b[1;32m   9071\u001b[0m \u001b[38;5;124;03m    Add columns to this DataFrame.\u001b[39;00m\n\u001b[1;32m   9072\u001b[0m \n\u001b[0;32m   (...)\u001b[0m\n\u001b[1;32m   9209\u001b[0m \u001b[38;5;124;03m    └─────┴──────┴─────────────┘\u001b[39;00m\n\u001b[1;32m   9210\u001b[0m \u001b[38;5;124;03m    \"\"\"\u001b[39;00m\n\u001b[0;32m-> 9211\u001b[0m     \u001b[38;5;28;01mreturn\u001b[39;00m \u001b[38;5;28;43mself\u001b[39;49m\u001b[38;5;241;43m.\u001b[39;49m\u001b[43mlazy\u001b[49m\u001b[43m(\u001b[49m\u001b[43m)\u001b[49m\u001b[38;5;241;43m.\u001b[39;49m\u001b[43mwith_columns\u001b[49m\u001b[43m(\u001b[49m\u001b[38;5;241;43m*\u001b[39;49m\u001b[43mexprs\u001b[49m\u001b[43m,\u001b[49m\u001b[43m \u001b[49m\u001b[38;5;241;43m*\u001b[39;49m\u001b[38;5;241;43m*\u001b[39;49m\u001b[43mnamed_exprs\u001b[49m\u001b[43m)\u001b[49m\u001b[38;5;241;43m.\u001b[39;49m\u001b[43mcollect\u001b[49m\u001b[43m(\u001b[49m\u001b[43m_eager\u001b[49m\u001b[38;5;241;43m=\u001b[39;49m\u001b[38;5;28;43;01mTrue\u001b[39;49;00m\u001b[43m)\u001b[49m\n",
      "File \u001b[0;32m~/miniconda3/envs/eph/lib/python3.13/site-packages/polars/lazyframe/frame.py:2029\u001b[0m, in \u001b[0;36mLazyFrame.collect\u001b[0;34m(self, type_coercion, predicate_pushdown, projection_pushdown, simplify_expression, slice_pushdown, comm_subplan_elim, comm_subexpr_elim, cluster_with_columns, collapse_joins, no_optimization, streaming, engine, background, _eager, **_kwargs)\u001b[0m\n\u001b[1;32m   2027\u001b[0m \u001b[38;5;66;03m# Only for testing purposes\u001b[39;00m\n\u001b[1;32m   2028\u001b[0m callback \u001b[38;5;241m=\u001b[39m _kwargs\u001b[38;5;241m.\u001b[39mget(\u001b[38;5;124m\"\u001b[39m\u001b[38;5;124mpost_opt_callback\u001b[39m\u001b[38;5;124m\"\u001b[39m, callback)\n\u001b[0;32m-> 2029\u001b[0m \u001b[38;5;28;01mreturn\u001b[39;00m wrap_df(\u001b[43mldf\u001b[49m\u001b[38;5;241;43m.\u001b[39;49m\u001b[43mcollect\u001b[49m\u001b[43m(\u001b[49m\u001b[43mcallback\u001b[49m\u001b[43m)\u001b[49m)\n",
      "\u001b[0;31mInvalidOperationError\u001b[0m: conversion from `str` to `i32` failed in column 'IDECIFR' for 26 out of 76 values: [\"  \", \"  \", … \"  \"]"
     ]
    }
   ],
   "source": [
    "hogar_file_list = sorted(os.listdir('datos/hogar'))\n",
    "\n",
    "for i in enumerate(hogar_file_list):\n",
    "    index = i[0]\n",
    "    file = i[1]\n",
    "    path_str = 'datos/hogar/' + file\n",
    "    \n",
    "    current_df = read_and_format(path_str)\n",
    "    \n",
    "    if index == 0:\n",
    "        hogar = current_df\n",
    "    else:\n",
    "        # Ensure column schemas match\n",
    "        for col_name, col_type in hogar.schema.items():\n",
    "            if col_name in current_df.schema:\n",
    "                current_df = current_df.with_columns(pl.col(col_name).cast(col_type))\n",
    "        hogar = pl.concat([hogar, current_df])\n",
    "    \n",
    "    print(file)\n",
    "\n",
    "hogar\n"
   ]
  },
  {
   "cell_type": "markdown",
   "id": "fec8e57d",
   "metadata": {},
   "source": [
    "## Leyendo los datos a una tabla\n",
    "En esta sección se leen los archivos para crear una tabla para los datos de hogares y otra para los datos de individuos.\n",
    "Dado que la cantidad de datos puede causar que las computadoras se queden sin memoria (sobre todo si la PC tiene 8gb de RAM o menos) se recomienda usar las variables hogar_cols_to_keep y ind_cols_to_keep para listar las variables que se necesitan en los datasets de hogares e individuos, respectivamente, y eliminar las restantes.   \n",
    "Los nombres de las variables se pueden conseguir en el diseño de registro de la EPH, aunque en algunos casos los nombres de las variables pueden tener pequeños errores (por ejemplo, en el registro existe una variable llamada \"IX_Tot\", pero su nombre en los archivos es \"IX_TOT\").\n",
    "Al final de esta sección se guardan los archivos hogar.csv e individuos.csv en la carpeta \"datos\", ambos conteniendo los datos de sus respectivos datasets.   \n",
    "En este caso, a modo de ejemplo, se eligen las variables \"CODUSU\", \"NRO_HOGAR\", \"IX_TOT\", \"DECIFR\" y\"DECCFR\" en el dataset de hogares y \"CODUSU\", \"NRO_HOGAR\" y \"DECINDR\" en dataset de individuos. El movtivo por el cual se eligen estas variables de detalla en la próxima sección."
   ]
  },
  {
   "cell_type": "code",
   "execution_count": 17,
   "id": "6c578c2a",
   "metadata": {},
   "outputs": [],
   "source": [
    "def read_data(key, hogar_or_individual):\n",
    "    \"\"\"This function reads a txt file as formatted by INDEC and returns a pandas\n",
    "    DataFrame with the data and a few small optimizations to save memory. It is\n",
    "    recommended to use cols_to_keep to reduce memory footprint.\n",
    "    Args:\n",
    "        key (str): the key corresponding to the quarter. It's format should be\n",
    "        yy-QT, so that, for example, 23-2T is the second quarter of 2023.\n",
    "        hogar_or_individual (str): should be either \"hogar\" or \"individual\".\n",
    "        cols_to_keep (list, optional): a list of columns to keep, and the rest\n",
    "        are discarded. If None, all the columns are kept. Defaults to None.\n",
    "\n",
    "    Returns:\n",
    "        pandas.DataFrame: a DataFrame containing the data from the .txt file.\n",
    "    \"\"\"   \n",
    "    # Reading the data\n",
    "    df = pd.read_csv(f'datos/{hogar_or_individual}/{key}-' +\n",
    "                     f'{hogar_or_individual}.txt', sep=';',\n",
    "                     low_memory=False)\n",
    "    \n",
    "    # Converting int64 to int16 to save memory\n",
    "    d = dict.fromkeys(df.select_dtypes('int').columns, 'int16')\n",
    "    df = df.astype(d).copy()\n",
    "\n",
    "    # Converting fp64 to fp16 to save memory\n",
    "    d = dict.fromkeys(df.select_dtypes('float').columns, 'float16')\n",
    "    df = df.astype(d).copy()\n",
    "\n",
    "\n",
    "    # Converting the date data to quarters\n",
    "    date_df = df[['ANO4', 'TRIMESTRE']].astype(str).copy()\n",
    "    quarter = pd.to_datetime(date_df['ANO4'] + 'Q' + date_df['TRIMESTRE'])\n",
    "    quarter = quarter.dt.to_period('Q')\n",
    "    df['quarter'] = quarter.copy()\n",
    "    df = df.drop(columns=['ANO4', 'TRIMESTRE'])\n",
    "\n",
    "    return df"
   ]
  }
 ],
 "metadata": {
  "kernelspec": {
   "display_name": "eph",
   "language": "python",
   "name": "python3"
  },
  "language_info": {
   "codemirror_mode": {
    "name": "ipython",
    "version": 3
   },
   "file_extension": ".py",
   "mimetype": "text/x-python",
   "name": "python",
   "nbconvert_exporter": "python",
   "pygments_lexer": "ipython3",
   "version": "3.13.0"
  }
 },
 "nbformat": 4,
 "nbformat_minor": 5
}
