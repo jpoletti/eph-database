{
 "cells": [
  {
   "cell_type": "code",
   "execution_count": 1,
   "id": "fb5c04ba-de47-4eba-9e09-7081d3bd2387",
   "metadata": {
    "tags": []
   },
   "outputs": [],
   "source": [
    "import os\n",
    "from download_data_functions import *\n",
    "from common_functions import save_dataframe_as_zip"
   ]
  },
  {
   "cell_type": "code",
   "execution_count": 2,
   "id": "4f17771e",
   "metadata": {},
   "outputs": [
    {
     "data": {
      "text/plain": [
       "'24-1T'"
      ]
     },
     "execution_count": 2,
     "metadata": {},
     "output_type": "execute_result"
    }
   ],
   "source": [
    "with open('last_known_quarter.txt') as f:\n",
    "    last_known_quarter = f.read()\n",
    "\n",
    "last_known_quarter"
   ]
  },
  {
   "cell_type": "code",
   "execution_count": 3,
   "id": "74f1d57e",
   "metadata": {},
   "outputs": [
    {
     "data": {
      "text/plain": [
       "['16-2T',\n",
       " '16-3T',\n",
       " '16-4T',\n",
       " '17-1T',\n",
       " '17-2T',\n",
       " '17-3T',\n",
       " '17-4T',\n",
       " '18-1T',\n",
       " '18-2T',\n",
       " '18-3T',\n",
       " '18-4T',\n",
       " '19-1T',\n",
       " '19-2T',\n",
       " '19-3T',\n",
       " '19-4T',\n",
       " '20-1T',\n",
       " '20-2T',\n",
       " '20-3T',\n",
       " '20-4T',\n",
       " '21-1T',\n",
       " '21-2T',\n",
       " '21-3T',\n",
       " '21-4T',\n",
       " '22-1T',\n",
       " '22-2T',\n",
       " '22-3T',\n",
       " '22-4T',\n",
       " '23-1T',\n",
       " '23-2T',\n",
       " '23-3T',\n",
       " '23-4T',\n",
       " '24-1T']"
      ]
     },
     "execution_count": 3,
     "metadata": {},
     "output_type": "execute_result"
    }
   ],
   "source": [
    "key_list = create_key_list(last_quarter=last_known_quarter)\n",
    "key_list"
   ]
  },
  {
   "cell_type": "code",
   "execution_count": 4,
   "id": "302d9ea7",
   "metadata": {},
   "outputs": [
    {
     "data": {
      "text/plain": [
       "['https://www.indec.gob.ar/ftp/cuadros/menusuperior/eph/EPH_usu_2doTrim_2016_txt.zip',\n",
       " 'https://www.indec.gob.ar/ftp/cuadros/menusuperior/eph/EPH_usu_3erTrim_2016_txt.zip',\n",
       " 'https://www.indec.gob.ar/ftp/cuadros/menusuperior/eph/EPH_usu_4toTrim_2016_txt.zip',\n",
       " 'https://www.indec.gob.ar/ftp/cuadros/menusuperior/eph/EPH_usu_1er_Trim_2017_txt.zip',\n",
       " 'https://www.indec.gob.ar/ftp/cuadros/menusuperior/eph/EPH_usu_2_Trim_2017_txt.zip',\n",
       " 'https://www.indec.gob.ar/ftp/cuadros/menusuperior/eph/EPH_usu_3_Trim_2017_txt.zip',\n",
       " 'https://www.indec.gob.ar/ftp/cuadros/menusuperior/eph/EPH_usu_4_Trim_2017_txt.zip',\n",
       " 'https://www.indec.gob.ar/ftp/cuadros/menusuperior/eph/EPH_usu_1_Trim_2018_txt.zip',\n",
       " 'https://www.indec.gob.ar/ftp/cuadros/menusuperior/eph/EPH_usu_2_Trim_2018_txt.zip',\n",
       " 'https://www.indec.gob.ar/ftp/cuadros/menusuperior/eph/EPH_usu_3_Trim_2018_txt.zip',\n",
       " 'https://www.indec.gob.ar/ftp/cuadros/menusuperior/eph/EPH_usu_4_Trim_2018_txt.zip',\n",
       " 'https://www.indec.gob.ar/ftp/cuadros/menusuperior/eph/EPH_usu_1_Trim_2019_txt.zip',\n",
       " 'https://www.indec.gob.ar/ftp/cuadros/menusuperior/eph/EPH_usu_2_Trim_2019_txt.zip',\n",
       " 'https://www.indec.gob.ar/ftp/cuadros/menusuperior/eph/EPH_usu_3_Trim_2019_txt.zip',\n",
       " 'https://www.indec.gob.ar/ftp/cuadros/menusuperior/eph/EPH_usu_4_Trim_2019_txt.zip',\n",
       " 'https://www.indec.gob.ar/ftp/cuadros/menusuperior/eph/EPH_usu_1_Trim_2020_txt.zip',\n",
       " 'https://www.indec.gob.ar/ftp/cuadros/menusuperior/eph/EPH_usu_2_Trim_2020_txt.zip',\n",
       " 'https://www.indec.gob.ar/ftp/cuadros/menusuperior/eph/EPH_usu_3_Trim_2020_txt.zip',\n",
       " 'https://www.indec.gob.ar/ftp/cuadros/menusuperior/eph/EPH_usu_4_Trim_2020_txt.zip',\n",
       " 'https://www.indec.gob.ar/ftp/cuadros/menusuperior/eph/EPH_usu_1_Trim_2021_txt.zip',\n",
       " 'https://www.indec.gob.ar/ftp/cuadros/menusuperior/eph/EPH_usu_2_Trim_2021_txt.zip',\n",
       " 'https://www.indec.gob.ar/ftp/cuadros/menusuperior/eph/EPH_usu_3_Trim_2021_txt.zip',\n",
       " 'https://www.indec.gob.ar/ftp/cuadros/menusuperior/eph/EPH_usu_4_Trim_2021_txt.zip',\n",
       " 'https://www.indec.gob.ar/ftp/cuadros/menusuperior/eph/EPH_usu_1_Trim_2022_txt.zip',\n",
       " 'https://www.indec.gob.ar/ftp/cuadros/menusuperior/eph/EPH_usu_2_Trim_2022_txt.zip',\n",
       " 'https://www.indec.gob.ar/ftp/cuadros/menusuperior/eph/EPH_usu_3_Trim_2022_txt.zip',\n",
       " 'https://www.indec.gob.ar/ftp/cuadros/menusuperior/eph/EPH_usu_4_Trim_2022_txt.zip',\n",
       " 'https://www.indec.gob.ar/ftp/cuadros/menusuperior/eph/EPH_usu_1_Trim_2023_txt.zip',\n",
       " 'https://www.indec.gob.ar/ftp/cuadros/menusuperior/eph/EPH_usu_2_Trim_2023_txt.zip',\n",
       " 'https://www.indec.gob.ar/ftp/cuadros/menusuperior/eph/EPH_usu_3_Trim_2023_txt.zip',\n",
       " 'https://www.indec.gob.ar/ftp/cuadros/menusuperior/eph/EPH_usu_4_Trim_2023_txt.zip',\n",
       " 'https://www.indec.gob.ar/ftp/cuadros/menusuperior/eph/EPH_usu_1_Trim_2024_txt.zip']"
      ]
     },
     "execution_count": 4,
     "metadata": {},
     "output_type": "execute_result"
    }
   ],
   "source": [
    "url_list = create_url_list(key_list)\n",
    "url_list"
   ]
  },
  {
   "cell_type": "code",
   "execution_count": 5,
   "id": "81c861ef",
   "metadata": {},
   "outputs": [
    {
     "data": {
      "text/plain": [
       "{'16-2T': 'https://www.indec.gob.ar/ftp/cuadros/menusuperior/eph/EPH_usu_2doTrim_2016_txt.zip',\n",
       " '16-3T': 'https://www.indec.gob.ar/ftp/cuadros/menusuperior/eph/EPH_usu_3erTrim_2016_txt.zip',\n",
       " '16-4T': 'https://www.indec.gob.ar/ftp/cuadros/menusuperior/eph/EPH_usu_4toTrim_2016_txt.zip',\n",
       " '17-1T': 'https://www.indec.gob.ar/ftp/cuadros/menusuperior/eph/EPH_usu_1er_Trim_2017_txt.zip',\n",
       " '17-2T': 'https://www.indec.gob.ar/ftp/cuadros/menusuperior/eph/EPH_usu_2_Trim_2017_txt.zip',\n",
       " '17-3T': 'https://www.indec.gob.ar/ftp/cuadros/menusuperior/eph/EPH_usu_3_Trim_2017_txt.zip',\n",
       " '17-4T': 'https://www.indec.gob.ar/ftp/cuadros/menusuperior/eph/EPH_usu_4_Trim_2017_txt.zip',\n",
       " '18-1T': 'https://www.indec.gob.ar/ftp/cuadros/menusuperior/eph/EPH_usu_1_Trim_2018_txt.zip',\n",
       " '18-2T': 'https://www.indec.gob.ar/ftp/cuadros/menusuperior/eph/EPH_usu_2_Trim_2018_txt.zip',\n",
       " '18-3T': 'https://www.indec.gob.ar/ftp/cuadros/menusuperior/eph/EPH_usu_3_Trim_2018_txt.zip',\n",
       " '18-4T': 'https://www.indec.gob.ar/ftp/cuadros/menusuperior/eph/EPH_usu_4_Trim_2018_txt.zip',\n",
       " '19-1T': 'https://www.indec.gob.ar/ftp/cuadros/menusuperior/eph/EPH_usu_1_Trim_2019_txt.zip',\n",
       " '19-2T': 'https://www.indec.gob.ar/ftp/cuadros/menusuperior/eph/EPH_usu_2_Trim_2019_txt.zip',\n",
       " '19-3T': 'https://www.indec.gob.ar/ftp/cuadros/menusuperior/eph/EPH_usu_3_Trim_2019_txt.zip',\n",
       " '19-4T': 'https://www.indec.gob.ar/ftp/cuadros/menusuperior/eph/EPH_usu_4_Trim_2019_txt.zip',\n",
       " '20-1T': 'https://www.indec.gob.ar/ftp/cuadros/menusuperior/eph/EPH_usu_1_Trim_2020_txt.zip',\n",
       " '20-2T': 'https://www.indec.gob.ar/ftp/cuadros/menusuperior/eph/EPH_usu_2_Trim_2020_txt.zip',\n",
       " '20-3T': 'https://www.indec.gob.ar/ftp/cuadros/menusuperior/eph/EPH_usu_3_Trim_2020_txt.zip',\n",
       " '20-4T': 'https://www.indec.gob.ar/ftp/cuadros/menusuperior/eph/EPH_usu_4_Trim_2020_txt.zip',\n",
       " '21-1T': 'https://www.indec.gob.ar/ftp/cuadros/menusuperior/eph/EPH_usu_1_Trim_2021_txt.zip',\n",
       " '21-2T': 'https://www.indec.gob.ar/ftp/cuadros/menusuperior/eph/EPH_usu_2_Trim_2021_txt.zip',\n",
       " '21-3T': 'https://www.indec.gob.ar/ftp/cuadros/menusuperior/eph/EPH_usu_3_Trim_2021_txt.zip',\n",
       " '21-4T': 'https://www.indec.gob.ar/ftp/cuadros/menusuperior/eph/EPH_usu_4_Trim_2021_txt.zip',\n",
       " '22-1T': 'https://www.indec.gob.ar/ftp/cuadros/menusuperior/eph/EPH_usu_1_Trim_2022_txt.zip',\n",
       " '22-2T': 'https://www.indec.gob.ar/ftp/cuadros/menusuperior/eph/EPH_usu_2_Trim_2022_txt.zip',\n",
       " '22-3T': 'https://www.indec.gob.ar/ftp/cuadros/menusuperior/eph/EPH_usu_3_Trim_2022_txt.zip',\n",
       " '22-4T': 'https://www.indec.gob.ar/ftp/cuadros/menusuperior/eph/EPH_usu_4_Trim_2022_txt.zip',\n",
       " '23-1T': 'https://www.indec.gob.ar/ftp/cuadros/menusuperior/eph/EPH_usu_1_Trim_2023_txt.zip',\n",
       " '23-2T': 'https://www.indec.gob.ar/ftp/cuadros/menusuperior/eph/EPH_usu_2_Trim_2023_txt.zip',\n",
       " '23-3T': 'https://www.indec.gob.ar/ftp/cuadros/menusuperior/eph/EPH_usu_3_Trim_2023_txt.zip',\n",
       " '23-4T': 'https://www.indec.gob.ar/ftp/cuadros/menusuperior/eph/EPH_usu_4_Trim_2023_txt.zip',\n",
       " '24-1T': 'https://www.indec.gob.ar/ftp/cuadros/menusuperior/eph/EPH_usu_1_Trim_2024_txt.zip'}"
      ]
     },
     "execution_count": 5,
     "metadata": {},
     "output_type": "execute_result"
    }
   ],
   "source": [
    "url_dict = create_known_urls(last_known_quarter)\n",
    "url_dict"
   ]
  },
  {
   "cell_type": "code",
   "execution_count": 6,
   "id": "3506cc6c",
   "metadata": {},
   "outputs": [
    {
     "name": "stderr",
     "output_type": "stream",
     "text": [
      "Downloading files: 100%|██████████| 32/32 [01:14<00:00,  2.32s/it]\n"
     ]
    }
   ],
   "source": [
    "create_folder_and_download(url_dict)"
   ]
  },
  {
   "cell_type": "code",
   "execution_count": 7,
   "id": "35cf91d9",
   "metadata": {},
   "outputs": [
    {
     "name": "stdout",
     "output_type": "stream",
     "text": [
      "It looks like all the zip files are valid\n"
     ]
    }
   ],
   "source": [
    "check_zip_files()"
   ]
  },
  {
   "cell_type": "code",
   "execution_count": 8,
   "id": "0ff484e2",
   "metadata": {},
   "outputs": [],
   "source": [
    "# Extracting, renaming and moving the data. Also deletes the zip folder\n",
    "extract_all_and_remove_folder(url_dict)"
   ]
  },
  {
   "cell_type": "code",
   "execution_count": 9,
   "id": "2b59d549",
   "metadata": {},
   "outputs": [
    {
     "name": "stdout",
     "output_type": "stream",
     "text": [
      "All the files for the individual dataset are available.\n",
      "All the files for the hogar dataset are available.\n"
     ]
    }
   ],
   "source": [
    "check_file_existence(url_dict)"
   ]
  },
  {
   "cell_type": "code",
   "execution_count": 10,
   "id": "f449880f",
   "metadata": {},
   "outputs": [
    {
     "name": "stdout",
     "output_type": "stream",
     "text": [
      "Processing file: data/hogar/16-2T-hogar.txt\n",
      "Processing file: data/hogar/16-3T-hogar.txt\n",
      "Processing file: data/hogar/16-4T-hogar.txt\n",
      "Processing file: data/hogar/17-1T-hogar.txt\n",
      "Processing file: data/hogar/17-2T-hogar.txt\n",
      "Processing file: data/hogar/17-3T-hogar.txt\n",
      "Processing file: data/hogar/17-4T-hogar.txt\n",
      "Processing file: data/hogar/18-1T-hogar.txt\n",
      "Processing file: data/hogar/18-2T-hogar.txt\n",
      "Processing file: data/hogar/18-3T-hogar.txt\n",
      "Processing file: data/hogar/18-4T-hogar.txt\n",
      "Processing file: data/hogar/19-1T-hogar.txt\n",
      "Processing file: data/hogar/19-2T-hogar.txt\n",
      "Processing file: data/hogar/19-3T-hogar.txt\n",
      "Processing file: data/hogar/19-4T-hogar.txt\n",
      "Processing file: data/hogar/20-1T-hogar.txt\n",
      "Processing file: data/hogar/20-2T-hogar.txt\n",
      "Processing file: data/hogar/20-3T-hogar.txt\n",
      "Processing file: data/hogar/20-4T-hogar.txt\n",
      "Processing file: data/hogar/21-1T-hogar.txt\n",
      "Processing file: data/hogar/21-2T-hogar.txt\n",
      "Processing file: data/hogar/21-3T-hogar.txt\n",
      "Processing file: data/hogar/21-4T-hogar.txt\n",
      "Processing file: data/hogar/22-1T-hogar.txt\n",
      "Processing file: data/hogar/22-2T-hogar.txt\n",
      "Processing file: data/hogar/22-3T-hogar.txt\n",
      "Processing file: data/hogar/22-4T-hogar.txt\n",
      "Processing file: data/hogar/23-1T-hogar.txt\n",
      "Processing file: data/hogar/23-2T-hogar.txt\n",
      "Processing file: data/hogar/23-3T-hogar.txt\n",
      "Processing file: data/hogar/23-4T-hogar.txt\n",
      "Processing file: data/hogar/24-1T-hogar.txt\n"
     ]
    },
    {
     "data": {
      "text/html": [
       "<div><style>\n",
       ".dataframe > thead > tr,\n",
       ".dataframe > tbody > tr {\n",
       "  text-align: right;\n",
       "  white-space: pre-wrap;\n",
       "}\n",
       "</style>\n",
       "<small>shape: (553_388, 88)</small><table border=\"1\" class=\"dataframe\"><thead><tr><th>CODUSU</th><th>ANO4</th><th>TRIMESTRE</th><th>NRO_HOGAR</th><th>REALIZADA</th><th>REGION</th><th>MAS_500</th><th>AGLOMERADO</th><th>PONDERA</th><th>IV1</th><th>IV1_ESP</th><th>IV2</th><th>IV3</th><th>IV3_ESP</th><th>IV4</th><th>IV5</th><th>IV6</th><th>IV7</th><th>IV7_ESP</th><th>IV8</th><th>IV9</th><th>IV10</th><th>IV11</th><th>IV12_1</th><th>IV12_2</th><th>IV12_3</th><th>II1</th><th>II2</th><th>II3</th><th>II3_1</th><th>II4_1</th><th>II4_2</th><th>II4_3</th><th>II5</th><th>II5_1</th><th>II6</th><th>II6_1</th><th>&hellip;</th><th>V8</th><th>V9</th><th>V10</th><th>V11</th><th>V12</th><th>V13</th><th>V14</th><th>V15</th><th>V16</th><th>V17</th><th>V18</th><th>V19_A</th><th>V19_B</th><th>IX_TOT</th><th>IX_MEN10</th><th>IX_MAYEQ10</th><th>ITF</th><th>DECIFR</th><th>IDECIFR</th><th>RDECIFR</th><th>GDECIFR</th><th>PDECIFR</th><th>ADECIFR</th><th>IPCF</th><th>DECCFR</th><th>IDECCFR</th><th>RDECCFR</th><th>GDECCFR</th><th>PDECCFR</th><th>ADECCFR</th><th>PONDIH</th><th>VII1_1</th><th>VII1_2</th><th>VII2_1</th><th>VII2_2</th><th>VII2_3</th><th>VII2_4</th></tr><tr><td>str</td><td>i32</td><td>i32</td><td>i32</td><td>i32</td><td>i32</td><td>str</td><td>i32</td><td>i32</td><td>i32</td><td>str</td><td>i32</td><td>i32</td><td>str</td><td>i32</td><td>i32</td><td>i32</td><td>i32</td><td>str</td><td>i32</td><td>i32</td><td>i32</td><td>i32</td><td>i32</td><td>i32</td><td>i32</td><td>i32</td><td>i32</td><td>i32</td><td>i32</td><td>i32</td><td>i32</td><td>i32</td><td>i32</td><td>i32</td><td>i32</td><td>i32</td><td>&hellip;</td><td>i32</td><td>i32</td><td>i32</td><td>i32</td><td>i32</td><td>i32</td><td>i32</td><td>i32</td><td>i32</td><td>i32</td><td>i32</td><td>i32</td><td>i32</td><td>i32</td><td>i32</td><td>i32</td><td>i32</td><td>i32</td><td>str</td><td>i32</td><td>str</td><td>str</td><td>i32</td><td>f32</td><td>i32</td><td>str</td><td>i32</td><td>str</td><td>str</td><td>i32</td><td>i32</td><td>i32</td><td>i32</td><td>i32</td><td>i32</td><td>i32</td><td>i32</td></tr></thead><tbody><tr><td>&quot;TQRMNOQUXHKOKMCDEGKDB00475140&quot;</td><td>2016</td><td>2</td><td>1</td><td>1</td><td>43</td><td>&quot;N&quot;</td><td>14</td><td>77</td><td>1</td><td>null</td><td>3</td><td>1</td><td>null</td><td>4</td><td>1</td><td>1</td><td>1</td><td>null</td><td>1</td><td>1</td><td>1</td><td>1</td><td>2</td><td>2</td><td>2</td><td>3</td><td>2</td><td>1</td><td>1</td><td>1</td><td>1</td><td>1</td><td>2</td><td>0</td><td>2</td><td>0</td><td>&hellip;</td><td>2</td><td>2</td><td>2</td><td>2</td><td>2</td><td>2</td><td>2</td><td>2</td><td>1</td><td>2</td><td>2</td><td>2</td><td>2</td><td>4</td><td>0</td><td>4</td><td>0</td><td>12</td><td>&quot;12&quot;</td><td>12</td><td>&quot;&nbsp;&nbsp;&quot;</td><td>&quot;12&quot;</td><td>12</td><td>0.0</td><td>12</td><td>&quot;12&quot;</td><td>12</td><td>&quot;&nbsp;&nbsp;&quot;</td><td>&quot;12&quot;</td><td>12</td><td>0</td><td>2</td><td>0</td><td>98</td><td>0</td><td>0</td><td>0</td></tr><tr><td>&quot;TQRMNOQQYHMMKTCDEGKDB00475009&quot;</td><td>2016</td><td>2</td><td>1</td><td>1</td><td>43</td><td>&quot;N&quot;</td><td>14</td><td>66</td><td>1</td><td>null</td><td>3</td><td>1</td><td>null</td><td>4</td><td>1</td><td>1</td><td>1</td><td>null</td><td>1</td><td>1</td><td>1</td><td>1</td><td>2</td><td>2</td><td>2</td><td>3</td><td>2</td><td>2</td><td>0</td><td>1</td><td>2</td><td>1</td><td>2</td><td>0</td><td>2</td><td>0</td><td>&hellip;</td><td>2</td><td>2</td><td>2</td><td>2</td><td>2</td><td>1</td><td>2</td><td>2</td><td>1</td><td>2</td><td>2</td><td>2</td><td>2</td><td>3</td><td>0</td><td>3</td><td>19000</td><td>7</td><td>&quot;07&quot;</td><td>7</td><td>&quot;&nbsp;&nbsp;&quot;</td><td>&quot;07&quot;</td><td>8</td><td>6333.330078</td><td>6</td><td>&quot;07&quot;</td><td>6</td><td>&quot;&nbsp;&nbsp;&quot;</td><td>&quot;07&quot;</td><td>7</td><td>79</td><td>2</td><td>0</td><td>98</td><td>0</td><td>0</td><td>0</td></tr><tr><td>&quot;TQRMNORVUHJMKSCDEGKDB00475326&quot;</td><td>2016</td><td>2</td><td>1</td><td>1</td><td>43</td><td>&quot;N&quot;</td><td>14</td><td>59</td><td>1</td><td>null</td><td>2</td><td>1</td><td>null</td><td>4</td><td>1</td><td>1</td><td>1</td><td>null</td><td>1</td><td>1</td><td>1</td><td>1</td><td>2</td><td>2</td><td>2</td><td>2</td><td>1</td><td>2</td><td>0</td><td>1</td><td>1</td><td>2</td><td>2</td><td>0</td><td>2</td><td>0</td><td>&hellip;</td><td>2</td><td>2</td><td>2</td><td>2</td><td>1</td><td>2</td><td>2</td><td>2</td><td>2</td><td>2</td><td>2</td><td>2</td><td>2</td><td>2</td><td>0</td><td>2</td><td>13800</td><td>5</td><td>&quot;06&quot;</td><td>6</td><td>&quot;&nbsp;&nbsp;&quot;</td><td>&quot;06&quot;</td><td>6</td><td>6900.0</td><td>7</td><td>&quot;07&quot;</td><td>7</td><td>&quot;&nbsp;&nbsp;&quot;</td><td>&quot;07&quot;</td><td>8</td><td>66</td><td>1</td><td>0</td><td>2</td><td>0</td><td>0</td><td>0</td></tr><tr><td>&quot;TQRMNOPQUHMMKTCDEGKDB00475005&quot;</td><td>2016</td><td>2</td><td>1</td><td>1</td><td>43</td><td>&quot;N&quot;</td><td>14</td><td>66</td><td>1</td><td>null</td><td>4</td><td>1</td><td>null</td><td>4</td><td>1</td><td>1</td><td>1</td><td>null</td><td>1</td><td>1</td><td>1</td><td>1</td><td>2</td><td>2</td><td>2</td><td>4</td><td>1</td><td>2</td><td>0</td><td>1</td><td>1</td><td>1</td><td>2</td><td>0</td><td>2</td><td>0</td><td>&hellip;</td><td>2</td><td>2</td><td>2</td><td>2</td><td>2</td><td>2</td><td>2</td><td>2</td><td>1</td><td>2</td><td>2</td><td>2</td><td>2</td><td>2</td><td>0</td><td>2</td><td>25000</td><td>8</td><td>&quot;09&quot;</td><td>9</td><td>&quot;&nbsp;&nbsp;&quot;</td><td>&quot;09&quot;</td><td>9</td><td>12500.0</td><td>9</td><td>&quot;09&quot;</td><td>9</td><td>&quot;&nbsp;&nbsp;&quot;</td><td>&quot;09&quot;</td><td>10</td><td>81</td><td>2</td><td>0</td><td>98</td><td>0</td><td>0</td><td>0</td></tr><tr><td>&quot;TQRMNORVRHJMKSCDEGKDB00475324&quot;</td><td>2016</td><td>2</td><td>1</td><td>1</td><td>43</td><td>&quot;N&quot;</td><td>14</td><td>59</td><td>1</td><td>null</td><td>3</td><td>1</td><td>null</td><td>4</td><td>1</td><td>1</td><td>1</td><td>null</td><td>1</td><td>1</td><td>1</td><td>1</td><td>2</td><td>2</td><td>2</td><td>3</td><td>1</td><td>2</td><td>0</td><td>1</td><td>1</td><td>1</td><td>2</td><td>0</td><td>1</td><td>1</td><td>&hellip;</td><td>2</td><td>2</td><td>2</td><td>2</td><td>2</td><td>2</td><td>2</td><td>2</td><td>2</td><td>2</td><td>2</td><td>2</td><td>2</td><td>2</td><td>0</td><td>2</td><td>6000</td><td>2</td><td>&quot;02&quot;</td><td>2</td><td>&quot;&nbsp;&nbsp;&quot;</td><td>&quot;02&quot;</td><td>2</td><td>3000.0</td><td>3</td><td>&quot;03&quot;</td><td>3</td><td>&quot;&nbsp;&nbsp;&quot;</td><td>&quot;03&quot;</td><td>4</td><td>65</td><td>2</td><td>0</td><td>1</td><td>0</td><td>0</td><td>0</td></tr><tr><td>&hellip;</td><td>&hellip;</td><td>&hellip;</td><td>&hellip;</td><td>&hellip;</td><td>&hellip;</td><td>&hellip;</td><td>&hellip;</td><td>&hellip;</td><td>&hellip;</td><td>&hellip;</td><td>&hellip;</td><td>&hellip;</td><td>&hellip;</td><td>&hellip;</td><td>&hellip;</td><td>&hellip;</td><td>&hellip;</td><td>&hellip;</td><td>&hellip;</td><td>&hellip;</td><td>&hellip;</td><td>&hellip;</td><td>&hellip;</td><td>&hellip;</td><td>&hellip;</td><td>&hellip;</td><td>&hellip;</td><td>&hellip;</td><td>&hellip;</td><td>&hellip;</td><td>&hellip;</td><td>&hellip;</td><td>&hellip;</td><td>&hellip;</td><td>&hellip;</td><td>&hellip;</td><td>&hellip;</td><td>&hellip;</td><td>&hellip;</td><td>&hellip;</td><td>&hellip;</td><td>&hellip;</td><td>&hellip;</td><td>&hellip;</td><td>&hellip;</td><td>&hellip;</td><td>&hellip;</td><td>&hellip;</td><td>&hellip;</td><td>&hellip;</td><td>&hellip;</td><td>&hellip;</td><td>&hellip;</td><td>&hellip;</td><td>&hellip;</td><td>&hellip;</td><td>&hellip;</td><td>&hellip;</td><td>&hellip;</td><td>&hellip;</td><td>&hellip;</td><td>&hellip;</td><td>&hellip;</td><td>&hellip;</td><td>&hellip;</td><td>&hellip;</td><td>&hellip;</td><td>&hellip;</td><td>&hellip;</td><td>&hellip;</td><td>&hellip;</td><td>&hellip;</td><td>&hellip;</td><td>&hellip;</td></tr><tr><td>&quot;TQRMNOPXXHLKKUCDEFNFF00852324&quot;</td><td>2024</td><td>1</td><td>1</td><td>1</td><td>41</td><td>&quot;N&quot;</td><td>7</td><td>336</td><td>2</td><td>&quot;&quot;</td><td>3</td><td>1</td><td>&quot;&quot;</td><td>9</td><td>1</td><td>1</td><td>1</td><td>&quot;&quot;</td><td>1</td><td>1</td><td>1</td><td>1</td><td>2</td><td>2</td><td>2</td><td>3</td><td>2</td><td>2</td><td>0</td><td>1</td><td>1</td><td>2</td><td>2</td><td>0</td><td>2</td><td>0</td><td>&hellip;</td><td>2</td><td>2</td><td>2</td><td>2</td><td>2</td><td>2</td><td>2</td><td>2</td><td>1</td><td>2</td><td>2</td><td>2</td><td>2</td><td>3</td><td>0</td><td>3</td><td>0</td><td>12</td><td>&quot;12&quot;</td><td>12</td><td>&quot;&quot;</td><td>&quot;12&quot;</td><td>12</td><td>0.0</td><td>12</td><td>&quot;12&quot;</td><td>12</td><td>&quot;&quot;</td><td>&quot;12&quot;</td><td>12</td><td>0</td><td>96</td><td>0</td><td>2</td><td>3</td><td>0</td><td>0</td></tr><tr><td>&quot;TQRMNOPQTHKMLMCDEHMHF00861771&quot;</td><td>2024</td><td>1</td><td>1</td><td>1</td><td>42</td><td>&quot;N&quot;</td><td>26</td><td>141</td><td>1</td><td>&quot;&quot;</td><td>3</td><td>1</td><td>&quot;&quot;</td><td>2</td><td>1</td><td>1</td><td>1</td><td>&quot;&quot;</td><td>1</td><td>1</td><td>1</td><td>1</td><td>2</td><td>2</td><td>2</td><td>3</td><td>2</td><td>2</td><td>0</td><td>1</td><td>1</td><td>1</td><td>2</td><td>0</td><td>2</td><td>0</td><td>&hellip;</td><td>2</td><td>2</td><td>2</td><td>2</td><td>2</td><td>2</td><td>2</td><td>2</td><td>2</td><td>2</td><td>2</td><td>2</td><td>2</td><td>2</td><td>0</td><td>2</td><td>213569</td><td>2</td><td>&quot;2&quot;</td><td>2</td><td>&quot;&quot;</td><td>&quot;2&quot;</td><td>2</td><td>106784.5</td><td>3</td><td>&quot;3&quot;</td><td>3</td><td>&quot;&quot;</td><td>&quot;3&quot;</td><td>2</td><td>156</td><td>97</td><td>0</td><td>1</td><td>2</td><td>0</td><td>0</td></tr><tr><td>&quot;TQRMNOSYXHMMLNCDEFNFF00798999&quot;</td><td>2024</td><td>1</td><td>1</td><td>1</td><td>41</td><td>&quot;N&quot;</td><td>7</td><td>305</td><td>1</td><td>&quot;&quot;</td><td>4</td><td>2</td><td>&quot;&quot;</td><td>4</td><td>1</td><td>1</td><td>1</td><td>&quot;&quot;</td><td>1</td><td>1</td><td>1</td><td>3</td><td>2</td><td>2</td><td>2</td><td>4</td><td>3</td><td>2</td><td>0</td><td>1</td><td>2</td><td>2</td><td>2</td><td>0</td><td>2</td><td>0</td><td>&hellip;</td><td>2</td><td>2</td><td>2</td><td>1</td><td>2</td><td>2</td><td>2</td><td>2</td><td>2</td><td>2</td><td>2</td><td>2</td><td>2</td><td>6</td><td>1</td><td>5</td><td>253700</td><td>2</td><td>&quot;3&quot;</td><td>4</td><td>&quot;&quot;</td><td>&quot;3&quot;</td><td>3</td><td>42283.328125</td><td>1</td><td>&quot;1&quot;</td><td>1</td><td>&quot;&quot;</td><td>&quot;1&quot;</td><td>1</td><td>353</td><td>2</td><td>0</td><td>1</td><td>3</td><td>4</td><td>0</td></tr><tr><td>&quot;TQRMNOPTSHLOLQCDEFNFF00852331&quot;</td><td>2024</td><td>1</td><td>1</td><td>1</td><td>41</td><td>&quot;N&quot;</td><td>7</td><td>331</td><td>1</td><td>&quot;&quot;</td><td>4</td><td>1</td><td>&quot;&quot;</td><td>4</td><td>1</td><td>1</td><td>1</td><td>&quot;&quot;</td><td>1</td><td>1</td><td>1</td><td>2</td><td>2</td><td>2</td><td>2</td><td>4</td><td>1</td><td>2</td><td>0</td><td>1</td><td>2</td><td>2</td><td>2</td><td>0</td><td>2</td><td>0</td><td>&hellip;</td><td>2</td><td>2</td><td>2</td><td>2</td><td>2</td><td>1</td><td>2</td><td>2</td><td>1</td><td>2</td><td>2</td><td>2</td><td>2</td><td>1</td><td>0</td><td>1</td><td>213500</td><td>2</td><td>&quot;2&quot;</td><td>3</td><td>&quot;&quot;</td><td>&quot;2&quot;</td><td>3</td><td>213500.0</td><td>6</td><td>&quot;6&quot;</td><td>8</td><td>&quot;&quot;</td><td>&quot;6&quot;</td><td>7</td><td>420</td><td>97</td><td>0</td><td>98</td><td>0</td><td>0</td><td>0</td></tr><tr><td>&quot;TQRMNOVRSHKOKMCDEFOCD00861772&quot;</td><td>2024</td><td>1</td><td>1</td><td>1</td><td>41</td><td>&quot;N&quot;</td><td>8</td><td>231</td><td>1</td><td>&quot;&quot;</td><td>2</td><td>2</td><td>&quot;&quot;</td><td>4</td><td>2</td><td>2</td><td>1</td><td>&quot;&quot;</td><td>1</td><td>1</td><td>2</td><td>2</td><td>2</td><td>1</td><td>2</td><td>2</td><td>2</td><td>2</td><td>0</td><td>2</td><td>2</td><td>2</td><td>0</td><td>0</td><td>0</td><td>0</td><td>&hellip;</td><td>2</td><td>2</td><td>2</td><td>2</td><td>2</td><td>2</td><td>2</td><td>2</td><td>2</td><td>2</td><td>2</td><td>2</td><td>2</td><td>2</td><td>0</td><td>2</td><td>204000</td><td>2</td><td>&quot;2&quot;</td><td>3</td><td>&quot;&quot;</td><td>&quot;2&quot;</td><td>3</td><td>102000.0</td><td>3</td><td>&quot;3&quot;</td><td>4</td><td>&quot;&quot;</td><td>&quot;3&quot;</td><td>5</td><td>288</td><td>2</td><td>0</td><td>98</td><td>0</td><td>0</td><td>0</td></tr></tbody></table></div>"
      ],
      "text/plain": [
       "shape: (553_388, 88)\n",
       "┌───────────────────────────┬──────┬───────────┬───────────┬───┬────────┬────────┬────────┬────────┐\n",
       "│ CODUSU                    ┆ ANO4 ┆ TRIMESTRE ┆ NRO_HOGAR ┆ … ┆ VII2_1 ┆ VII2_2 ┆ VII2_3 ┆ VII2_4 │\n",
       "│ ---                       ┆ ---  ┆ ---       ┆ ---       ┆   ┆ ---    ┆ ---    ┆ ---    ┆ ---    │\n",
       "│ str                       ┆ i32  ┆ i32       ┆ i32       ┆   ┆ i32    ┆ i32    ┆ i32    ┆ i32    │\n",
       "╞═══════════════════════════╪══════╪═══════════╪═══════════╪═══╪════════╪════════╪════════╪════════╡\n",
       "│ TQRMNOQUXHKOKMCDEGKDB0047 ┆ 2016 ┆ 2         ┆ 1         ┆ … ┆ 98     ┆ 0      ┆ 0      ┆ 0      │\n",
       "│ 5140                      ┆      ┆           ┆           ┆   ┆        ┆        ┆        ┆        │\n",
       "│ TQRMNOQQYHMMKTCDEGKDB0047 ┆ 2016 ┆ 2         ┆ 1         ┆ … ┆ 98     ┆ 0      ┆ 0      ┆ 0      │\n",
       "│ 5009                      ┆      ┆           ┆           ┆   ┆        ┆        ┆        ┆        │\n",
       "│ TQRMNORVUHJMKSCDEGKDB0047 ┆ 2016 ┆ 2         ┆ 1         ┆ … ┆ 2      ┆ 0      ┆ 0      ┆ 0      │\n",
       "│ 5326                      ┆      ┆           ┆           ┆   ┆        ┆        ┆        ┆        │\n",
       "│ TQRMNOPQUHMMKTCDEGKDB0047 ┆ 2016 ┆ 2         ┆ 1         ┆ … ┆ 98     ┆ 0      ┆ 0      ┆ 0      │\n",
       "│ 5005                      ┆      ┆           ┆           ┆   ┆        ┆        ┆        ┆        │\n",
       "│ TQRMNORVRHJMKSCDEGKDB0047 ┆ 2016 ┆ 2         ┆ 1         ┆ … ┆ 1      ┆ 0      ┆ 0      ┆ 0      │\n",
       "│ 5324                      ┆      ┆           ┆           ┆   ┆        ┆        ┆        ┆        │\n",
       "│ …                         ┆ …    ┆ …         ┆ …         ┆ … ┆ …      ┆ …      ┆ …      ┆ …      │\n",
       "│ TQRMNOPXXHLKKUCDEFNFF0085 ┆ 2024 ┆ 1         ┆ 1         ┆ … ┆ 2      ┆ 3      ┆ 0      ┆ 0      │\n",
       "│ 2324                      ┆      ┆           ┆           ┆   ┆        ┆        ┆        ┆        │\n",
       "│ TQRMNOPQTHKMLMCDEHMHF0086 ┆ 2024 ┆ 1         ┆ 1         ┆ … ┆ 1      ┆ 2      ┆ 0      ┆ 0      │\n",
       "│ 1771                      ┆      ┆           ┆           ┆   ┆        ┆        ┆        ┆        │\n",
       "│ TQRMNOSYXHMMLNCDEFNFF0079 ┆ 2024 ┆ 1         ┆ 1         ┆ … ┆ 1      ┆ 3      ┆ 4      ┆ 0      │\n",
       "│ 8999                      ┆      ┆           ┆           ┆   ┆        ┆        ┆        ┆        │\n",
       "│ TQRMNOPTSHLOLQCDEFNFF0085 ┆ 2024 ┆ 1         ┆ 1         ┆ … ┆ 98     ┆ 0      ┆ 0      ┆ 0      │\n",
       "│ 2331                      ┆      ┆           ┆           ┆   ┆        ┆        ┆        ┆        │\n",
       "│ TQRMNOVRSHKOKMCDEFOCD0086 ┆ 2024 ┆ 1         ┆ 1         ┆ … ┆ 98     ┆ 0      ┆ 0      ┆ 0      │\n",
       "│ 1772                      ┆      ┆           ┆           ┆   ┆        ┆        ┆        ┆        │\n",
       "└───────────────────────────┴──────┴───────────┴───────────┴───┴────────┴────────┴────────┴────────┘"
      ]
     },
     "execution_count": 10,
     "metadata": {},
     "output_type": "execute_result"
    }
   ],
   "source": [
    "base_path = 'data/hogar'\n",
    "hogar_file_list = sorted(os.listdir(base_path))\n",
    "hogar_file_paths = [os.path.join(base_path, file) for file in hogar_file_list]\n",
    "\n",
    "hogar = process_txt_files(hogar_file_paths)\n",
    "hogar"
   ]
  },
  {
   "cell_type": "code",
   "execution_count": 11,
   "id": "3744eef3",
   "metadata": {},
   "outputs": [
    {
     "name": "stdout",
     "output_type": "stream",
     "text": [
      "DataFrame saved and compressed as data/hogar_data.zip\n"
     ]
    }
   ],
   "source": [
    "zip_file_path = \"data/hogar_data.zip\"\n",
    "csv_file_name = \"hogar_data.csv\"\n",
    "\n",
    "save_dataframe_as_zip(hogar, zip_file_path, csv_file_name)"
   ]
  },
  {
   "cell_type": "code",
   "execution_count": 12,
   "id": "44e19980",
   "metadata": {},
   "outputs": [
    {
     "name": "stdout",
     "output_type": "stream",
     "text": [
      "Processing file: data/individual/16-2T-individual.txt\n",
      "Processing file: data/individual/16-3T-individual.txt\n",
      "Processing file: data/individual/16-4T-individual.txt\n",
      "Processing file: data/individual/17-1T-individual.txt\n",
      "Processing file: data/individual/17-2T-individual.txt\n",
      "Processing file: data/individual/17-3T-individual.txt\n",
      "Processing file: data/individual/17-4T-individual.txt\n",
      "Processing file: data/individual/18-1T-individual.txt\n",
      "Processing file: data/individual/18-2T-individual.txt\n",
      "Processing file: data/individual/18-3T-individual.txt\n",
      "Processing file: data/individual/18-4T-individual.txt\n",
      "Processing file: data/individual/19-1T-individual.txt\n",
      "Processing file: data/individual/19-2T-individual.txt\n",
      "Processing file: data/individual/19-3T-individual.txt\n",
      "Processing file: data/individual/19-4T-individual.txt\n",
      "Processing file: data/individual/20-1T-individual.txt\n",
      "Processing file: data/individual/20-2T-individual.txt\n",
      "Processing file: data/individual/20-3T-individual.txt\n",
      "Processing file: data/individual/20-4T-individual.txt\n",
      "Processing file: data/individual/21-1T-individual.txt\n",
      "Processing file: data/individual/21-2T-individual.txt\n",
      "Processing file: data/individual/21-3T-individual.txt\n",
      "Processing file: data/individual/21-4T-individual.txt\n",
      "Processing file: data/individual/22-1T-individual.txt\n",
      "Processing file: data/individual/22-2T-individual.txt\n",
      "Processing file: data/individual/22-3T-individual.txt\n",
      "Processing file: data/individual/22-4T-individual.txt\n",
      "Processing file: data/individual/23-1T-individual.txt\n",
      "Processing file: data/individual/23-2T-individual.txt\n",
      "Processing file: data/individual/23-3T-individual.txt\n",
      "Processing file: data/individual/23-4T-individual.txt\n",
      "Processing file: data/individual/24-1T-individual.txt\n"
     ]
    },
    {
     "data": {
      "text/html": [
       "<div><style>\n",
       ".dataframe > thead > tr,\n",
       ".dataframe > tbody > tr {\n",
       "  text-align: right;\n",
       "  white-space: pre-wrap;\n",
       "}\n",
       "</style>\n",
       "<small>shape: (1_681_661, 177)</small><table border=\"1\" class=\"dataframe\"><thead><tr><th>CODUSU</th><th>ANO4</th><th>TRIMESTRE</th><th>NRO_HOGAR</th><th>COMPONENTE</th><th>H15</th><th>REGION</th><th>MAS_500</th><th>AGLOMERADO</th><th>PONDERA</th><th>CH03</th><th>CH04</th><th>CH05</th><th>CH06</th><th>CH07</th><th>CH08</th><th>CH09</th><th>CH10</th><th>CH11</th><th>CH12</th><th>CH13</th><th>CH14</th><th>CH15</th><th>CH15_COD</th><th>CH16</th><th>CH16_COD</th><th>NIVEL_ED</th><th>ESTADO</th><th>CAT_OCUP</th><th>CAT_INAC</th><th>IMPUTA</th><th>PP02C1</th><th>PP02C2</th><th>PP02C3</th><th>PP02C4</th><th>PP02C5</th><th>PP02C6</th><th>&hellip;</th><th>TOT_P12</th><th>P47T</th><th>DECINDR</th><th>IDECINDR</th><th>RDECINDR</th><th>GDECINDR</th><th>PDECINDR</th><th>ADECINDR</th><th>PONDII</th><th>V2_M</th><th>V3_M</th><th>V4_M</th><th>V5_M</th><th>V8_M</th><th>V9_M</th><th>V10_M</th><th>V11_M</th><th>V12_M</th><th>V18_M</th><th>V19_AM</th><th>V21_M</th><th>T_VI</th><th>ITF</th><th>DECIFR</th><th>IDECIFR</th><th>RDECIFR</th><th>GDECIFR</th><th>PDECIFR</th><th>ADECIFR</th><th>IPCF</th><th>DECCFR</th><th>IDECCFR</th><th>RDECCFR</th><th>GDECCFR</th><th>PDECCFR</th><th>ADECCFR</th><th>PONDIH</th></tr><tr><td>str</td><td>i32</td><td>i32</td><td>i32</td><td>i32</td><td>i32</td><td>i32</td><td>str</td><td>i32</td><td>i32</td><td>i32</td><td>i32</td><td>str</td><td>i32</td><td>i32</td><td>i32</td><td>i32</td><td>i32</td><td>i32</td><td>i32</td><td>i32</td><td>i32</td><td>i32</td><td>str</td><td>i32</td><td>str</td><td>i32</td><td>i32</td><td>i32</td><td>i32</td><td>i32</td><td>i32</td><td>i32</td><td>i32</td><td>i32</td><td>i32</td><td>i32</td><td>&hellip;</td><td>i32</td><td>i32</td><td>i32</td><td>str</td><td>i32</td><td>str</td><td>str</td><td>i32</td><td>i32</td><td>i32</td><td>i32</td><td>i32</td><td>i32</td><td>i32</td><td>f32</td><td>f32</td><td>i32</td><td>i32</td><td>i32</td><td>i32</td><td>i32</td><td>i32</td><td>i32</td><td>str</td><td>str</td><td>str</td><td>str</td><td>str</td><td>str</td><td>f32</td><td>str</td><td>str</td><td>str</td><td>str</td><td>str</td><td>str</td><td>i32</td></tr></thead><tbody><tr><td>&quot;TQRMNOQTUHMMTQCDEIJAH00483381&quot;</td><td>2016</td><td>2</td><td>1</td><td>1</td><td>1</td><td>1</td><td>&quot;S&quot;</td><td>33</td><td>892</td><td>1</td><td>1</td><td>&quot;02/06/1984&quot;</td><td>32</td><td>1</td><td>1</td><td>1</td><td>2</td><td>0</td><td>6</td><td>1</td><td>null</td><td>1</td><td>null</td><td>1</td><td>null</td><td>6</td><td>1</td><td>3</td><td>0</td><td>0</td><td>0</td><td>0</td><td>0</td><td>0</td><td>0</td><td>0</td><td>&hellip;</td><td>0</td><td>20000</td><td>10</td><td>&quot;&nbsp;&nbsp;&quot;</td><td>9</td><td>&quot;09&quot;</td><td>&quot;&nbsp;&nbsp;&quot;</td><td>10</td><td>1163</td><td>0</td><td>0</td><td>0</td><td>0</td><td>0</td><td>0.0</td><td>0.0</td><td>0</td><td>0</td><td>0</td><td>0</td><td>0</td><td>0</td><td>35600</td><td>&quot;10&quot;</td><td>&quot;&nbsp;&nbsp;&quot;</td><td>&quot;09&quot;</td><td>&quot;09&quot;</td><td>&quot;&nbsp;&nbsp;&quot;</td><td>&quot;10&quot;</td><td>11866.669922</td><td>&quot;09&quot;</td><td>&quot;&nbsp;&nbsp;&quot;</td><td>&quot;09&quot;</td><td>&quot;09&quot;</td><td>&quot;&nbsp;&nbsp;&quot;</td><td>&quot;09&quot;</td><td>1299</td></tr><tr><td>&quot;TQRMNOQTUHMMTQCDEIJAH00483381&quot;</td><td>2016</td><td>2</td><td>1</td><td>2</td><td>1</td><td>1</td><td>&quot;S&quot;</td><td>33</td><td>892</td><td>2</td><td>2</td><td>&quot;06/10/1981&quot;</td><td>34</td><td>1</td><td>1</td><td>1</td><td>2</td><td>0</td><td>7</td><td>2</td><td>4</td><td>3</td><td>&quot;tuc&quot;</td><td>1</td><td>null</td><td>5</td><td>1</td><td>3</td><td>0</td><td>0</td><td>0</td><td>0</td><td>0</td><td>0</td><td>0</td><td>0</td><td>&hellip;</td><td>0</td><td>15600</td><td>9</td><td>&quot;&nbsp;&nbsp;&quot;</td><td>9</td><td>&quot;09&quot;</td><td>&quot;&nbsp;&nbsp;&quot;</td><td>9</td><td>1164</td><td>0</td><td>0</td><td>0</td><td>0</td><td>0</td><td>0.0</td><td>0.0</td><td>0</td><td>0</td><td>0</td><td>0</td><td>0</td><td>0</td><td>35600</td><td>&quot;10&quot;</td><td>&quot;&nbsp;&nbsp;&quot;</td><td>&quot;09&quot;</td><td>&quot;09&quot;</td><td>&quot;&nbsp;&nbsp;&quot;</td><td>&quot;10&quot;</td><td>11866.669922</td><td>&quot;09&quot;</td><td>&quot;&nbsp;&nbsp;&quot;</td><td>&quot;09&quot;</td><td>&quot;09&quot;</td><td>&quot;&nbsp;&nbsp;&quot;</td><td>&quot;09&quot;</td><td>1299</td></tr><tr><td>&quot;TQRMNOQTUHMMTQCDEIJAH00483381&quot;</td><td>2016</td><td>2</td><td>1</td><td>3</td><td>1</td><td>1</td><td>&quot;S&quot;</td><td>33</td><td>892</td><td>3</td><td>1</td><td>&quot;22/05/1999&quot;</td><td>17</td><td>5</td><td>1</td><td>1</td><td>1</td><td>2</td><td>4</td><td>2</td><td>3</td><td>1</td><td>null</td><td>1</td><td>null</td><td>3</td><td>3</td><td>0</td><td>3</td><td>0</td><td>0</td><td>0</td><td>0</td><td>0</td><td>0</td><td>0</td><td>&hellip;</td><td>0</td><td>0</td><td>0</td><td>&quot;&nbsp;&nbsp;&quot;</td><td>0</td><td>&quot;00&quot;</td><td>&quot;&nbsp;&nbsp;&quot;</td><td>0</td><td>892</td><td>0</td><td>0</td><td>0</td><td>0</td><td>0</td><td>0.0</td><td>0.0</td><td>0</td><td>0</td><td>0</td><td>0</td><td>0</td><td>0</td><td>35600</td><td>&quot;10&quot;</td><td>&quot;&nbsp;&nbsp;&quot;</td><td>&quot;09&quot;</td><td>&quot;09&quot;</td><td>&quot;&nbsp;&nbsp;&quot;</td><td>&quot;10&quot;</td><td>11866.669922</td><td>&quot;09&quot;</td><td>&quot;&nbsp;&nbsp;&quot;</td><td>&quot;09&quot;</td><td>&quot;09&quot;</td><td>&quot;&nbsp;&nbsp;&quot;</td><td>&quot;09&quot;</td><td>1299</td></tr><tr><td>&quot;TQRMNOPSRHLOLRCDEIJAH00483068&quot;</td><td>2016</td><td>2</td><td>1</td><td>1</td><td>1</td><td>1</td><td>&quot;S&quot;</td><td>33</td><td>986</td><td>1</td><td>1</td><td>&quot;12/06/1975&quot;</td><td>41</td><td>2</td><td>1</td><td>1</td><td>1</td><td>1</td><td>7</td><td>2</td><td>2</td><td>1</td><td>null</td><td>1</td><td>null</td><td>5</td><td>1</td><td>3</td><td>0</td><td>0</td><td>0</td><td>0</td><td>0</td><td>0</td><td>0</td><td>0</td><td>&hellip;</td><td>0</td><td>30000</td><td>10</td><td>&quot;&nbsp;&nbsp;&quot;</td><td>10</td><td>&quot;10&quot;</td><td>&quot;&nbsp;&nbsp;&quot;</td><td>10</td><td>1253</td><td>0</td><td>0</td><td>0</td><td>0</td><td>0</td><td>0.0</td><td>0.0</td><td>0</td><td>0</td><td>0</td><td>0</td><td>0</td><td>0</td><td>49000</td><td>&quot;10&quot;</td><td>&quot;&nbsp;&nbsp;&quot;</td><td>&quot;10&quot;</td><td>&quot;10&quot;</td><td>&quot;&nbsp;&nbsp;&quot;</td><td>&quot;10&quot;</td><td>16333.330078</td><td>&quot;10&quot;</td><td>&quot;&nbsp;&nbsp;&quot;</td><td>&quot;10&quot;</td><td>&quot;10&quot;</td><td>&quot;&nbsp;&nbsp;&quot;</td><td>&quot;10&quot;</td><td>1507</td></tr><tr><td>&quot;TQRMNORUVHLNMNCDEIJAH00484887&quot;</td><td>2016</td><td>2</td><td>1</td><td>4</td><td>1</td><td>1</td><td>&quot;S&quot;</td><td>33</td><td>1318</td><td>3</td><td>2</td><td>&quot;04/03/2005&quot;</td><td>11</td><td>5</td><td>1</td><td>1</td><td>1</td><td>2</td><td>2</td><td>2</td><td>5</td><td>1</td><td>null</td><td>1</td><td>null</td><td>1</td><td>3</td><td>0</td><td>3</td><td>0</td><td>0</td><td>0</td><td>0</td><td>0</td><td>0</td><td>0</td><td>&hellip;</td><td>0</td><td>0</td><td>0</td><td>&quot;&nbsp;&nbsp;&quot;</td><td>0</td><td>&quot;00&quot;</td><td>&quot;&nbsp;&nbsp;&quot;</td><td>0</td><td>1318</td><td>0</td><td>0</td><td>0</td><td>0</td><td>0</td><td>0.0</td><td>0.0</td><td>0</td><td>0</td><td>0</td><td>0</td><td>0</td><td>0</td><td>27000</td><td>&quot;09&quot;</td><td>&quot;&nbsp;&nbsp;&quot;</td><td>&quot;08&quot;</td><td>&quot;09&quot;</td><td>&quot;&nbsp;&nbsp;&quot;</td><td>&quot;09&quot;</td><td>6750.0</td><td>&quot;07&quot;</td><td>&quot;&nbsp;&nbsp;&quot;</td><td>&quot;06&quot;</td><td>&quot;07&quot;</td><td>&quot;&nbsp;&nbsp;&quot;</td><td>&quot;07&quot;</td><td>2013</td></tr><tr><td>&hellip;</td><td>&hellip;</td><td>&hellip;</td><td>&hellip;</td><td>&hellip;</td><td>&hellip;</td><td>&hellip;</td><td>&hellip;</td><td>&hellip;</td><td>&hellip;</td><td>&hellip;</td><td>&hellip;</td><td>&hellip;</td><td>&hellip;</td><td>&hellip;</td><td>&hellip;</td><td>&hellip;</td><td>&hellip;</td><td>&hellip;</td><td>&hellip;</td><td>&hellip;</td><td>&hellip;</td><td>&hellip;</td><td>&hellip;</td><td>&hellip;</td><td>&hellip;</td><td>&hellip;</td><td>&hellip;</td><td>&hellip;</td><td>&hellip;</td><td>&hellip;</td><td>&hellip;</td><td>&hellip;</td><td>&hellip;</td><td>&hellip;</td><td>&hellip;</td><td>&hellip;</td><td>&hellip;</td><td>&hellip;</td><td>&hellip;</td><td>&hellip;</td><td>&hellip;</td><td>&hellip;</td><td>&hellip;</td><td>&hellip;</td><td>&hellip;</td><td>&hellip;</td><td>&hellip;</td><td>&hellip;</td><td>&hellip;</td><td>&hellip;</td><td>&hellip;</td><td>&hellip;</td><td>&hellip;</td><td>&hellip;</td><td>&hellip;</td><td>&hellip;</td><td>&hellip;</td><td>&hellip;</td><td>&hellip;</td><td>&hellip;</td><td>&hellip;</td><td>&hellip;</td><td>&hellip;</td><td>&hellip;</td><td>&hellip;</td><td>&hellip;</td><td>&hellip;</td><td>&hellip;</td><td>&hellip;</td><td>&hellip;</td><td>&hellip;</td><td>&hellip;</td><td>&hellip;</td><td>&hellip;</td></tr><tr><td>&quot;TQRMNOPUQHKMKNCDEIJAH00861661&quot;</td><td>2024</td><td>1</td><td>1</td><td>1</td><td>1</td><td>1</td><td>&quot;S&quot;</td><td>33</td><td>3410</td><td>1</td><td>2</td><td>&quot;18/08/1980&quot;</td><td>43</td><td>3</td><td>1</td><td>1</td><td>2</td><td>0</td><td>4</td><td>2</td><td>0</td><td>1</td><td>&quot;&quot;</td><td>1</td><td>&quot;&quot;</td><td>3</td><td>1</td><td>3</td><td>0</td><td>null</td><td>0</td><td>0</td><td>0</td><td>0</td><td>0</td><td>0</td><td>&hellip;</td><td>-9</td><td>-9</td><td>12</td><td>&quot;&quot;</td><td>12</td><td>&quot;12&quot;</td><td>&quot;&quot;</td><td>12</td><td>0</td><td>0</td><td>0</td><td>0</td><td>0</td><td>0</td><td>0.0</td><td>0.0</td><td>0</td><td>0</td><td>0</td><td>0</td><td>0</td><td>0</td><td>0</td><td>&quot;12&quot;</td><td>&quot;&quot;</td><td>&quot;12&quot;</td><td>&quot;12&quot;</td><td>&quot;&quot;</td><td>&quot;12&quot;</td><td>0.0</td><td>&quot;12&quot;</td><td>&quot;&quot;</td><td>&quot;12&quot;</td><td>&quot;12&quot;</td><td>&quot;&quot;</td><td>&quot;12&quot;</td><td>0</td></tr><tr><td>&quot;TQRMNOPUQHKMKNCDEIJAH00861661&quot;</td><td>2024</td><td>1</td><td>1</td><td>2</td><td>2</td><td>1</td><td>&quot;S&quot;</td><td>33</td><td>3410</td><td>3</td><td>1</td><td>&quot;18/03/2002&quot;</td><td>21</td><td>5</td><td>1</td><td>1</td><td>1</td><td>1</td><td>4</td><td>2</td><td>2</td><td>1</td><td>&quot;&quot;</td><td>1</td><td>&quot;&quot;</td><td>3</td><td>0</td><td>0</td><td>0</td><td>null</td><td>0</td><td>0</td><td>0</td><td>0</td><td>0</td><td>0</td><td>&hellip;</td><td>0</td><td>null</td><td>13</td><td>&quot;&quot;</td><td>13</td><td>&quot;13&quot;</td><td>&quot;&quot;</td><td>13</td><td>3410</td><td>0</td><td>0</td><td>0</td><td>0</td><td>0</td><td>0.0</td><td>0.0</td><td>0</td><td>0</td><td>0</td><td>0</td><td>0</td><td>0</td><td>0</td><td>&quot;12&quot;</td><td>&quot;&quot;</td><td>&quot;12&quot;</td><td>&quot;12&quot;</td><td>&quot;&quot;</td><td>&quot;12&quot;</td><td>0.0</td><td>&quot;12&quot;</td><td>&quot;&quot;</td><td>&quot;12&quot;</td><td>&quot;12&quot;</td><td>&quot;&quot;</td><td>&quot;12&quot;</td><td>0</td></tr><tr><td>&quot;TQRMNOPUQHKMKNCDEIJAH00861661&quot;</td><td>2024</td><td>1</td><td>1</td><td>3</td><td>2</td><td>1</td><td>&quot;S&quot;</td><td>33</td><td>3410</td><td>3</td><td>1</td><td>&quot;03/01/2004&quot;</td><td>20</td><td>5</td><td>1</td><td>1</td><td>1</td><td>1</td><td>4</td><td>2</td><td>3</td><td>1</td><td>&quot;&quot;</td><td>1</td><td>&quot;&quot;</td><td>3</td><td>0</td><td>0</td><td>0</td><td>null</td><td>0</td><td>0</td><td>0</td><td>0</td><td>0</td><td>0</td><td>&hellip;</td><td>0</td><td>null</td><td>13</td><td>&quot;&quot;</td><td>13</td><td>&quot;13&quot;</td><td>&quot;&quot;</td><td>13</td><td>3410</td><td>0</td><td>0</td><td>0</td><td>0</td><td>0</td><td>0.0</td><td>0.0</td><td>0</td><td>0</td><td>0</td><td>0</td><td>0</td><td>0</td><td>0</td><td>&quot;12&quot;</td><td>&quot;&quot;</td><td>&quot;12&quot;</td><td>&quot;12&quot;</td><td>&quot;&quot;</td><td>&quot;12&quot;</td><td>0.0</td><td>&quot;12&quot;</td><td>&quot;&quot;</td><td>&quot;12&quot;</td><td>&quot;12&quot;</td><td>&quot;&quot;</td><td>&quot;12&quot;</td><td>0</td></tr><tr><td>&quot;TQRMNOPUQHKMKNCDEIJAH00861661&quot;</td><td>2024</td><td>1</td><td>1</td><td>4</td><td>2</td><td>1</td><td>&quot;S&quot;</td><td>33</td><td>3410</td><td>3</td><td>1</td><td>&quot;28/05/2012&quot;</td><td>11</td><td>5</td><td>1</td><td>1</td><td>1</td><td>1</td><td>4</td><td>2</td><td>0</td><td>1</td><td>&quot;&quot;</td><td>1</td><td>&quot;&quot;</td><td>3</td><td>0</td><td>0</td><td>0</td><td>null</td><td>0</td><td>0</td><td>0</td><td>0</td><td>0</td><td>0</td><td>&hellip;</td><td>0</td><td>null</td><td>13</td><td>&quot;&quot;</td><td>13</td><td>&quot;13&quot;</td><td>&quot;&quot;</td><td>13</td><td>3410</td><td>0</td><td>0</td><td>0</td><td>0</td><td>0</td><td>0.0</td><td>0.0</td><td>0</td><td>0</td><td>0</td><td>0</td><td>0</td><td>0</td><td>0</td><td>&quot;12&quot;</td><td>&quot;&quot;</td><td>&quot;12&quot;</td><td>&quot;12&quot;</td><td>&quot;&quot;</td><td>&quot;12&quot;</td><td>0.0</td><td>&quot;12&quot;</td><td>&quot;&quot;</td><td>&quot;12&quot;</td><td>&quot;12&quot;</td><td>&quot;&quot;</td><td>&quot;12&quot;</td><td>0</td></tr><tr><td>&quot;TQRMNOPUQHKMKNCDEIJAH00861661&quot;</td><td>2024</td><td>1</td><td>1</td><td>5</td><td>2</td><td>1</td><td>&quot;S&quot;</td><td>33</td><td>3410</td><td>3</td><td>2</td><td>&quot;10/04/1999&quot;</td><td>24</td><td>5</td><td>1</td><td>1</td><td>1</td><td>1</td><td>7</td><td>2</td><td>2</td><td>1</td><td>&quot;&quot;</td><td>1</td><td>&quot;&quot;</td><td>5</td><td>0</td><td>0</td><td>0</td><td>null</td><td>0</td><td>0</td><td>0</td><td>0</td><td>0</td><td>0</td><td>&hellip;</td><td>0</td><td>null</td><td>13</td><td>&quot;&quot;</td><td>13</td><td>&quot;13&quot;</td><td>&quot;&quot;</td><td>13</td><td>3410</td><td>0</td><td>0</td><td>0</td><td>0</td><td>0</td><td>0.0</td><td>0.0</td><td>0</td><td>0</td><td>0</td><td>0</td><td>0</td><td>0</td><td>0</td><td>&quot;12&quot;</td><td>&quot;&quot;</td><td>&quot;12&quot;</td><td>&quot;12&quot;</td><td>&quot;&quot;</td><td>&quot;12&quot;</td><td>0.0</td><td>&quot;12&quot;</td><td>&quot;&quot;</td><td>&quot;12&quot;</td><td>&quot;12&quot;</td><td>&quot;&quot;</td><td>&quot;12&quot;</td><td>0</td></tr></tbody></table></div>"
      ],
      "text/plain": [
       "shape: (1_681_661, 177)\n",
       "┌────────────────────────┬──────┬───────────┬───────────┬───┬─────────┬─────────┬─────────┬────────┐\n",
       "│ CODUSU                 ┆ ANO4 ┆ TRIMESTRE ┆ NRO_HOGAR ┆ … ┆ GDECCFR ┆ PDECCFR ┆ ADECCFR ┆ PONDIH │\n",
       "│ ---                    ┆ ---  ┆ ---       ┆ ---       ┆   ┆ ---     ┆ ---     ┆ ---     ┆ ---    │\n",
       "│ str                    ┆ i32  ┆ i32       ┆ i32       ┆   ┆ str     ┆ str     ┆ str     ┆ i32    │\n",
       "╞════════════════════════╪══════╪═══════════╪═══════════╪═══╪═════════╪═════════╪═════════╪════════╡\n",
       "│ TQRMNOQTUHMMTQCDEIJAH0 ┆ 2016 ┆ 2         ┆ 1         ┆ … ┆ 09      ┆         ┆ 09      ┆ 1299   │\n",
       "│ 0483381                ┆      ┆           ┆           ┆   ┆         ┆         ┆         ┆        │\n",
       "│ TQRMNOQTUHMMTQCDEIJAH0 ┆ 2016 ┆ 2         ┆ 1         ┆ … ┆ 09      ┆         ┆ 09      ┆ 1299   │\n",
       "│ 0483381                ┆      ┆           ┆           ┆   ┆         ┆         ┆         ┆        │\n",
       "│ TQRMNOQTUHMMTQCDEIJAH0 ┆ 2016 ┆ 2         ┆ 1         ┆ … ┆ 09      ┆         ┆ 09      ┆ 1299   │\n",
       "│ 0483381                ┆      ┆           ┆           ┆   ┆         ┆         ┆         ┆        │\n",
       "│ TQRMNOPSRHLOLRCDEIJAH0 ┆ 2016 ┆ 2         ┆ 1         ┆ … ┆ 10      ┆         ┆ 10      ┆ 1507   │\n",
       "│ 0483068                ┆      ┆           ┆           ┆   ┆         ┆         ┆         ┆        │\n",
       "│ TQRMNORUVHLNMNCDEIJAH0 ┆ 2016 ┆ 2         ┆ 1         ┆ … ┆ 07      ┆         ┆ 07      ┆ 2013   │\n",
       "│ 0484887                ┆      ┆           ┆           ┆   ┆         ┆         ┆         ┆        │\n",
       "│ …                      ┆ …    ┆ …         ┆ …         ┆ … ┆ …       ┆ …       ┆ …       ┆ …      │\n",
       "│ TQRMNOPUQHKMKNCDEIJAH0 ┆ 2024 ┆ 1         ┆ 1         ┆ … ┆ 12      ┆         ┆ 12      ┆ 0      │\n",
       "│ 0861661                ┆      ┆           ┆           ┆   ┆         ┆         ┆         ┆        │\n",
       "│ TQRMNOPUQHKMKNCDEIJAH0 ┆ 2024 ┆ 1         ┆ 1         ┆ … ┆ 12      ┆         ┆ 12      ┆ 0      │\n",
       "│ 0861661                ┆      ┆           ┆           ┆   ┆         ┆         ┆         ┆        │\n",
       "│ TQRMNOPUQHKMKNCDEIJAH0 ┆ 2024 ┆ 1         ┆ 1         ┆ … ┆ 12      ┆         ┆ 12      ┆ 0      │\n",
       "│ 0861661                ┆      ┆           ┆           ┆   ┆         ┆         ┆         ┆        │\n",
       "│ TQRMNOPUQHKMKNCDEIJAH0 ┆ 2024 ┆ 1         ┆ 1         ┆ … ┆ 12      ┆         ┆ 12      ┆ 0      │\n",
       "│ 0861661                ┆      ┆           ┆           ┆   ┆         ┆         ┆         ┆        │\n",
       "│ TQRMNOPUQHKMKNCDEIJAH0 ┆ 2024 ┆ 1         ┆ 1         ┆ … ┆ 12      ┆         ┆ 12      ┆ 0      │\n",
       "│ 0861661                ┆      ┆           ┆           ┆   ┆         ┆         ┆         ┆        │\n",
       "└────────────────────────┴──────┴───────────┴───────────┴───┴─────────┴─────────┴─────────┴────────┘"
      ]
     },
     "execution_count": 12,
     "metadata": {},
     "output_type": "execute_result"
    }
   ],
   "source": [
    "base_path = 'data/individual'\n",
    "individual_file_list = sorted(os.listdir(base_path))\n",
    "individual_file_paths = [os.path.join(base_path, file)\n",
    "                         for file in individual_file_list]\n",
    "\n",
    "schema_overrides = {'PP3E_TOT': pl.Float32, 'PP3F_TOT': pl.Float32,\n",
    "                    'PP08J1': pl.Float32, 'V9_M': pl.Float32,\n",
    "                    'PP08J2': pl.Float32, 'V10_M': pl.Float32,\n",
    "                    'PP08J3': pl.Float32}\n",
    "\n",
    "individual = process_txt_files(individual_file_paths, schema_overrides)\n",
    "individual"
   ]
  },
  {
   "cell_type": "code",
   "execution_count": 13,
   "id": "86871a5a",
   "metadata": {},
   "outputs": [
    {
     "name": "stdout",
     "output_type": "stream",
     "text": [
      "DataFrame saved and compressed as data/individual_data.zip\n"
     ]
    }
   ],
   "source": [
    "zip_file_path = \"data/individual_data.zip\"\n",
    "csv_file_name = \"individual_data.csv\"\n",
    "\n",
    "save_dataframe_as_zip(individual, zip_file_path, csv_file_name)"
   ]
  },
  {
   "cell_type": "code",
   "execution_count": 14,
   "id": "bc29c976",
   "metadata": {},
   "outputs": [],
   "source": [
    "shutil.rmtree('data/hogar')\n",
    "shutil.rmtree('data/individual')"
   ]
  }
 ],
 "metadata": {
  "kernelspec": {
   "display_name": "eph",
   "language": "python",
   "name": "python3"
  },
  "language_info": {
   "codemirror_mode": {
    "name": "ipython",
    "version": 3
   },
   "file_extension": ".py",
   "mimetype": "text/x-python",
   "name": "python",
   "nbconvert_exporter": "python",
   "pygments_lexer": "ipython3",
   "version": "3.13.0"
  }
 },
 "nbformat": 4,
 "nbformat_minor": 5
}
